{
  "nbformat": 4,
  "nbformat_minor": 0,
  "metadata": {
    "colab": {
      "name": "Insights_Auto Rec.ipynb",
      "provenance": [],
      "collapsed_sections": [],
      "authorship_tag": "ABX9TyMtG/Dyd78iLcsJI5xQJSOk",
      "include_colab_link": true
    },
    "kernelspec": {
      "name": "python3",
      "display_name": "Python 3"
    },
    "widgets": {
      "application/vnd.jupyter.widget-state+json": {
        "0e6b06d9c8034134b16bef0b0ae1fe7c": {
          "model_module": "@jupyter-widgets/controls",
          "model_name": "HBoxModel",
          "state": {
            "_view_name": "HBoxView",
            "_dom_classes": [],
            "_model_name": "HBoxModel",
            "_view_module": "@jupyter-widgets/controls",
            "_model_module_version": "1.5.0",
            "_view_count": null,
            "_view_module_version": "1.5.0",
            "box_style": "",
            "layout": "IPY_MODEL_b7d473b748c242c9943b4a9f3cc5441d",
            "_model_module": "@jupyter-widgets/controls",
            "children": [
              "IPY_MODEL_3f8c164a59af49df9ae213cc2aa3ec17",
              "IPY_MODEL_636266fe3daf4963846600782909d8e8"
            ]
          }
        },
        "b7d473b748c242c9943b4a9f3cc5441d": {
          "model_module": "@jupyter-widgets/base",
          "model_name": "LayoutModel",
          "state": {
            "_view_name": "LayoutView",
            "grid_template_rows": null,
            "right": null,
            "justify_content": null,
            "_view_module": "@jupyter-widgets/base",
            "overflow": null,
            "_model_module_version": "1.2.0",
            "_view_count": null,
            "flex_flow": null,
            "width": null,
            "min_width": null,
            "border": null,
            "align_items": null,
            "bottom": null,
            "_model_module": "@jupyter-widgets/base",
            "top": null,
            "grid_column": null,
            "overflow_y": null,
            "overflow_x": null,
            "grid_auto_flow": null,
            "grid_area": null,
            "grid_template_columns": null,
            "flex": null,
            "_model_name": "LayoutModel",
            "justify_items": null,
            "grid_row": null,
            "max_height": null,
            "align_content": null,
            "visibility": null,
            "align_self": null,
            "height": null,
            "min_height": null,
            "padding": null,
            "grid_auto_rows": null,
            "grid_gap": null,
            "max_width": null,
            "order": null,
            "_view_module_version": "1.2.0",
            "grid_template_areas": null,
            "object_position": null,
            "object_fit": null,
            "grid_auto_columns": null,
            "margin": null,
            "display": null,
            "left": null
          }
        },
        "3f8c164a59af49df9ae213cc2aa3ec17": {
          "model_module": "@jupyter-widgets/controls",
          "model_name": "IntProgressModel",
          "state": {
            "_view_name": "ProgressView",
            "style": "IPY_MODEL_245159f45c4a4f298aef66eea7deced4",
            "_dom_classes": [],
            "description": "Epoch",
            "_model_name": "IntProgressModel",
            "bar_style": "success",
            "max": 3,
            "_view_module": "@jupyter-widgets/controls",
            "_model_module_version": "1.5.0",
            "value": 3,
            "_view_count": null,
            "_view_module_version": "1.5.0",
            "orientation": "horizontal",
            "min": 0,
            "description_tooltip": null,
            "_model_module": "@jupyter-widgets/controls",
            "layout": "IPY_MODEL_2e8985ad97a847a0a856c69280e17e57"
          }
        },
        "636266fe3daf4963846600782909d8e8": {
          "model_module": "@jupyter-widgets/controls",
          "model_name": "HTMLModel",
          "state": {
            "_view_name": "HTMLView",
            "style": "IPY_MODEL_48d4a337a49642b9b8cadd66f4b32755",
            "_dom_classes": [],
            "description": "",
            "_model_name": "HTMLModel",
            "placeholder": "​",
            "_view_module": "@jupyter-widgets/controls",
            "_model_module_version": "1.5.0",
            "value": "100% 3/3 [00:50&lt;00:00, 16.26s/it]",
            "_view_count": null,
            "_view_module_version": "1.5.0",
            "description_tooltip": null,
            "_model_module": "@jupyter-widgets/controls",
            "layout": "IPY_MODEL_85cdaccf764048be8a0cdafb4d68e0a8"
          }
        },
        "245159f45c4a4f298aef66eea7deced4": {
          "model_module": "@jupyter-widgets/controls",
          "model_name": "ProgressStyleModel",
          "state": {
            "_view_name": "StyleView",
            "_model_name": "ProgressStyleModel",
            "description_width": "initial",
            "_view_module": "@jupyter-widgets/base",
            "_model_module_version": "1.5.0",
            "_view_count": null,
            "_view_module_version": "1.2.0",
            "bar_color": null,
            "_model_module": "@jupyter-widgets/controls"
          }
        },
        "2e8985ad97a847a0a856c69280e17e57": {
          "model_module": "@jupyter-widgets/base",
          "model_name": "LayoutModel",
          "state": {
            "_view_name": "LayoutView",
            "grid_template_rows": null,
            "right": null,
            "justify_content": null,
            "_view_module": "@jupyter-widgets/base",
            "overflow": null,
            "_model_module_version": "1.2.0",
            "_view_count": null,
            "flex_flow": null,
            "width": null,
            "min_width": null,
            "border": null,
            "align_items": null,
            "bottom": null,
            "_model_module": "@jupyter-widgets/base",
            "top": null,
            "grid_column": null,
            "overflow_y": null,
            "overflow_x": null,
            "grid_auto_flow": null,
            "grid_area": null,
            "grid_template_columns": null,
            "flex": null,
            "_model_name": "LayoutModel",
            "justify_items": null,
            "grid_row": null,
            "max_height": null,
            "align_content": null,
            "visibility": null,
            "align_self": null,
            "height": null,
            "min_height": null,
            "padding": null,
            "grid_auto_rows": null,
            "grid_gap": null,
            "max_width": null,
            "order": null,
            "_view_module_version": "1.2.0",
            "grid_template_areas": null,
            "object_position": null,
            "object_fit": null,
            "grid_auto_columns": null,
            "margin": null,
            "display": null,
            "left": null
          }
        },
        "48d4a337a49642b9b8cadd66f4b32755": {
          "model_module": "@jupyter-widgets/controls",
          "model_name": "DescriptionStyleModel",
          "state": {
            "_view_name": "StyleView",
            "_model_name": "DescriptionStyleModel",
            "description_width": "",
            "_view_module": "@jupyter-widgets/base",
            "_model_module_version": "1.5.0",
            "_view_count": null,
            "_view_module_version": "1.2.0",
            "_model_module": "@jupyter-widgets/controls"
          }
        },
        "85cdaccf764048be8a0cdafb4d68e0a8": {
          "model_module": "@jupyter-widgets/base",
          "model_name": "LayoutModel",
          "state": {
            "_view_name": "LayoutView",
            "grid_template_rows": null,
            "right": null,
            "justify_content": null,
            "_view_module": "@jupyter-widgets/base",
            "overflow": null,
            "_model_module_version": "1.2.0",
            "_view_count": null,
            "flex_flow": null,
            "width": null,
            "min_width": null,
            "border": null,
            "align_items": null,
            "bottom": null,
            "_model_module": "@jupyter-widgets/base",
            "top": null,
            "grid_column": null,
            "overflow_y": null,
            "overflow_x": null,
            "grid_auto_flow": null,
            "grid_area": null,
            "grid_template_columns": null,
            "flex": null,
            "_model_name": "LayoutModel",
            "justify_items": null,
            "grid_row": null,
            "max_height": null,
            "align_content": null,
            "visibility": null,
            "align_self": null,
            "height": null,
            "min_height": null,
            "padding": null,
            "grid_auto_rows": null,
            "grid_gap": null,
            "max_width": null,
            "order": null,
            "_view_module_version": "1.2.0",
            "grid_template_areas": null,
            "object_position": null,
            "object_fit": null,
            "grid_auto_columns": null,
            "margin": null,
            "display": null,
            "left": null
          }
        },
        "abc1821d984645608c3c313573e710fd": {
          "model_module": "@jupyter-widgets/controls",
          "model_name": "HBoxModel",
          "state": {
            "_view_name": "HBoxView",
            "_dom_classes": [],
            "_model_name": "HBoxModel",
            "_view_module": "@jupyter-widgets/controls",
            "_model_module_version": "1.5.0",
            "_view_count": null,
            "_view_module_version": "1.5.0",
            "box_style": "",
            "layout": "IPY_MODEL_8e880fdb19914b939b00290d35a1a499",
            "_model_module": "@jupyter-widgets/controls",
            "children": [
              "IPY_MODEL_e648a14c64e7487b8323cdbe62a935f2",
              "IPY_MODEL_dc48ac207f80428e948f1ffd11022cdc"
            ]
          }
        },
        "8e880fdb19914b939b00290d35a1a499": {
          "model_module": "@jupyter-widgets/base",
          "model_name": "LayoutModel",
          "state": {
            "_view_name": "LayoutView",
            "grid_template_rows": null,
            "right": null,
            "justify_content": null,
            "_view_module": "@jupyter-widgets/base",
            "overflow": null,
            "_model_module_version": "1.2.0",
            "_view_count": null,
            "flex_flow": null,
            "width": null,
            "min_width": null,
            "border": null,
            "align_items": null,
            "bottom": null,
            "_model_module": "@jupyter-widgets/base",
            "top": null,
            "grid_column": null,
            "overflow_y": null,
            "overflow_x": null,
            "grid_auto_flow": null,
            "grid_area": null,
            "grid_template_columns": null,
            "flex": null,
            "_model_name": "LayoutModel",
            "justify_items": null,
            "grid_row": null,
            "max_height": null,
            "align_content": null,
            "visibility": null,
            "align_self": null,
            "height": null,
            "min_height": null,
            "padding": null,
            "grid_auto_rows": null,
            "grid_gap": null,
            "max_width": null,
            "order": null,
            "_view_module_version": "1.2.0",
            "grid_template_areas": null,
            "object_position": null,
            "object_fit": null,
            "grid_auto_columns": null,
            "margin": null,
            "display": null,
            "left": null
          }
        },
        "e648a14c64e7487b8323cdbe62a935f2": {
          "model_module": "@jupyter-widgets/controls",
          "model_name": "IntProgressModel",
          "state": {
            "_view_name": "ProgressView",
            "style": "IPY_MODEL_706331eb6bc84c56bd1714ff688a15d7",
            "_dom_classes": [],
            "description": "Epoch",
            "_model_name": "IntProgressModel",
            "bar_style": "success",
            "max": 3,
            "_view_module": "@jupyter-widgets/controls",
            "_model_module_version": "1.5.0",
            "value": 3,
            "_view_count": null,
            "_view_module_version": "1.5.0",
            "orientation": "horizontal",
            "min": 0,
            "description_tooltip": null,
            "_model_module": "@jupyter-widgets/controls",
            "layout": "IPY_MODEL_25230b06a4f84bee8452dda6fb4390b6"
          }
        },
        "dc48ac207f80428e948f1ffd11022cdc": {
          "model_module": "@jupyter-widgets/controls",
          "model_name": "HTMLModel",
          "state": {
            "_view_name": "HTMLView",
            "style": "IPY_MODEL_f8f462d8f53b4280896d6e7cf143f77f",
            "_dom_classes": [],
            "description": "",
            "_model_name": "HTMLModel",
            "placeholder": "​",
            "_view_module": "@jupyter-widgets/controls",
            "_model_module_version": "1.5.0",
            "value": "100% 3/3 [00:48&lt;00:00, 15.56s/it]",
            "_view_count": null,
            "_view_module_version": "1.5.0",
            "description_tooltip": null,
            "_model_module": "@jupyter-widgets/controls",
            "layout": "IPY_MODEL_5496e364642f45bb812e0d69a4fa2b04"
          }
        },
        "706331eb6bc84c56bd1714ff688a15d7": {
          "model_module": "@jupyter-widgets/controls",
          "model_name": "ProgressStyleModel",
          "state": {
            "_view_name": "StyleView",
            "_model_name": "ProgressStyleModel",
            "description_width": "initial",
            "_view_module": "@jupyter-widgets/base",
            "_model_module_version": "1.5.0",
            "_view_count": null,
            "_view_module_version": "1.2.0",
            "bar_color": null,
            "_model_module": "@jupyter-widgets/controls"
          }
        },
        "25230b06a4f84bee8452dda6fb4390b6": {
          "model_module": "@jupyter-widgets/base",
          "model_name": "LayoutModel",
          "state": {
            "_view_name": "LayoutView",
            "grid_template_rows": null,
            "right": null,
            "justify_content": null,
            "_view_module": "@jupyter-widgets/base",
            "overflow": null,
            "_model_module_version": "1.2.0",
            "_view_count": null,
            "flex_flow": null,
            "width": null,
            "min_width": null,
            "border": null,
            "align_items": null,
            "bottom": null,
            "_model_module": "@jupyter-widgets/base",
            "top": null,
            "grid_column": null,
            "overflow_y": null,
            "overflow_x": null,
            "grid_auto_flow": null,
            "grid_area": null,
            "grid_template_columns": null,
            "flex": null,
            "_model_name": "LayoutModel",
            "justify_items": null,
            "grid_row": null,
            "max_height": null,
            "align_content": null,
            "visibility": null,
            "align_self": null,
            "height": null,
            "min_height": null,
            "padding": null,
            "grid_auto_rows": null,
            "grid_gap": null,
            "max_width": null,
            "order": null,
            "_view_module_version": "1.2.0",
            "grid_template_areas": null,
            "object_position": null,
            "object_fit": null,
            "grid_auto_columns": null,
            "margin": null,
            "display": null,
            "left": null
          }
        },
        "f8f462d8f53b4280896d6e7cf143f77f": {
          "model_module": "@jupyter-widgets/controls",
          "model_name": "DescriptionStyleModel",
          "state": {
            "_view_name": "StyleView",
            "_model_name": "DescriptionStyleModel",
            "description_width": "",
            "_view_module": "@jupyter-widgets/base",
            "_model_module_version": "1.5.0",
            "_view_count": null,
            "_view_module_version": "1.2.0",
            "_model_module": "@jupyter-widgets/controls"
          }
        },
        "5496e364642f45bb812e0d69a4fa2b04": {
          "model_module": "@jupyter-widgets/base",
          "model_name": "LayoutModel",
          "state": {
            "_view_name": "LayoutView",
            "grid_template_rows": null,
            "right": null,
            "justify_content": null,
            "_view_module": "@jupyter-widgets/base",
            "overflow": null,
            "_model_module_version": "1.2.0",
            "_view_count": null,
            "flex_flow": null,
            "width": null,
            "min_width": null,
            "border": null,
            "align_items": null,
            "bottom": null,
            "_model_module": "@jupyter-widgets/base",
            "top": null,
            "grid_column": null,
            "overflow_y": null,
            "overflow_x": null,
            "grid_auto_flow": null,
            "grid_area": null,
            "grid_template_columns": null,
            "flex": null,
            "_model_name": "LayoutModel",
            "justify_items": null,
            "grid_row": null,
            "max_height": null,
            "align_content": null,
            "visibility": null,
            "align_self": null,
            "height": null,
            "min_height": null,
            "padding": null,
            "grid_auto_rows": null,
            "grid_gap": null,
            "max_width": null,
            "order": null,
            "_view_module_version": "1.2.0",
            "grid_template_areas": null,
            "object_position": null,
            "object_fit": null,
            "grid_auto_columns": null,
            "margin": null,
            "display": null,
            "left": null
          }
        },
        "06daceb3900d448ba287cd55055e7c15": {
          "model_module": "@jupyter-widgets/controls",
          "model_name": "HBoxModel",
          "state": {
            "_view_name": "HBoxView",
            "_dom_classes": [],
            "_model_name": "HBoxModel",
            "_view_module": "@jupyter-widgets/controls",
            "_model_module_version": "1.5.0",
            "_view_count": null,
            "_view_module_version": "1.5.0",
            "box_style": "",
            "layout": "IPY_MODEL_934e9d4e733142079234823aec0da22f",
            "_model_module": "@jupyter-widgets/controls",
            "children": [
              "IPY_MODEL_c542963d20e646dbb4522697ed6a6c20",
              "IPY_MODEL_ba7c37cf47c44cc5847be884bc27fc55"
            ]
          }
        },
        "934e9d4e733142079234823aec0da22f": {
          "model_module": "@jupyter-widgets/base",
          "model_name": "LayoutModel",
          "state": {
            "_view_name": "LayoutView",
            "grid_template_rows": null,
            "right": null,
            "justify_content": null,
            "_view_module": "@jupyter-widgets/base",
            "overflow": null,
            "_model_module_version": "1.2.0",
            "_view_count": null,
            "flex_flow": null,
            "width": null,
            "min_width": null,
            "border": null,
            "align_items": null,
            "bottom": null,
            "_model_module": "@jupyter-widgets/base",
            "top": null,
            "grid_column": null,
            "overflow_y": null,
            "overflow_x": null,
            "grid_auto_flow": null,
            "grid_area": null,
            "grid_template_columns": null,
            "flex": null,
            "_model_name": "LayoutModel",
            "justify_items": null,
            "grid_row": null,
            "max_height": null,
            "align_content": null,
            "visibility": null,
            "align_self": null,
            "height": null,
            "min_height": null,
            "padding": null,
            "grid_auto_rows": null,
            "grid_gap": null,
            "max_width": null,
            "order": null,
            "_view_module_version": "1.2.0",
            "grid_template_areas": null,
            "object_position": null,
            "object_fit": null,
            "grid_auto_columns": null,
            "margin": null,
            "display": null,
            "left": null
          }
        },
        "c542963d20e646dbb4522697ed6a6c20": {
          "model_module": "@jupyter-widgets/controls",
          "model_name": "IntProgressModel",
          "state": {
            "_view_name": "ProgressView",
            "style": "IPY_MODEL_83d6d05825d647fca74fcb04958632f2",
            "_dom_classes": [],
            "description": "Epoch",
            "_model_name": "IntProgressModel",
            "bar_style": "success",
            "max": 3,
            "_view_module": "@jupyter-widgets/controls",
            "_model_module_version": "1.5.0",
            "value": 3,
            "_view_count": null,
            "_view_module_version": "1.5.0",
            "orientation": "horizontal",
            "min": 0,
            "description_tooltip": null,
            "_model_module": "@jupyter-widgets/controls",
            "layout": "IPY_MODEL_8ea502750b2f4b219fddd2737e780c40"
          }
        },
        "ba7c37cf47c44cc5847be884bc27fc55": {
          "model_module": "@jupyter-widgets/controls",
          "model_name": "HTMLModel",
          "state": {
            "_view_name": "HTMLView",
            "style": "IPY_MODEL_53936d3bf3084745be9960518627d02f",
            "_dom_classes": [],
            "description": "",
            "_model_name": "HTMLModel",
            "placeholder": "​",
            "_view_module": "@jupyter-widgets/controls",
            "_model_module_version": "1.5.0",
            "value": "100% 3/3 [00:48&lt;00:00, 16.12s/it]",
            "_view_count": null,
            "_view_module_version": "1.5.0",
            "description_tooltip": null,
            "_model_module": "@jupyter-widgets/controls",
            "layout": "IPY_MODEL_4916f6cddecd45c9a71430c1f72fe3a9"
          }
        },
        "83d6d05825d647fca74fcb04958632f2": {
          "model_module": "@jupyter-widgets/controls",
          "model_name": "ProgressStyleModel",
          "state": {
            "_view_name": "StyleView",
            "_model_name": "ProgressStyleModel",
            "description_width": "initial",
            "_view_module": "@jupyter-widgets/base",
            "_model_module_version": "1.5.0",
            "_view_count": null,
            "_view_module_version": "1.2.0",
            "bar_color": null,
            "_model_module": "@jupyter-widgets/controls"
          }
        },
        "8ea502750b2f4b219fddd2737e780c40": {
          "model_module": "@jupyter-widgets/base",
          "model_name": "LayoutModel",
          "state": {
            "_view_name": "LayoutView",
            "grid_template_rows": null,
            "right": null,
            "justify_content": null,
            "_view_module": "@jupyter-widgets/base",
            "overflow": null,
            "_model_module_version": "1.2.0",
            "_view_count": null,
            "flex_flow": null,
            "width": null,
            "min_width": null,
            "border": null,
            "align_items": null,
            "bottom": null,
            "_model_module": "@jupyter-widgets/base",
            "top": null,
            "grid_column": null,
            "overflow_y": null,
            "overflow_x": null,
            "grid_auto_flow": null,
            "grid_area": null,
            "grid_template_columns": null,
            "flex": null,
            "_model_name": "LayoutModel",
            "justify_items": null,
            "grid_row": null,
            "max_height": null,
            "align_content": null,
            "visibility": null,
            "align_self": null,
            "height": null,
            "min_height": null,
            "padding": null,
            "grid_auto_rows": null,
            "grid_gap": null,
            "max_width": null,
            "order": null,
            "_view_module_version": "1.2.0",
            "grid_template_areas": null,
            "object_position": null,
            "object_fit": null,
            "grid_auto_columns": null,
            "margin": null,
            "display": null,
            "left": null
          }
        },
        "53936d3bf3084745be9960518627d02f": {
          "model_module": "@jupyter-widgets/controls",
          "model_name": "DescriptionStyleModel",
          "state": {
            "_view_name": "StyleView",
            "_model_name": "DescriptionStyleModel",
            "description_width": "",
            "_view_module": "@jupyter-widgets/base",
            "_model_module_version": "1.5.0",
            "_view_count": null,
            "_view_module_version": "1.2.0",
            "_model_module": "@jupyter-widgets/controls"
          }
        },
        "4916f6cddecd45c9a71430c1f72fe3a9": {
          "model_module": "@jupyter-widgets/base",
          "model_name": "LayoutModel",
          "state": {
            "_view_name": "LayoutView",
            "grid_template_rows": null,
            "right": null,
            "justify_content": null,
            "_view_module": "@jupyter-widgets/base",
            "overflow": null,
            "_model_module_version": "1.2.0",
            "_view_count": null,
            "flex_flow": null,
            "width": null,
            "min_width": null,
            "border": null,
            "align_items": null,
            "bottom": null,
            "_model_module": "@jupyter-widgets/base",
            "top": null,
            "grid_column": null,
            "overflow_y": null,
            "overflow_x": null,
            "grid_auto_flow": null,
            "grid_area": null,
            "grid_template_columns": null,
            "flex": null,
            "_model_name": "LayoutModel",
            "justify_items": null,
            "grid_row": null,
            "max_height": null,
            "align_content": null,
            "visibility": null,
            "align_self": null,
            "height": null,
            "min_height": null,
            "padding": null,
            "grid_auto_rows": null,
            "grid_gap": null,
            "max_width": null,
            "order": null,
            "_view_module_version": "1.2.0",
            "grid_template_areas": null,
            "object_position": null,
            "object_fit": null,
            "grid_auto_columns": null,
            "margin": null,
            "display": null,
            "left": null
          }
        }
      }
    }
  },
  "cells": [
    {
      "cell_type": "markdown",
      "metadata": {
        "id": "view-in-github",
        "colab_type": "text"
      },
      "source": [
        "<a href=\"https://colab.research.google.com/github/lalitha1201/AutoRecommender/blob/master/Insights_Auto_Rec.ipynb\" target=\"_parent\"><img src=\"https://colab.research.google.com/assets/colab-badge.svg\" alt=\"Open In Colab\"/></a>"
      ]
    },
    {
      "cell_type": "markdown",
      "metadata": {
        "id": "IlcVaMQ5cBAR",
        "colab_type": "text"
      },
      "source": [
        "\n",
        "# **Recommendation engine using collaborating filtering on Movielens**"
      ]
    },
    {
      "cell_type": "code",
      "metadata": {
        "id": "akbxdDIki9vq",
        "colab_type": "code",
        "outputId": "8810df85-e9bc-4811-ab55-b931fb476278",
        "colab": {
          "base_uri": "https://localhost:8080/",
          "height": 122
        }
      },
      "source": [
        "from google.colab import drive\n",
        "drive.mount('/content/gdrive')"
      ],
      "execution_count": 1,
      "outputs": [
        {
          "output_type": "stream",
          "text": [
            "Go to this URL in a browser: https://accounts.google.com/o/oauth2/auth?client_id=947318989803-6bn6qk8qdgf4n4g3pfee6491hc0brc4i.apps.googleusercontent.com&redirect_uri=urn%3aietf%3awg%3aoauth%3a2.0%3aoob&response_type=code&scope=email%20https%3a%2f%2fwww.googleapis.com%2fauth%2fdocs.test%20https%3a%2f%2fwww.googleapis.com%2fauth%2fdrive%20https%3a%2f%2fwww.googleapis.com%2fauth%2fdrive.photos.readonly%20https%3a%2f%2fwww.googleapis.com%2fauth%2fpeopleapi.readonly\n",
            "\n",
            "Enter your authorization code:\n",
            "··········\n",
            "Mounted at /content/gdrive\n"
          ],
          "name": "stdout"
        }
      ]
    },
    {
      "cell_type": "code",
      "metadata": {
        "id": "V3bcDqkzkni6",
        "colab_type": "code",
        "outputId": "7ecfb086-b7fd-4900-a739-495f839f747b",
        "colab": {
          "base_uri": "https://localhost:8080/",
          "height": 309
        }
      },
      "source": [
        "!pip install surprise"
      ],
      "execution_count": 9,
      "outputs": [
        {
          "output_type": "stream",
          "text": [
            "Collecting surprise\n",
            "  Downloading https://files.pythonhosted.org/packages/61/de/e5cba8682201fcf9c3719a6fdda95693468ed061945493dea2dd37c5618b/surprise-0.1-py2.py3-none-any.whl\n",
            "Collecting scikit-surprise\n",
            "\u001b[?25l  Downloading https://files.pythonhosted.org/packages/f5/da/b5700d96495fb4f092be497f02492768a3d96a3f4fa2ae7dea46d4081cfa/scikit-surprise-1.1.0.tar.gz (6.4MB)\n",
            "\u001b[K     |████████████████████████████████| 6.5MB 2.8MB/s \n",
            "\u001b[?25hRequirement already satisfied: joblib>=0.11 in /usr/local/lib/python3.6/dist-packages (from scikit-surprise->surprise) (0.14.1)\n",
            "Requirement already satisfied: numpy>=1.11.2 in /usr/local/lib/python3.6/dist-packages (from scikit-surprise->surprise) (1.17.5)\n",
            "Requirement already satisfied: scipy>=1.0.0 in /usr/local/lib/python3.6/dist-packages (from scikit-surprise->surprise) (1.4.1)\n",
            "Requirement already satisfied: six>=1.10.0 in /usr/local/lib/python3.6/dist-packages (from scikit-surprise->surprise) (1.12.0)\n",
            "Building wheels for collected packages: scikit-surprise\n",
            "  Building wheel for scikit-surprise (setup.py) ... \u001b[?25l\u001b[?25hdone\n",
            "  Created wheel for scikit-surprise: filename=scikit_surprise-1.1.0-cp36-cp36m-linux_x86_64.whl size=1678236 sha256=b1cde3ae390f87562593a84fa9a134f0a6f6e7ab8903a30a5d914b5505e9f04a\n",
            "  Stored in directory: /root/.cache/pip/wheels/cc/fa/8c/16c93fccce688ae1bde7d979ff102f7bee980d9cfeb8641bcf\n",
            "Successfully built scikit-surprise\n",
            "Installing collected packages: scikit-surprise, surprise\n",
            "Successfully installed scikit-surprise-1.1.0 surprise-0.1\n"
          ],
          "name": "stdout"
        }
      ]
    },
    {
      "cell_type": "code",
      "metadata": {
        "id": "IG8LCsvn4pIa",
        "colab_type": "code",
        "outputId": "73e65a7f-beb9-4156-ad05-119d6a8fb940",
        "colab": {
          "base_uri": "https://localhost:8080/",
          "height": 34
        }
      },
      "source": [
        "from google.colab import drive\n",
        "drive.mount('/content/gdrive')"
      ],
      "execution_count": 0,
      "outputs": [
        {
          "output_type": "stream",
          "text": [
            "Drive already mounted at /content/gdrive; to attempt to forcibly remount, call drive.mount(\"/content/gdrive\", force_remount=True).\n"
          ],
          "name": "stdout"
        }
      ]
    },
    {
      "cell_type": "code",
      "metadata": {
        "id": "Z3nNxmj77aMs",
        "colab_type": "code",
        "colab": {}
      },
      "source": [
        "import torch"
      ],
      "execution_count": 0,
      "outputs": []
    },
    {
      "cell_type": "code",
      "metadata": {
        "id": "vaihBbor76YL",
        "colab_type": "code",
        "outputId": "4dca962f-734c-479d-e032-197f18577794",
        "colab": {
          "base_uri": "https://localhost:8080/",
          "height": 1000
        }
      },
      "source": [
        "!pip install fastai==0.7.0"
      ],
      "execution_count": 14,
      "outputs": [
        {
          "output_type": "stream",
          "text": [
            "Collecting fastai==0.7.0\n",
            "\u001b[?25l  Downloading https://files.pythonhosted.org/packages/50/6d/9d0d6e17a78b0598d5e8c49a0d03ffc7ff265ae62eca3e2345fab14edb9b/fastai-0.7.0-py3-none-any.whl (112kB)\n",
            "\r\u001b[K     |███                             | 10kB 21.7MB/s eta 0:00:01\r\u001b[K     |█████▉                          | 20kB 3.1MB/s eta 0:00:01\r\u001b[K     |████████▊                       | 30kB 3.8MB/s eta 0:00:01\r\u001b[K     |███████████▋                    | 40kB 3.0MB/s eta 0:00:01\r\u001b[K     |██████████████▌                 | 51kB 3.3MB/s eta 0:00:01\r\u001b[K     |█████████████████▍              | 61kB 3.9MB/s eta 0:00:01\r\u001b[K     |████████████████████▍           | 71kB 4.2MB/s eta 0:00:01\r\u001b[K     |███████████████████████▎        | 81kB 4.4MB/s eta 0:00:01\r\u001b[K     |██████████████████████████▏     | 92kB 4.9MB/s eta 0:00:01\r\u001b[K     |█████████████████████████████   | 102kB 4.8MB/s eta 0:00:01\r\u001b[K     |████████████████████████████████| 112kB 4.8MB/s eta 0:00:01\r\u001b[K     |████████████████████████████████| 122kB 4.8MB/s \n",
            "\u001b[?25hCollecting torch<0.4\n",
            "\u001b[?25l  Downloading https://files.pythonhosted.org/packages/5b/a5/e8b50b55b1abac9f1e3346c4242f1e42a82d368a8442cbd50c532922f6c4/torch-0.3.1-cp36-cp36m-manylinux1_x86_64.whl (496.4MB)\n",
            "\u001b[K     |████████████████████████████████| 496.4MB 32kB/s \n",
            "\u001b[?25hRequirement already satisfied: matplotlib in /usr/local/lib/python3.6/dist-packages (from fastai==0.7.0) (3.1.2)\n",
            "Requirement already satisfied: bleach in /usr/local/lib/python3.6/dist-packages (from fastai==0.7.0) (3.1.0)\n",
            "Requirement already satisfied: Pillow in /usr/local/lib/python3.6/dist-packages (from fastai==0.7.0) (6.2.2)\n",
            "Requirement already satisfied: ipython in /usr/local/lib/python3.6/dist-packages (from fastai==0.7.0) (5.5.0)\n",
            "Requirement already satisfied: simplegeneric in /usr/local/lib/python3.6/dist-packages (from fastai==0.7.0) (0.8.1)\n",
            "Requirement already satisfied: ipywidgets in /usr/local/lib/python3.6/dist-packages (from fastai==0.7.0) (7.5.1)\n",
            "Requirement already satisfied: pyzmq in /usr/local/lib/python3.6/dist-packages (from fastai==0.7.0) (17.0.0)\n",
            "Requirement already satisfied: Jinja2 in /usr/local/lib/python3.6/dist-packages (from fastai==0.7.0) (2.10.3)\n",
            "Requirement already satisfied: certifi in /usr/local/lib/python3.6/dist-packages (from fastai==0.7.0) (2019.11.28)\n",
            "Requirement already satisfied: torchvision in /usr/local/lib/python3.6/dist-packages (from fastai==0.7.0) (0.4.2)\n",
            "Collecting isoweek\n",
            "  Downloading https://files.pythonhosted.org/packages/c2/d4/fe7e2637975c476734fcbf53776e650a29680194eb0dd21dbdc020ca92de/isoweek-1.3.3-py2.py3-none-any.whl\n",
            "Requirement already satisfied: numpy in /usr/local/lib/python3.6/dist-packages (from fastai==0.7.0) (1.17.5)\n",
            "Requirement already satisfied: traitlets in /usr/local/lib/python3.6/dist-packages (from fastai==0.7.0) (4.3.3)\n",
            "Requirement already satisfied: tornado in /usr/local/lib/python3.6/dist-packages (from fastai==0.7.0) (4.5.3)\n",
            "Collecting bcolz\n",
            "\u001b[?25l  Downloading https://files.pythonhosted.org/packages/5c/4e/23942de9d5c0fb16f10335fa83e52b431bcb8c0d4a8419c9ac206268c279/bcolz-1.2.1.tar.gz (1.5MB)\n",
            "\u001b[K     |████████████████████████████████| 1.5MB 45.4MB/s \n",
            "\u001b[?25hRequirement already satisfied: ipython-genutils in /usr/local/lib/python3.6/dist-packages (from fastai==0.7.0) (0.2.0)\n",
            "Requirement already satisfied: html5lib in /usr/local/lib/python3.6/dist-packages (from fastai==0.7.0) (1.0.1)\n",
            "Requirement already satisfied: pickleshare in /usr/local/lib/python3.6/dist-packages (from fastai==0.7.0) (0.7.5)\n",
            "Requirement already satisfied: webencodings in /usr/local/lib/python3.6/dist-packages (from fastai==0.7.0) (0.5.1)\n",
            "Requirement already satisfied: widgetsnbextension in /usr/local/lib/python3.6/dist-packages (from fastai==0.7.0) (3.5.1)\n",
            "Requirement already satisfied: cycler in /usr/local/lib/python3.6/dist-packages (from fastai==0.7.0) (0.10.0)\n",
            "Requirement already satisfied: feather-format in /usr/local/lib/python3.6/dist-packages (from fastai==0.7.0) (0.4.0)\n",
            "Requirement already satisfied: PyYAML in /usr/local/lib/python3.6/dist-packages (from fastai==0.7.0) (3.13)\n",
            "Requirement already satisfied: ipykernel in /usr/local/lib/python3.6/dist-packages (from fastai==0.7.0) (4.6.1)\n",
            "Requirement already satisfied: opencv-python in /usr/local/lib/python3.6/dist-packages (from fastai==0.7.0) (4.1.2.30)\n",
            "Requirement already satisfied: ptyprocess in /usr/local/lib/python3.6/dist-packages (from fastai==0.7.0) (0.6.0)\n",
            "Requirement already satisfied: python-dateutil in /usr/local/lib/python3.6/dist-packages (from fastai==0.7.0) (2.6.1)\n",
            "Requirement already satisfied: sklearn-pandas in /usr/local/lib/python3.6/dist-packages (from fastai==0.7.0) (1.8.0)\n",
            "Requirement already satisfied: wcwidth in /usr/local/lib/python3.6/dist-packages (from fastai==0.7.0) (0.1.8)\n",
            "Collecting pandas-summary\n",
            "  Downloading https://files.pythonhosted.org/packages/f5/20/865d4785f86e86f7ad7ebd52fc14810ef59ef13cd959f1363a2615d1c665/pandas_summary-0.0.7-py2.py3-none-any.whl\n",
            "Requirement already satisfied: pytz in /usr/local/lib/python3.6/dist-packages (from fastai==0.7.0) (2018.9)\n",
            "Requirement already satisfied: entrypoints in /usr/local/lib/python3.6/dist-packages (from fastai==0.7.0) (0.3)\n",
            "Requirement already satisfied: graphviz in /usr/local/lib/python3.6/dist-packages (from fastai==0.7.0) (0.10.1)\n",
            "Requirement already satisfied: jupyter in /usr/local/lib/python3.6/dist-packages (from fastai==0.7.0) (1.0.0)\n",
            "Requirement already satisfied: pandas in /usr/local/lib/python3.6/dist-packages (from fastai==0.7.0) (0.25.3)\n",
            "Requirement already satisfied: seaborn in /usr/local/lib/python3.6/dist-packages (from fastai==0.7.0) (0.9.0)\n",
            "Requirement already satisfied: tqdm in /usr/local/lib/python3.6/dist-packages (from fastai==0.7.0) (4.28.1)\n",
            "Requirement already satisfied: plotnine in /usr/local/lib/python3.6/dist-packages (from fastai==0.7.0) (0.6.0)\n",
            "Requirement already satisfied: torchtext in /usr/local/lib/python3.6/dist-packages (from fastai==0.7.0) (0.2.3)\n",
            "Requirement already satisfied: Pygments in /usr/local/lib/python3.6/dist-packages (from fastai==0.7.0) (2.1.3)\n",
            "Requirement already satisfied: pyparsing in /usr/local/lib/python3.6/dist-packages (from fastai==0.7.0) (2.4.6)\n",
            "Requirement already satisfied: testpath in /usr/local/lib/python3.6/dist-packages (from fastai==0.7.0) (0.4.4)\n",
            "Requirement already satisfied: scipy in /usr/local/lib/python3.6/dist-packages (from fastai==0.7.0) (1.4.1)\n",
            "Requirement already satisfied: decorator in /usr/local/lib/python3.6/dist-packages (from fastai==0.7.0) (4.4.1)\n",
            "Requirement already satisfied: jsonschema in /usr/local/lib/python3.6/dist-packages (from fastai==0.7.0) (2.6.0)\n",
            "Requirement already satisfied: jedi in /usr/local/lib/python3.6/dist-packages (from fastai==0.7.0) (0.15.2)\n",
            "Requirement already satisfied: MarkupSafe in /usr/local/lib/python3.6/dist-packages (from fastai==0.7.0) (1.1.1)\n",
            "Requirement already satisfied: kiwisolver>=1.0.1 in /usr/local/lib/python3.6/dist-packages (from matplotlib->fastai==0.7.0) (1.1.0)\n",
            "Requirement already satisfied: six>=1.9.0 in /usr/local/lib/python3.6/dist-packages (from bleach->fastai==0.7.0) (1.12.0)\n",
            "Requirement already satisfied: prompt-toolkit<2.0.0,>=1.0.4 in /usr/local/lib/python3.6/dist-packages (from ipython->fastai==0.7.0) (1.0.18)\n",
            "Requirement already satisfied: pexpect; sys_platform != \"win32\" in /usr/local/lib/python3.6/dist-packages (from ipython->fastai==0.7.0) (4.7.0)\n",
            "Requirement already satisfied: setuptools>=18.5 in /usr/local/lib/python3.6/dist-packages (from ipython->fastai==0.7.0) (42.0.2)\n",
            "Requirement already satisfied: nbformat>=4.2.0 in /usr/local/lib/python3.6/dist-packages (from ipywidgets->fastai==0.7.0) (5.0.3)\n",
            "Requirement already satisfied: notebook>=4.4.1 in /usr/local/lib/python3.6/dist-packages (from widgetsnbextension->fastai==0.7.0) (5.2.2)\n",
            "Requirement already satisfied: pyarrow>=0.4.0 in /usr/local/lib/python3.6/dist-packages (from feather-format->fastai==0.7.0) (0.14.1)\n",
            "Requirement already satisfied: jupyter-client in /usr/local/lib/python3.6/dist-packages (from ipykernel->fastai==0.7.0) (5.3.4)\n",
            "Requirement already satisfied: scikit-learn>=0.15.0 in /usr/local/lib/python3.6/dist-packages (from sklearn-pandas->fastai==0.7.0) (0.22.1)\n",
            "Requirement already satisfied: qtconsole in /usr/local/lib/python3.6/dist-packages (from jupyter->fastai==0.7.0) (4.6.0)\n",
            "Requirement already satisfied: jupyter-console in /usr/local/lib/python3.6/dist-packages (from jupyter->fastai==0.7.0) (5.2.0)\n",
            "Requirement already satisfied: nbconvert in /usr/local/lib/python3.6/dist-packages (from jupyter->fastai==0.7.0) (5.6.1)\n",
            "Requirement already satisfied: patsy>=0.4.1 in /usr/local/lib/python3.6/dist-packages (from plotnine->fastai==0.7.0) (0.5.1)\n",
            "Requirement already satisfied: mizani>=0.6.0 in /usr/local/lib/python3.6/dist-packages (from plotnine->fastai==0.7.0) (0.6.0)\n",
            "Requirement already satisfied: statsmodels>=0.9.0 in /usr/local/lib/python3.6/dist-packages (from plotnine->fastai==0.7.0) (0.10.2)\n",
            "Requirement already satisfied: descartes>=1.1.0 in /usr/local/lib/python3.6/dist-packages (from plotnine->fastai==0.7.0) (1.1.0)\n",
            "Requirement already satisfied: requests in /usr/local/lib/python3.6/dist-packages (from torchtext->fastai==0.7.0) (2.21.0)\n",
            "Requirement already satisfied: parso>=0.5.2 in /usr/local/lib/python3.6/dist-packages (from jedi->fastai==0.7.0) (0.5.2)\n",
            "Requirement already satisfied: jupyter-core in /usr/local/lib/python3.6/dist-packages (from nbformat>=4.2.0->ipywidgets->fastai==0.7.0) (4.6.1)\n",
            "Requirement already satisfied: terminado>=0.3.3; sys_platform != \"win32\" in /usr/local/lib/python3.6/dist-packages (from notebook>=4.4.1->widgetsnbextension->fastai==0.7.0) (0.8.3)\n",
            "Requirement already satisfied: joblib>=0.11 in /usr/local/lib/python3.6/dist-packages (from scikit-learn>=0.15.0->sklearn-pandas->fastai==0.7.0) (0.14.1)\n",
            "Requirement already satisfied: mistune<2,>=0.8.1 in /usr/local/lib/python3.6/dist-packages (from nbconvert->jupyter->fastai==0.7.0) (0.8.4)\n",
            "Requirement already satisfied: pandocfilters>=1.4.1 in /usr/local/lib/python3.6/dist-packages (from nbconvert->jupyter->fastai==0.7.0) (1.4.2)\n",
            "Requirement already satisfied: defusedxml in /usr/local/lib/python3.6/dist-packages (from nbconvert->jupyter->fastai==0.7.0) (0.6.0)\n",
            "Requirement already satisfied: palettable in /usr/local/lib/python3.6/dist-packages (from mizani>=0.6.0->plotnine->fastai==0.7.0) (3.3.0)\n",
            "Requirement already satisfied: urllib3<1.25,>=1.21.1 in /usr/local/lib/python3.6/dist-packages (from requests->torchtext->fastai==0.7.0) (1.24.3)\n",
            "Requirement already satisfied: chardet<3.1.0,>=3.0.2 in /usr/local/lib/python3.6/dist-packages (from requests->torchtext->fastai==0.7.0) (3.0.4)\n",
            "Requirement already satisfied: idna<2.9,>=2.5 in /usr/local/lib/python3.6/dist-packages (from requests->torchtext->fastai==0.7.0) (2.8)\n",
            "Building wheels for collected packages: bcolz\n",
            "  Building wheel for bcolz (setup.py) ... \u001b[?25l\u001b[?25hdone\n",
            "  Created wheel for bcolz: filename=bcolz-1.2.1-cp36-cp36m-linux_x86_64.whl size=2661288 sha256=8364667cbc27442eef0e477d2bc9d380aaa832971ce78cc220603f7e7e171f89\n",
            "  Stored in directory: /root/.cache/pip/wheels/9f/78/26/fb8c0acb91a100dc8914bf236c4eaa4b207cb876893c40b745\n",
            "Successfully built bcolz\n",
            "\u001b[31mERROR: torchvision 0.4.2 has requirement torch==1.3.1, but you'll have torch 0.3.1 which is incompatible.\u001b[0m\n",
            "Installing collected packages: torch, isoweek, bcolz, pandas-summary, fastai\n",
            "  Found existing installation: torch 1.3.1\n",
            "    Uninstalling torch-1.3.1:\n",
            "      Successfully uninstalled torch-1.3.1\n",
            "  Found existing installation: fastai 1.0.60\n",
            "    Uninstalling fastai-1.0.60:\n",
            "      Successfully uninstalled fastai-1.0.60\n",
            "Successfully installed bcolz-1.2.1 fastai-0.7.0 isoweek-1.3.3 pandas-summary-0.0.7 torch-0.3.1\n"
          ],
          "name": "stdout"
        },
        {
          "output_type": "display_data",
          "data": {
            "application/vnd.colab-display-data+json": {
              "pip_warning": {
                "packages": [
                  "fastai",
                  "torch"
                ]
              }
            }
          },
          "metadata": {
            "tags": []
          }
        }
      ]
    },
    {
      "cell_type": "code",
      "metadata": {
        "id": "JPjgNDrw--Te",
        "colab_type": "code",
        "colab": {}
      },
      "source": [
        "!pip install torchtext==0.2.3"
      ],
      "execution_count": 0,
      "outputs": []
    },
    {
      "cell_type": "code",
      "metadata": {
        "id": "-CejTtUHHCzh",
        "colab_type": "code",
        "outputId": "5c73f44c-b3c4-42df-820b-a0b589dc7e80",
        "colab": {
          "base_uri": "https://localhost:8080/",
          "height": 258
        }
      },
      "source": [
        "!pip install torchvision"
      ],
      "execution_count": 1,
      "outputs": [
        {
          "output_type": "stream",
          "text": [
            "Requirement already satisfied: torchvision in /usr/local/lib/python3.6/dist-packages (0.4.2)\n",
            "Requirement already satisfied: six in /usr/local/lib/python3.6/dist-packages (from torchvision) (1.12.0)\n",
            "Collecting torch==1.3.1\n",
            "\u001b[?25l  Downloading https://files.pythonhosted.org/packages/88/95/90e8c4c31cfc67248bf944ba42029295b77159982f532c5689bcfe4e9108/torch-1.3.1-cp36-cp36m-manylinux1_x86_64.whl (734.6MB)\n",
            "\u001b[K     |████████████████████████████████| 734.6MB 22kB/s \n",
            "\u001b[?25hRequirement already satisfied: numpy in /usr/local/lib/python3.6/dist-packages (from torchvision) (1.17.5)\n",
            "Requirement already satisfied: pillow>=4.1.1 in /usr/local/lib/python3.6/dist-packages (from torchvision) (6.2.2)\n",
            "\u001b[31mERROR: fastai 0.7.0 has requirement torch<0.4, but you'll have torch 1.3.1 which is incompatible.\u001b[0m\n",
            "Installing collected packages: torch\n",
            "  Found existing installation: torch 0.3.1\n",
            "    Uninstalling torch-0.3.1:\n",
            "      Successfully uninstalled torch-0.3.1\n",
            "Successfully installed torch-1.3.1\n"
          ],
          "name": "stdout"
        }
      ]
    },
    {
      "cell_type": "code",
      "metadata": {
        "id": "h5UF1XGJ7a9y",
        "colab_type": "code",
        "colab": {}
      },
      "source": [
        "import torch\n",
        "%reload_ext autoreload\n",
        "%autoreload 2\n",
        "%matplotlib inline\n",
        "import pandas as pd\n",
        "\n",
        "from fastai.learner import *\n",
        "from fastai.column_data import *"
      ],
      "execution_count": 0,
      "outputs": []
    },
    {
      "cell_type": "code",
      "metadata": {
        "id": "4MlVZi-tA3YG",
        "colab_type": "code",
        "colab": {}
      },
      "source": [
        "ratings = pd.read_csv('gdrive/My Drive/ml-latest-small/ratings.csv')"
      ],
      "execution_count": 0,
      "outputs": []
    },
    {
      "cell_type": "code",
      "metadata": {
        "id": "f0aamhEnBd2S",
        "colab_type": "code",
        "outputId": "33c73f99-a889-43da-8ffe-e7d839905011",
        "colab": {
          "base_uri": "https://localhost:8080/",
          "height": 204
        }
      },
      "source": [
        "ratings.head()"
      ],
      "execution_count": 4,
      "outputs": [
        {
          "output_type": "execute_result",
          "data": {
            "text/html": [
              "<div>\n",
              "<style scoped>\n",
              "    .dataframe tbody tr th:only-of-type {\n",
              "        vertical-align: middle;\n",
              "    }\n",
              "\n",
              "    .dataframe tbody tr th {\n",
              "        vertical-align: top;\n",
              "    }\n",
              "\n",
              "    .dataframe thead th {\n",
              "        text-align: right;\n",
              "    }\n",
              "</style>\n",
              "<table border=\"1\" class=\"dataframe\">\n",
              "  <thead>\n",
              "    <tr style=\"text-align: right;\">\n",
              "      <th></th>\n",
              "      <th>userId</th>\n",
              "      <th>movieId</th>\n",
              "      <th>rating</th>\n",
              "      <th>timestamp</th>\n",
              "    </tr>\n",
              "  </thead>\n",
              "  <tbody>\n",
              "    <tr>\n",
              "      <th>0</th>\n",
              "      <td>1</td>\n",
              "      <td>1</td>\n",
              "      <td>4.0</td>\n",
              "      <td>964982703</td>\n",
              "    </tr>\n",
              "    <tr>\n",
              "      <th>1</th>\n",
              "      <td>1</td>\n",
              "      <td>3</td>\n",
              "      <td>4.0</td>\n",
              "      <td>964981247</td>\n",
              "    </tr>\n",
              "    <tr>\n",
              "      <th>2</th>\n",
              "      <td>1</td>\n",
              "      <td>6</td>\n",
              "      <td>4.0</td>\n",
              "      <td>964982224</td>\n",
              "    </tr>\n",
              "    <tr>\n",
              "      <th>3</th>\n",
              "      <td>1</td>\n",
              "      <td>47</td>\n",
              "      <td>5.0</td>\n",
              "      <td>964983815</td>\n",
              "    </tr>\n",
              "    <tr>\n",
              "      <th>4</th>\n",
              "      <td>1</td>\n",
              "      <td>50</td>\n",
              "      <td>5.0</td>\n",
              "      <td>964982931</td>\n",
              "    </tr>\n",
              "  </tbody>\n",
              "</table>\n",
              "</div>"
            ],
            "text/plain": [
              "   userId  movieId  rating  timestamp\n",
              "0       1        1     4.0  964982703\n",
              "1       1        3     4.0  964981247\n",
              "2       1        6     4.0  964982224\n",
              "3       1       47     5.0  964983815\n",
              "4       1       50     5.0  964982931"
            ]
          },
          "metadata": {
            "tags": []
          },
          "execution_count": 4
        }
      ]
    },
    {
      "cell_type": "code",
      "metadata": {
        "id": "yAfaMFYWCmqu",
        "colab_type": "code",
        "outputId": "739b5f04-a947-460e-f63a-5ffa42d634a0",
        "colab": {
          "base_uri": "https://localhost:8080/",
          "height": 34
        }
      },
      "source": [
        "ratings.shape"
      ],
      "execution_count": 0,
      "outputs": [
        {
          "output_type": "execute_result",
          "data": {
            "text/plain": [
              "(100836, 4)"
            ]
          },
          "metadata": {
            "tags": []
          },
          "execution_count": 4
        }
      ]
    },
    {
      "cell_type": "code",
      "metadata": {
        "id": "wnF-EOc7Cn63",
        "colab_type": "code",
        "colab": {}
      },
      "source": [
        "n_users=int(ratings.userId.nunique())\n",
        "n_movies=int(ratings.movieId.nunique())"
      ],
      "execution_count": 0,
      "outputs": []
    },
    {
      "cell_type": "code",
      "metadata": {
        "id": "ArcqjeObCr78",
        "colab_type": "code",
        "outputId": "104fa27c-c5d1-4a45-b3fc-dbf0f48ef074",
        "colab": {
          "base_uri": "https://localhost:8080/",
          "height": 34
        }
      },
      "source": [
        "print(\"n_users = \",n_users, \"||\", \"n_movies = \", n_movies )"
      ],
      "execution_count": 0,
      "outputs": [
        {
          "output_type": "stream",
          "text": [
            "n_users =  610 || n_movies =  9724\n"
          ],
          "name": "stdout"
        }
      ]
    },
    {
      "cell_type": "code",
      "metadata": {
        "id": "S4nKcZXiCuvw",
        "colab_type": "code",
        "colab": {}
      },
      "source": [
        "g = ratings.groupby('userId')['rating'].count()\n",
        "topg = g.sort_values(ascending = False)[:15]\n",
        "\n",
        "i = ratings.groupby('movieId')['rating'].count()\n",
        "topi = i.sort_values(ascending = False)[:15]\n"
      ],
      "execution_count": 0,
      "outputs": []
    },
    {
      "cell_type": "code",
      "metadata": {
        "id": "4qKczuoyC7AL",
        "colab_type": "code",
        "colab": {}
      },
      "source": [
        "import numpy as np\n"
      ],
      "execution_count": 0,
      "outputs": []
    },
    {
      "cell_type": "code",
      "metadata": {
        "id": "U9ziyzz8Cz3B",
        "colab_type": "code",
        "outputId": "25afbf87-a479-486b-ecb8-cda2be17dc71",
        "colab": {
          "base_uri": "https://localhost:8080/",
          "height": 545
        }
      },
      "source": [
        "# gettings ratings of top users and top items\n",
        "\n",
        "\n",
        "join1 = ratings.join(topg, on='userId', how = 'inner', rsuffix='_r')\n",
        "join1 = join1.join(topi, on='movieId', how = 'inner', rsuffix = '_r')\n",
        "\n",
        "pd.crosstab(join1.userId, join1.movieId, join1.rating, aggfunc=np.sum)"
      ],
      "execution_count": 0,
      "outputs": [
        {
          "output_type": "execute_result",
          "data": {
            "text/html": [
              "<div>\n",
              "<style scoped>\n",
              "    .dataframe tbody tr th:only-of-type {\n",
              "        vertical-align: middle;\n",
              "    }\n",
              "\n",
              "    .dataframe tbody tr th {\n",
              "        vertical-align: top;\n",
              "    }\n",
              "\n",
              "    .dataframe thead th {\n",
              "        text-align: right;\n",
              "    }\n",
              "</style>\n",
              "<table border=\"1\" class=\"dataframe\">\n",
              "  <thead>\n",
              "    <tr style=\"text-align: right;\">\n",
              "      <th>movieId</th>\n",
              "      <th>1</th>\n",
              "      <th>50</th>\n",
              "      <th>110</th>\n",
              "      <th>260</th>\n",
              "      <th>296</th>\n",
              "      <th>318</th>\n",
              "      <th>356</th>\n",
              "      <th>480</th>\n",
              "      <th>527</th>\n",
              "      <th>589</th>\n",
              "      <th>593</th>\n",
              "      <th>1196</th>\n",
              "      <th>2571</th>\n",
              "      <th>2858</th>\n",
              "      <th>2959</th>\n",
              "    </tr>\n",
              "    <tr>\n",
              "      <th>userId</th>\n",
              "      <th></th>\n",
              "      <th></th>\n",
              "      <th></th>\n",
              "      <th></th>\n",
              "      <th></th>\n",
              "      <th></th>\n",
              "      <th></th>\n",
              "      <th></th>\n",
              "      <th></th>\n",
              "      <th></th>\n",
              "      <th></th>\n",
              "      <th></th>\n",
              "      <th></th>\n",
              "      <th></th>\n",
              "      <th></th>\n",
              "    </tr>\n",
              "  </thead>\n",
              "  <tbody>\n",
              "    <tr>\n",
              "      <th>68</th>\n",
              "      <td>2.5</td>\n",
              "      <td>3.0</td>\n",
              "      <td>2.5</td>\n",
              "      <td>5.0</td>\n",
              "      <td>2.0</td>\n",
              "      <td>3.0</td>\n",
              "      <td>3.5</td>\n",
              "      <td>3.5</td>\n",
              "      <td>4.0</td>\n",
              "      <td>3.5</td>\n",
              "      <td>3.5</td>\n",
              "      <td>5.0</td>\n",
              "      <td>4.5</td>\n",
              "      <td>5.0</td>\n",
              "      <td>2.5</td>\n",
              "    </tr>\n",
              "    <tr>\n",
              "      <th>182</th>\n",
              "      <td>4.0</td>\n",
              "      <td>4.5</td>\n",
              "      <td>3.5</td>\n",
              "      <td>3.5</td>\n",
              "      <td>5.0</td>\n",
              "      <td>4.5</td>\n",
              "      <td>5.0</td>\n",
              "      <td>3.5</td>\n",
              "      <td>4.0</td>\n",
              "      <td>2.0</td>\n",
              "      <td>4.5</td>\n",
              "      <td>3.0</td>\n",
              "      <td>5.0</td>\n",
              "      <td>5.0</td>\n",
              "      <td>5.0</td>\n",
              "    </tr>\n",
              "    <tr>\n",
              "      <th>249</th>\n",
              "      <td>4.0</td>\n",
              "      <td>4.0</td>\n",
              "      <td>5.0</td>\n",
              "      <td>5.0</td>\n",
              "      <td>4.0</td>\n",
              "      <td>4.5</td>\n",
              "      <td>4.5</td>\n",
              "      <td>4.0</td>\n",
              "      <td>4.5</td>\n",
              "      <td>4.0</td>\n",
              "      <td>4.0</td>\n",
              "      <td>5.0</td>\n",
              "      <td>5.0</td>\n",
              "      <td>4.5</td>\n",
              "      <td>5.0</td>\n",
              "    </tr>\n",
              "    <tr>\n",
              "      <th>274</th>\n",
              "      <td>4.0</td>\n",
              "      <td>4.0</td>\n",
              "      <td>4.5</td>\n",
              "      <td>3.0</td>\n",
              "      <td>5.0</td>\n",
              "      <td>4.5</td>\n",
              "      <td>4.5</td>\n",
              "      <td>3.5</td>\n",
              "      <td>4.0</td>\n",
              "      <td>4.5</td>\n",
              "      <td>4.0</td>\n",
              "      <td>4.5</td>\n",
              "      <td>4.0</td>\n",
              "      <td>5.0</td>\n",
              "      <td>5.0</td>\n",
              "    </tr>\n",
              "    <tr>\n",
              "      <th>288</th>\n",
              "      <td>4.5</td>\n",
              "      <td>NaN</td>\n",
              "      <td>5.0</td>\n",
              "      <td>5.0</td>\n",
              "      <td>5.0</td>\n",
              "      <td>5.0</td>\n",
              "      <td>5.0</td>\n",
              "      <td>2.0</td>\n",
              "      <td>5.0</td>\n",
              "      <td>4.0</td>\n",
              "      <td>5.0</td>\n",
              "      <td>4.5</td>\n",
              "      <td>3.0</td>\n",
              "      <td>NaN</td>\n",
              "      <td>3.5</td>\n",
              "    </tr>\n",
              "    <tr>\n",
              "      <th>307</th>\n",
              "      <td>4.0</td>\n",
              "      <td>4.5</td>\n",
              "      <td>3.5</td>\n",
              "      <td>3.5</td>\n",
              "      <td>4.5</td>\n",
              "      <td>4.5</td>\n",
              "      <td>4.0</td>\n",
              "      <td>3.5</td>\n",
              "      <td>4.5</td>\n",
              "      <td>2.5</td>\n",
              "      <td>4.5</td>\n",
              "      <td>3.0</td>\n",
              "      <td>3.5</td>\n",
              "      <td>4.0</td>\n",
              "      <td>4.0</td>\n",
              "    </tr>\n",
              "    <tr>\n",
              "      <th>380</th>\n",
              "      <td>5.0</td>\n",
              "      <td>4.0</td>\n",
              "      <td>4.0</td>\n",
              "      <td>5.0</td>\n",
              "      <td>5.0</td>\n",
              "      <td>3.0</td>\n",
              "      <td>5.0</td>\n",
              "      <td>5.0</td>\n",
              "      <td>NaN</td>\n",
              "      <td>5.0</td>\n",
              "      <td>5.0</td>\n",
              "      <td>5.0</td>\n",
              "      <td>4.5</td>\n",
              "      <td>NaN</td>\n",
              "      <td>4.0</td>\n",
              "    </tr>\n",
              "    <tr>\n",
              "      <th>387</th>\n",
              "      <td>NaN</td>\n",
              "      <td>4.5</td>\n",
              "      <td>3.5</td>\n",
              "      <td>4.5</td>\n",
              "      <td>5.0</td>\n",
              "      <td>3.5</td>\n",
              "      <td>4.0</td>\n",
              "      <td>3.0</td>\n",
              "      <td>NaN</td>\n",
              "      <td>3.5</td>\n",
              "      <td>4.0</td>\n",
              "      <td>4.5</td>\n",
              "      <td>4.0</td>\n",
              "      <td>4.5</td>\n",
              "      <td>4.5</td>\n",
              "    </tr>\n",
              "    <tr>\n",
              "      <th>414</th>\n",
              "      <td>4.0</td>\n",
              "      <td>5.0</td>\n",
              "      <td>5.0</td>\n",
              "      <td>5.0</td>\n",
              "      <td>5.0</td>\n",
              "      <td>5.0</td>\n",
              "      <td>5.0</td>\n",
              "      <td>4.0</td>\n",
              "      <td>4.0</td>\n",
              "      <td>5.0</td>\n",
              "      <td>4.0</td>\n",
              "      <td>5.0</td>\n",
              "      <td>5.0</td>\n",
              "      <td>5.0</td>\n",
              "      <td>5.0</td>\n",
              "    </tr>\n",
              "    <tr>\n",
              "      <th>448</th>\n",
              "      <td>5.0</td>\n",
              "      <td>4.0</td>\n",
              "      <td>NaN</td>\n",
              "      <td>5.0</td>\n",
              "      <td>5.0</td>\n",
              "      <td>NaN</td>\n",
              "      <td>3.0</td>\n",
              "      <td>3.0</td>\n",
              "      <td>NaN</td>\n",
              "      <td>3.0</td>\n",
              "      <td>5.0</td>\n",
              "      <td>5.0</td>\n",
              "      <td>2.0</td>\n",
              "      <td>4.0</td>\n",
              "      <td>4.0</td>\n",
              "    </tr>\n",
              "    <tr>\n",
              "      <th>474</th>\n",
              "      <td>4.0</td>\n",
              "      <td>4.0</td>\n",
              "      <td>3.0</td>\n",
              "      <td>4.0</td>\n",
              "      <td>4.0</td>\n",
              "      <td>5.0</td>\n",
              "      <td>3.0</td>\n",
              "      <td>4.5</td>\n",
              "      <td>5.0</td>\n",
              "      <td>4.0</td>\n",
              "      <td>4.5</td>\n",
              "      <td>5.0</td>\n",
              "      <td>4.5</td>\n",
              "      <td>3.5</td>\n",
              "      <td>4.0</td>\n",
              "    </tr>\n",
              "    <tr>\n",
              "      <th>599</th>\n",
              "      <td>3.0</td>\n",
              "      <td>3.5</td>\n",
              "      <td>3.5</td>\n",
              "      <td>5.0</td>\n",
              "      <td>5.0</td>\n",
              "      <td>4.0</td>\n",
              "      <td>3.5</td>\n",
              "      <td>4.0</td>\n",
              "      <td>NaN</td>\n",
              "      <td>4.5</td>\n",
              "      <td>3.0</td>\n",
              "      <td>5.0</td>\n",
              "      <td>5.0</td>\n",
              "      <td>5.0</td>\n",
              "      <td>5.0</td>\n",
              "    </tr>\n",
              "    <tr>\n",
              "      <th>603</th>\n",
              "      <td>4.0</td>\n",
              "      <td>NaN</td>\n",
              "      <td>1.0</td>\n",
              "      <td>4.0</td>\n",
              "      <td>5.0</td>\n",
              "      <td>NaN</td>\n",
              "      <td>3.0</td>\n",
              "      <td>NaN</td>\n",
              "      <td>3.0</td>\n",
              "      <td>NaN</td>\n",
              "      <td>5.0</td>\n",
              "      <td>3.0</td>\n",
              "      <td>5.0</td>\n",
              "      <td>5.0</td>\n",
              "      <td>4.0</td>\n",
              "    </tr>\n",
              "    <tr>\n",
              "      <th>606</th>\n",
              "      <td>2.5</td>\n",
              "      <td>4.5</td>\n",
              "      <td>3.5</td>\n",
              "      <td>4.5</td>\n",
              "      <td>5.0</td>\n",
              "      <td>3.5</td>\n",
              "      <td>4.0</td>\n",
              "      <td>2.5</td>\n",
              "      <td>5.0</td>\n",
              "      <td>3.5</td>\n",
              "      <td>4.5</td>\n",
              "      <td>4.5</td>\n",
              "      <td>5.0</td>\n",
              "      <td>4.5</td>\n",
              "      <td>5.0</td>\n",
              "    </tr>\n",
              "    <tr>\n",
              "      <th>610</th>\n",
              "      <td>5.0</td>\n",
              "      <td>4.0</td>\n",
              "      <td>4.5</td>\n",
              "      <td>5.0</td>\n",
              "      <td>5.0</td>\n",
              "      <td>3.0</td>\n",
              "      <td>3.0</td>\n",
              "      <td>5.0</td>\n",
              "      <td>3.5</td>\n",
              "      <td>5.0</td>\n",
              "      <td>4.5</td>\n",
              "      <td>5.0</td>\n",
              "      <td>5.0</td>\n",
              "      <td>3.5</td>\n",
              "      <td>5.0</td>\n",
              "    </tr>\n",
              "  </tbody>\n",
              "</table>\n",
              "</div>"
            ],
            "text/plain": [
              "movieId  1     50    110   260   296   318   ...  589   593   1196  2571  2858  2959\n",
              "userId                                       ...                                    \n",
              "68        2.5   3.0   2.5   5.0   2.0   3.0  ...   3.5   3.5   5.0   4.5   5.0   2.5\n",
              "182       4.0   4.5   3.5   3.5   5.0   4.5  ...   2.0   4.5   3.0   5.0   5.0   5.0\n",
              "249       4.0   4.0   5.0   5.0   4.0   4.5  ...   4.0   4.0   5.0   5.0   4.5   5.0\n",
              "274       4.0   4.0   4.5   3.0   5.0   4.5  ...   4.5   4.0   4.5   4.0   5.0   5.0\n",
              "288       4.5   NaN   5.0   5.0   5.0   5.0  ...   4.0   5.0   4.5   3.0   NaN   3.5\n",
              "307       4.0   4.5   3.5   3.5   4.5   4.5  ...   2.5   4.5   3.0   3.5   4.0   4.0\n",
              "380       5.0   4.0   4.0   5.0   5.0   3.0  ...   5.0   5.0   5.0   4.5   NaN   4.0\n",
              "387       NaN   4.5   3.5   4.5   5.0   3.5  ...   3.5   4.0   4.5   4.0   4.5   4.5\n",
              "414       4.0   5.0   5.0   5.0   5.0   5.0  ...   5.0   4.0   5.0   5.0   5.0   5.0\n",
              "448       5.0   4.0   NaN   5.0   5.0   NaN  ...   3.0   5.0   5.0   2.0   4.0   4.0\n",
              "474       4.0   4.0   3.0   4.0   4.0   5.0  ...   4.0   4.5   5.0   4.5   3.5   4.0\n",
              "599       3.0   3.5   3.5   5.0   5.0   4.0  ...   4.5   3.0   5.0   5.0   5.0   5.0\n",
              "603       4.0   NaN   1.0   4.0   5.0   NaN  ...   NaN   5.0   3.0   5.0   5.0   4.0\n",
              "606       2.5   4.5   3.5   4.5   5.0   3.5  ...   3.5   4.5   4.5   5.0   4.5   5.0\n",
              "610       5.0   4.0   4.5   5.0   5.0   3.0  ...   5.0   4.5   5.0   5.0   3.5   5.0\n",
              "\n",
              "[15 rows x 15 columns]"
            ]
          },
          "metadata": {
            "tags": []
          },
          "execution_count": 9
        }
      ]
    },
    {
      "cell_type": "markdown",
      "metadata": {
        "id": "zxyMouJ7cVAj",
        "colab_type": "text"
      },
      "source": [
        "# Collaborative filtering"
      ]
    },
    {
      "cell_type": "code",
      "metadata": {
        "id": "zViqI4vYDAKT",
        "colab_type": "code",
        "colab": {}
      },
      "source": [
        "val_indx = get_cv_idxs(len(ratings))  # index for validation set\n",
        "wd = 2e-4 # weight decay\n",
        "n_factors = 50 # n_factors"
      ],
      "execution_count": 0,
      "outputs": []
    },
    {
      "cell_type": "code",
      "metadata": {
        "id": "D3TBT80OHiWQ",
        "colab_type": "code",
        "colab": {}
      },
      "source": [
        "cf = CollabFilterDataset.from_csv('gdrive/My Drive/ml-latest-small', 'ratings.csv', 'userId', 'movieId', 'rating')"
      ],
      "execution_count": 0,
      "outputs": []
    },
    {
      "cell_type": "code",
      "metadata": {
        "id": "TfsgZpwYH0p9",
        "colab_type": "code",
        "colab": {}
      },
      "source": [
        "learn = cf.get_learner(n_factors, val_indx, bs=64, opt_fn=optim.Adam)"
      ],
      "execution_count": 0,
      "outputs": []
    },
    {
      "cell_type": "code",
      "metadata": {
        "id": "RpAJ9a1vH875",
        "colab_type": "code",
        "outputId": "b303c670-ff91-4940-f50d-2ad29dad4def",
        "colab": {
          "base_uri": "https://localhost:8080/",
          "height": 205,
          "referenced_widgets": [
            "0e6b06d9c8034134b16bef0b0ae1fe7c",
            "b7d473b748c242c9943b4a9f3cc5441d",
            "3f8c164a59af49df9ae213cc2aa3ec17",
            "636266fe3daf4963846600782909d8e8",
            "245159f45c4a4f298aef66eea7deced4",
            "2e8985ad97a847a0a856c69280e17e57",
            "48d4a337a49642b9b8cadd66f4b32755",
            "85cdaccf764048be8a0cdafb4d68e0a8"
          ]
        }
      },
      "source": [
        "learn.fit(1e-2,2, wds = wd, cycle_len=1, cycle_mult=2)"
      ],
      "execution_count": 0,
      "outputs": [
        {
          "output_type": "display_data",
          "data": {
            "application/vnd.jupyter.widget-view+json": {
              "model_id": "0e6b06d9c8034134b16bef0b0ae1fe7c",
              "version_minor": 0,
              "version_major": 2
            },
            "text/plain": [
              "HBox(children=(IntProgress(value=0, description='Epoch', max=3, style=ProgressStyle(description_width='initial…"
            ]
          },
          "metadata": {
            "tags": []
          }
        },
        {
          "output_type": "stream",
          "text": [
            "  1%|          | 15/1261 [00:00<00:18, 69.09it/s, loss=1.63]"
          ],
          "name": "stdout"
        },
        {
          "output_type": "stream",
          "text": [
            "/usr/local/lib/python3.6/dist-packages/torch/nn/functional.py:1351: UserWarning: nn.functional.sigmoid is deprecated. Use torch.sigmoid instead.\n",
            "  warnings.warn(\"nn.functional.sigmoid is deprecated. Use torch.sigmoid instead.\")\n"
          ],
          "name": "stderr"
        },
        {
          "output_type": "stream",
          "text": [
            "epoch      trn_loss   val_loss   \n",
            "    0      0.783299   0.774151  \n",
            "    1      0.733051   0.754413  \n",
            "    2      0.588378   0.735052  \n",
            "\n"
          ],
          "name": "stdout"
        },
        {
          "output_type": "execute_result",
          "data": {
            "text/plain": [
              "[0.7350520817464573]"
            ]
          },
          "metadata": {
            "tags": []
          },
          "execution_count": 15
        }
      ]
    },
    {
      "cell_type": "markdown",
      "metadata": {
        "id": "olzayw8iIwsS",
        "colab_type": "text"
      },
      "source": [
        "# Collaborating filter from scratch"
      ]
    },
    {
      "cell_type": "code",
      "metadata": {
        "id": "XTA1Q2QiIKgd",
        "colab_type": "code",
        "colab": {}
      },
      "source": [
        "u_uniq = ratings.userId.unique()\n",
        "user2idx = {o:i for i,o in enumerate(u_uniq)}\n",
        "ratings.userId = ratings.userId.apply(lambda x: user2idx[x])\n",
        "\n",
        "m_uniq = ratings.movieId.unique()\n",
        "movie2idx = {o:i for i,o in enumerate(m_uniq)}\n",
        "ratings.movieId = ratings.movieId.apply(lambda x: movie2idx[x])"
      ],
      "execution_count": 0,
      "outputs": []
    },
    {
      "cell_type": "code",
      "metadata": {
        "id": "Ha1Pbsi9I5ky",
        "colab_type": "code",
        "outputId": "012b43b0-1c85-4349-9519-940b62393d8d",
        "colab": {
          "base_uri": "https://localhost:8080/",
          "height": 34
        }
      },
      "source": [
        "n_users, n_movies"
      ],
      "execution_count": 0,
      "outputs": [
        {
          "output_type": "execute_result",
          "data": {
            "text/plain": [
              "(610, 9724)"
            ]
          },
          "metadata": {
            "tags": []
          },
          "execution_count": 17
        }
      ]
    },
    {
      "cell_type": "code",
      "metadata": {
        "id": "CKa13oAXI-cX",
        "colab_type": "code",
        "colab": {}
      },
      "source": [
        "val_indx = get_cv_idxs(len(ratings))  # index for validation set\n",
        "wd = 2e-4 # weight decay\n",
        "n_factors = 50 # n_factors i.e. 1 dimension of embeddings (random)"
      ],
      "execution_count": 0,
      "outputs": []
    },
    {
      "cell_type": "code",
      "metadata": {
        "id": "RPenQa1UJBpz",
        "colab_type": "code",
        "outputId": "1791cea5-18ba-4598-f3c8-d56755a63245",
        "colab": {
          "base_uri": "https://localhost:8080/",
          "height": 34
        }
      },
      "source": [
        "min_rating,max_rating = ratings.rating.min(),ratings.rating.max()\n",
        "min_rating,max_rating"
      ],
      "execution_count": 0,
      "outputs": [
        {
          "output_type": "execute_result",
          "data": {
            "text/plain": [
              "(0.5, 5.0)"
            ]
          },
          "metadata": {
            "tags": []
          },
          "execution_count": 19
        }
      ]
    },
    {
      "cell_type": "code",
      "metadata": {
        "id": "hVq2bPo3JCfN",
        "colab_type": "code",
        "colab": {}
      },
      "source": [
        "def get_emb(ni,nf):\n",
        "    e = nn.Embedding(ni, nf)\n",
        "    e.weight.data.uniform_(-0.01,0.01)\n",
        "    #e.weight.data.normal_(0,0.003)\n",
        "\n",
        "    return e"
      ],
      "execution_count": 0,
      "outputs": []
    },
    {
      "cell_type": "code",
      "metadata": {
        "id": "zw_ZUEBwJGOW",
        "colab_type": "code",
        "colab": {}
      },
      "source": [
        "x = ratings.drop(['rating'],axis=1)\n",
        "y = ratings['rating'].astype(np.float32)\n",
        "\n",
        "data = ColumnarModelData.from_data_frame('gdrive/My Drive/ml-latest-small', val_indx, x, y, ['userId', 'movieId'], 64)"
      ],
      "execution_count": 0,
      "outputs": []
    },
    {
      "cell_type": "code",
      "metadata": {
        "id": "YVoT8xiRLTo9",
        "colab_type": "code",
        "colab": {}
      },
      "source": [
        "# nh = dimension of hidden linear layer\n",
        "# p1 = dropout1\n",
        "# p2 = dropout2\n",
        "\n",
        "class EmbeddingNet(nn.Module):\n",
        "    def __init__(self, n_users, _n_movies, nh = 10, p1 = 0.05, p2= 0.5):\n",
        "        super().__init__()\n",
        "        (self.u, self.m, self.ub, self.mb) = [get_emb(*o) for o in [\n",
        "            (n_users, n_factors), (n_movies, n_factors),\n",
        "            (n_users,1), (n_movies,1)\n",
        "        ]]\n",
        "        \n",
        "        self.lin1 = nn.Linear(n_factors*2, nh)  # bias is True by default\n",
        "        self.lin2 = nn.Linear(nh, 1)\n",
        "        self.drop1 = nn.Dropout(p = p1)\n",
        "        self.drop2 = nn.Dropout(p = p2)\n",
        "    \n",
        "    def forward(self, cats, conts): # forward pass i.e.  dot product of vector from movie embedding matrixx\n",
        "                                    # and vector from user embeddings matrix\n",
        "        \n",
        "        # torch.cat : concatenates both embedding matrix to make more columns, same rows i.e. n_factors*2, n : rows\n",
        "        # u(users) is doing lookup for indexed mentioned in users\n",
        "        # users has indexes to lookup in embedding matrix. \n",
        "        \n",
        "        users,movies = cats[:,0],cats[:,1]\n",
        "        u2,m2 = self.u(users) , self.m(movies)\n",
        "       \n",
        "        x = self.drop1(torch.cat([u2,m2], 1)) # drop initialized weights\n",
        "        x = self.drop2(F.relu(self.lin1(x))) # drop 1st linear + nonlinear wt\n",
        "        r = F.sigmoid(self.lin2(x)) * (max_rating - min_rating) + min_rating               \n",
        "        return r"
      ],
      "execution_count": 0,
      "outputs": []
    },
    {
      "cell_type": "code",
      "metadata": {
        "id": "3G-e_bAOLbCA",
        "colab_type": "code",
        "colab": {}
      },
      "source": [
        "wd=1e-5\n",
        "model = EmbeddingNet(n_users, n_movies)\n",
        "#model = model.cuda()\n",
        "opt = optim.Adam(model.parameters(), 1e-3, weight_decay=wd) # got parameter() for free , lr = 1e-3"
      ],
      "execution_count": 0,
      "outputs": []
    },
    {
      "cell_type": "code",
      "metadata": {
        "id": "InGhyHNSLrPH",
        "colab_type": "code",
        "outputId": "8b9a7ffa-c560-4f8a-aa7c-e3ea0294c032",
        "colab": {
          "base_uri": "https://localhost:8080/",
          "height": 187
        }
      },
      "source": [
        "model"
      ],
      "execution_count": 0,
      "outputs": [
        {
          "output_type": "execute_result",
          "data": {
            "text/plain": [
              "EmbeddingNet(\n",
              "  (u): Embedding(610, 50)\n",
              "  (m): Embedding(9724, 50)\n",
              "  (ub): Embedding(610, 1)\n",
              "  (mb): Embedding(9724, 1)\n",
              "  (lin1): Linear(in_features=100, out_features=10, bias=True)\n",
              "  (lin2): Linear(in_features=10, out_features=1, bias=True)\n",
              "  (drop1): Dropout(p=0.05, inplace=False)\n",
              "  (drop2): Dropout(p=0.5, inplace=False)\n",
              ")"
            ]
          },
          "metadata": {
            "tags": []
          },
          "execution_count": 26
        }
      ]
    },
    {
      "cell_type": "code",
      "metadata": {
        "id": "YuXQgPBMLyFx",
        "colab_type": "code",
        "outputId": "edf968f7-41b9-463f-9451-0b00bc7d1067",
        "colab": {
          "base_uri": "https://localhost:8080/",
          "height": 205,
          "referenced_widgets": [
            "abc1821d984645608c3c313573e710fd",
            "8e880fdb19914b939b00290d35a1a499",
            "e648a14c64e7487b8323cdbe62a935f2",
            "dc48ac207f80428e948f1ffd11022cdc",
            "706331eb6bc84c56bd1714ff688a15d7",
            "25230b06a4f84bee8452dda6fb4390b6",
            "f8f462d8f53b4280896d6e7cf143f77f",
            "5496e364642f45bb812e0d69a4fa2b04"
          ]
        }
      },
      "source": [
        "\n",
        "fit(model, data, 3, opt, F.mse_loss)"
      ],
      "execution_count": 0,
      "outputs": [
        {
          "output_type": "display_data",
          "data": {
            "application/vnd.jupyter.widget-view+json": {
              "model_id": "abc1821d984645608c3c313573e710fd",
              "version_minor": 0,
              "version_major": 2
            },
            "text/plain": [
              "HBox(children=(IntProgress(value=0, description='Epoch', max=3, style=ProgressStyle(description_width='initial…"
            ]
          },
          "metadata": {
            "tags": []
          }
        },
        {
          "output_type": "stream",
          "text": [
            "  1%|▏         | 17/1261 [00:00<00:16, 75.58it/s, loss=1.95]"
          ],
          "name": "stdout"
        },
        {
          "output_type": "stream",
          "text": [
            "/usr/local/lib/python3.6/dist-packages/torch/nn/functional.py:1351: UserWarning: nn.functional.sigmoid is deprecated. Use torch.sigmoid instead.\n",
            "  warnings.warn(\"nn.functional.sigmoid is deprecated. Use torch.sigmoid instead.\")\n"
          ],
          "name": "stderr"
        },
        {
          "output_type": "stream",
          "text": [
            "epoch      trn_loss   val_loss   \n",
            "    0      0.850896   0.788031  \n",
            "    1      0.780398   0.767577  \n",
            "    2      0.732759   0.76894   \n",
            "\n"
          ],
          "name": "stdout"
        },
        {
          "output_type": "execute_result",
          "data": {
            "text/plain": [
              "[0.7689395845039815]"
            ]
          },
          "metadata": {
            "tags": []
          },
          "execution_count": 27
        }
      ]
    },
    {
      "cell_type": "code",
      "metadata": {
        "id": "F8g0-8diMG0s",
        "colab_type": "code",
        "colab": {}
      },
      "source": [
        "set_lrs(opt, 1e-3)"
      ],
      "execution_count": 0,
      "outputs": []
    },
    {
      "cell_type": "code",
      "metadata": {
        "id": "GRxU0tuZMLNs",
        "colab_type": "code",
        "outputId": "fad50ce4-adaa-41d6-b8a5-c8fc12dc40c4",
        "colab": {
          "base_uri": "https://localhost:8080/",
          "height": 205,
          "referenced_widgets": [
            "06daceb3900d448ba287cd55055e7c15",
            "934e9d4e733142079234823aec0da22f",
            "c542963d20e646dbb4522697ed6a6c20",
            "ba7c37cf47c44cc5847be884bc27fc55",
            "83d6d05825d647fca74fcb04958632f2",
            "8ea502750b2f4b219fddd2737e780c40",
            "53936d3bf3084745be9960518627d02f",
            "4916f6cddecd45c9a71430c1f72fe3a9"
          ]
        }
      },
      "source": [
        "fit(model, data, 3, opt, F.mse_loss)"
      ],
      "execution_count": 0,
      "outputs": [
        {
          "output_type": "display_data",
          "data": {
            "application/vnd.jupyter.widget-view+json": {
              "model_id": "06daceb3900d448ba287cd55055e7c15",
              "version_minor": 0,
              "version_major": 2
            },
            "text/plain": [
              "HBox(children=(IntProgress(value=0, description='Epoch', max=3, style=ProgressStyle(description_width='initial…"
            ]
          },
          "metadata": {
            "tags": []
          }
        },
        {
          "output_type": "stream",
          "text": [
            "  0%|          | 6/1261 [00:00<00:21, 57.89it/s, loss=0.747]"
          ],
          "name": "stdout"
        },
        {
          "output_type": "stream",
          "text": [
            "/usr/local/lib/python3.6/dist-packages/torch/nn/functional.py:1351: UserWarning: nn.functional.sigmoid is deprecated. Use torch.sigmoid instead.\n",
            "  warnings.warn(\"nn.functional.sigmoid is deprecated. Use torch.sigmoid instead.\")\n"
          ],
          "name": "stderr"
        },
        {
          "output_type": "stream",
          "text": [
            "epoch      trn_loss   val_loss   \n",
            "    0      0.742704   0.769719  \n",
            "    1      0.722744   0.768911  \n",
            "    2      0.706393   0.771855  \n",
            "\n"
          ],
          "name": "stdout"
        },
        {
          "output_type": "execute_result",
          "data": {
            "text/plain": [
              "[0.7718545336982116]"
            ]
          },
          "metadata": {
            "tags": []
          },
          "execution_count": 30
        }
      ]
    },
    {
      "cell_type": "code",
      "metadata": {
        "id": "M0wty2NlOgBH",
        "colab_type": "code",
        "colab": {}
      },
      "source": [
        "from surprise import Reader, Dataset\n",
        "# Define the format\n",
        "\n",
        "reader = Reader(line_format='user item rating timestamp', sep='\\t')\n",
        "# Load the data from the file using the reader format\n",
        "\n",
        "data = Dataset.load_from_file('gdrive/My Drive/ml-100k/u.data', reader=reader)"
      ],
      "execution_count": 0,
      "outputs": []
    },
    {
      "cell_type": "code",
      "metadata": {
        "id": "w9JPERqJOrQH",
        "colab_type": "code",
        "outputId": "6757f2b6-d652-4f79-bb52-373ee46af8fd",
        "colab": {
          "base_uri": "https://localhost:8080/",
          "height": 111
        }
      },
      "source": [
        "ratings[:2]"
      ],
      "execution_count": 0,
      "outputs": [
        {
          "output_type": "execute_result",
          "data": {
            "text/html": [
              "<div>\n",
              "<style scoped>\n",
              "    .dataframe tbody tr th:only-of-type {\n",
              "        vertical-align: middle;\n",
              "    }\n",
              "\n",
              "    .dataframe tbody tr th {\n",
              "        vertical-align: top;\n",
              "    }\n",
              "\n",
              "    .dataframe thead th {\n",
              "        text-align: right;\n",
              "    }\n",
              "</style>\n",
              "<table border=\"1\" class=\"dataframe\">\n",
              "  <thead>\n",
              "    <tr style=\"text-align: right;\">\n",
              "      <th></th>\n",
              "      <th>userId</th>\n",
              "      <th>movieId</th>\n",
              "      <th>rating</th>\n",
              "      <th>timestamp</th>\n",
              "    </tr>\n",
              "  </thead>\n",
              "  <tbody>\n",
              "    <tr>\n",
              "      <th>0</th>\n",
              "      <td>0</td>\n",
              "      <td>0</td>\n",
              "      <td>4.0</td>\n",
              "      <td>964982703</td>\n",
              "    </tr>\n",
              "    <tr>\n",
              "      <th>1</th>\n",
              "      <td>0</td>\n",
              "      <td>1</td>\n",
              "      <td>4.0</td>\n",
              "      <td>964981247</td>\n",
              "    </tr>\n",
              "  </tbody>\n",
              "</table>\n",
              "</div>"
            ],
            "text/plain": [
              "   userId  movieId  rating  timestamp\n",
              "0       0        0     4.0  964982703\n",
              "1       0        1     4.0  964981247"
            ]
          },
          "metadata": {
            "tags": []
          },
          "execution_count": 32
        }
      ]
    },
    {
      "cell_type": "code",
      "metadata": {
        "id": "kWdBsKlOOylV",
        "colab_type": "code",
        "colab": {}
      },
      "source": [
        "ratings_dict = {'itemID': list(ratings.movieId),\n",
        "                'userID': list(ratings.userId),\n",
        "                'rating': list(ratings.rating)}\n",
        "df = pd.DataFrame(ratings_dict)\n",
        "\n",
        "# A reader is still needed but only the rating_scale param is requiered.\n",
        "reader = Reader(rating_scale=(0.5, 5.0))\n",
        "# The columns must correspond to user id, item id and ratings (in that order).\n",
        "data = Dataset.load_from_df(df[['userID', 'itemID', 'rating']], reader)"
      ],
      "execution_count": 0,
      "outputs": []
    },
    {
      "cell_type": "code",
      "metadata": {
        "id": "z9qRxq-dFXdS",
        "colab_type": "code",
        "colab": {
          "base_uri": "https://localhost:8080/",
          "height": 51
        },
        "outputId": "64c94bb3-e8c4-4b47-93a3-0608d117023b"
      },
      "source": [
        "# train SVD on 75% of known rates\n",
        "trainset, testset = train_test_split(data, test_size=.25)\n",
        "algorithm = SVD()\n",
        "algorithm.fit(trainset)\n",
        "predictions = algorithm.test(testset)\n",
        "\n",
        "# check the accuracy using Root Mean Square Error\n",
        "accuracy.rmse(predictions)"
      ],
      "execution_count": 13,
      "outputs": [
        {
          "output_type": "stream",
          "text": [
            "RMSE: 0.8769\n"
          ],
          "name": "stdout"
        },
        {
          "output_type": "execute_result",
          "data": {
            "text/plain": [
              "0.8769274006843453"
            ]
          },
          "metadata": {
            "tags": []
          },
          "execution_count": 13
        }
      ]
    },
    {
      "cell_type": "code",
      "metadata": {
        "id": "UJ8hCkJtFdsB",
        "colab_type": "code",
        "colab": {}
      },
      "source": [
        "def pred_user_rating(ui):\n",
        "    if ui in ratings_f.userId.unique():\n",
        "        ui_list = ratings_f[ratings_f.userId == ui].movieId.tolist()\n",
        "        d = {k: v for k,v in Mapping_file.items() if not v in ui_list}        \n",
        "        predictedL = []\n",
        "        for i, j in d.items():     \n",
        "            predicted = algorithm.predict(ui, j)\n",
        "            predictedL.append((i, predicted[3])) \n",
        "        pdf = pd.DataFrame(predictedL, columns = ['movies', 'ratings'])\n",
        "        pdf.sort_values('ratings', ascending=False, inplace=True)  \n",
        "        pdf.set_index('movies', inplace=True)    \n",
        "        return pdf.head(10)        \n",
        "    else:\n",
        "        print(\"User Id does not exist in the list!\")\n",
        "        return None"
      ],
      "execution_count": 0,
      "outputs": []
    },
    {
      "cell_type": "code",
      "metadata": {
        "id": "nl3wq59pFhLW",
        "colab_type": "code",
        "colab": {
          "base_uri": "https://localhost:8080/",
          "height": 300
        },
        "outputId": "ec63efb3-052b-4713-d4e8-167b5e3ff0e1"
      },
      "source": [
        "user_id = 7020\n",
        "pred_user_rating(user_id)"
      ],
      "execution_count": 15,
      "outputs": [
        {
          "output_type": "error",
          "ename": "NameError",
          "evalue": "ignored",
          "traceback": [
            "\u001b[0;31m---------------------------------------------------------------------------\u001b[0m",
            "\u001b[0;31mNameError\u001b[0m                                 Traceback (most recent call last)",
            "\u001b[0;32m<ipython-input-15-6cd8964ec2bf>\u001b[0m in \u001b[0;36m<module>\u001b[0;34m()\u001b[0m\n\u001b[1;32m      1\u001b[0m \u001b[0muser_id\u001b[0m \u001b[0;34m=\u001b[0m \u001b[0;36m7020\u001b[0m\u001b[0;34m\u001b[0m\u001b[0;34m\u001b[0m\u001b[0m\n\u001b[0;32m----> 2\u001b[0;31m \u001b[0mpred_user_rating\u001b[0m\u001b[0;34m(\u001b[0m\u001b[0muser_id\u001b[0m\u001b[0;34m)\u001b[0m\u001b[0;34m\u001b[0m\u001b[0;34m\u001b[0m\u001b[0m\n\u001b[0m",
            "\u001b[0;32m<ipython-input-14-3883dc92a420>\u001b[0m in \u001b[0;36mpred_user_rating\u001b[0;34m(ui)\u001b[0m\n\u001b[1;32m      1\u001b[0m \u001b[0;32mdef\u001b[0m \u001b[0mpred_user_rating\u001b[0m\u001b[0;34m(\u001b[0m\u001b[0mui\u001b[0m\u001b[0;34m)\u001b[0m\u001b[0;34m:\u001b[0m\u001b[0;34m\u001b[0m\u001b[0;34m\u001b[0m\u001b[0m\n\u001b[0;32m----> 2\u001b[0;31m     \u001b[0;32mif\u001b[0m \u001b[0mui\u001b[0m \u001b[0;32min\u001b[0m \u001b[0mratings_f\u001b[0m\u001b[0;34m.\u001b[0m\u001b[0muserId\u001b[0m\u001b[0;34m.\u001b[0m\u001b[0munique\u001b[0m\u001b[0;34m(\u001b[0m\u001b[0;34m)\u001b[0m\u001b[0;34m:\u001b[0m\u001b[0;34m\u001b[0m\u001b[0;34m\u001b[0m\u001b[0m\n\u001b[0m\u001b[1;32m      3\u001b[0m         \u001b[0mui_list\u001b[0m \u001b[0;34m=\u001b[0m \u001b[0mratings_f\u001b[0m\u001b[0;34m[\u001b[0m\u001b[0mratings_f\u001b[0m\u001b[0;34m.\u001b[0m\u001b[0muserId\u001b[0m \u001b[0;34m==\u001b[0m \u001b[0mui\u001b[0m\u001b[0;34m]\u001b[0m\u001b[0;34m.\u001b[0m\u001b[0mmovieId\u001b[0m\u001b[0;34m.\u001b[0m\u001b[0mtolist\u001b[0m\u001b[0;34m(\u001b[0m\u001b[0;34m)\u001b[0m\u001b[0;34m\u001b[0m\u001b[0;34m\u001b[0m\u001b[0m\n\u001b[1;32m      4\u001b[0m         \u001b[0md\u001b[0m \u001b[0;34m=\u001b[0m \u001b[0;34m{\u001b[0m\u001b[0mk\u001b[0m\u001b[0;34m:\u001b[0m \u001b[0mv\u001b[0m \u001b[0;32mfor\u001b[0m \u001b[0mk\u001b[0m\u001b[0;34m,\u001b[0m\u001b[0mv\u001b[0m \u001b[0;32min\u001b[0m \u001b[0mMapping_file\u001b[0m\u001b[0;34m.\u001b[0m\u001b[0mitems\u001b[0m\u001b[0;34m(\u001b[0m\u001b[0;34m)\u001b[0m \u001b[0;32mif\u001b[0m \u001b[0;32mnot\u001b[0m \u001b[0mv\u001b[0m \u001b[0;32min\u001b[0m \u001b[0mui_list\u001b[0m\u001b[0;34m}\u001b[0m\u001b[0;34m\u001b[0m\u001b[0;34m\u001b[0m\u001b[0m\n\u001b[1;32m      5\u001b[0m         \u001b[0mpredictedL\u001b[0m \u001b[0;34m=\u001b[0m \u001b[0;34m[\u001b[0m\u001b[0;34m]\u001b[0m\u001b[0;34m\u001b[0m\u001b[0;34m\u001b[0m\u001b[0m\n",
            "\u001b[0;31mNameError\u001b[0m: name 'ratings_f' is not defined"
          ]
        }
      ]
    },
    {
      "cell_type": "code",
      "metadata": {
        "id": "5-aHmqclO2RV",
        "colab_type": "code",
        "outputId": "f1e1d070-037d-4357-9b58-0caecebe2a17",
        "colab": {
          "base_uri": "https://localhost:8080/",
          "height": 181
        }
      },
      "source": [
        "# Split data into 5 folds\n",
        "\n",
        "#data.split(n_folds=5)"
      ],
      "execution_count": 0,
      "outputs": [
        {
          "output_type": "error",
          "ename": "AttributeError",
          "evalue": "ignored",
          "traceback": [
            "\u001b[0;31m---------------------------------------------------------------------------\u001b[0m",
            "\u001b[0;31mAttributeError\u001b[0m                            Traceback (most recent call last)",
            "\u001b[0;32m<ipython-input-36-5742e68c2289>\u001b[0m in \u001b[0;36m<module>\u001b[0;34m()\u001b[0m\n\u001b[1;32m      1\u001b[0m \u001b[0;34m\u001b[0m\u001b[0m\n\u001b[0;32m----> 2\u001b[0;31m \u001b[0mdata\u001b[0m\u001b[0;34m.\u001b[0m\u001b[0msplit\u001b[0m\u001b[0;34m(\u001b[0m\u001b[0mn_folds\u001b[0m\u001b[0;34m=\u001b[0m\u001b[0;36m5\u001b[0m\u001b[0;34m)\u001b[0m\u001b[0;34m\u001b[0m\u001b[0;34m\u001b[0m\u001b[0m\n\u001b[0m",
            "\u001b[0;31mAttributeError\u001b[0m: 'DatasetAutoFolds' object has no attribute 'split'"
          ]
        }
      ]
    },
    {
      "cell_type": "markdown",
      "metadata": {
        "id": "A5UhpHuucwHx",
        "colab_type": "text"
      },
      "source": [
        "# Surprise package"
      ]
    },
    {
      "cell_type": "code",
      "metadata": {
        "id": "PtdLXf-0QY6f",
        "colab_type": "code",
        "outputId": "608c6542-23a6-4507-8407-a92f0dff9de3",
        "colab": {
          "base_uri": "https://localhost:8080/",
          "height": 119
        }
      },
      "source": [
        "!pip install surprise"
      ],
      "execution_count": 0,
      "outputs": [
        {
          "output_type": "stream",
          "text": [
            "Requirement already satisfied: surprise in /usr/local/lib/python3.6/dist-packages (0.1)\n",
            "Requirement already satisfied: scikit-surprise in /usr/local/lib/python3.6/dist-packages (from surprise) (1.1.0)\n",
            "Requirement already satisfied: numpy>=1.11.2 in /usr/local/lib/python3.6/dist-packages (from scikit-surprise->surprise) (1.17.5)\n",
            "Requirement already satisfied: joblib>=0.11 in /usr/local/lib/python3.6/dist-packages (from scikit-surprise->surprise) (0.14.1)\n",
            "Requirement already satisfied: six>=1.10.0 in /usr/local/lib/python3.6/dist-packages (from scikit-surprise->surprise) (1.12.0)\n",
            "Requirement already satisfied: scipy>=1.0.0 in /usr/local/lib/python3.6/dist-packages (from scikit-surprise->surprise) (1.4.1)\n"
          ],
          "name": "stdout"
        }
      ]
    },
    {
      "cell_type": "markdown",
      "metadata": {
        "id": "J51VIpcjc-FN",
        "colab_type": "text"
      },
      "source": [
        "# SVD"
      ]
    },
    {
      "cell_type": "code",
      "metadata": {
        "id": "csz8SyVIQUMt",
        "colab_type": "code",
        "colab": {
          "base_uri": "https://localhost:8080/",
          "height": 317
        },
        "outputId": "de80e9a3-c1f7-4e2c-c417-571c0db05d92"
      },
      "source": [
        "from surprise import SVD\n",
        "from surprise.model_selection import cross_validate"
      ],
      "execution_count": 8,
      "outputs": [
        {
          "output_type": "error",
          "ename": "ModuleNotFoundError",
          "evalue": "ignored",
          "traceback": [
            "\u001b[0;31m---------------------------------------------------------------------------\u001b[0m",
            "\u001b[0;31mModuleNotFoundError\u001b[0m                       Traceback (most recent call last)",
            "\u001b[0;32m<ipython-input-8-a8ebfa53235b>\u001b[0m in \u001b[0;36m<module>\u001b[0;34m()\u001b[0m\n\u001b[0;32m----> 1\u001b[0;31m \u001b[0;32mfrom\u001b[0m \u001b[0msurprise\u001b[0m \u001b[0;32mimport\u001b[0m \u001b[0mSVD\u001b[0m\u001b[0;34m\u001b[0m\u001b[0;34m\u001b[0m\u001b[0m\n\u001b[0m\u001b[1;32m      2\u001b[0m \u001b[0;32mfrom\u001b[0m \u001b[0msurprise\u001b[0m\u001b[0;34m.\u001b[0m\u001b[0mmodel_selection\u001b[0m \u001b[0;32mimport\u001b[0m \u001b[0mcross_validate\u001b[0m\u001b[0;34m\u001b[0m\u001b[0;34m\u001b[0m\u001b[0m\n",
            "\u001b[0;31mModuleNotFoundError\u001b[0m: No module named 'surprise'",
            "",
            "\u001b[0;31m---------------------------------------------------------------------------\u001b[0;32m\nNOTE: If your import is failing due to a missing package, you can\nmanually install dependencies using either !pip or !apt.\n\nTo view examples of installing some common dependencies, click the\n\"Open Examples\" button below.\n\u001b[0;31m---------------------------------------------------------------------------\u001b[0m\n"
          ]
        }
      ]
    },
    {
      "cell_type": "code",
      "metadata": {
        "id": "WLMEnhn2QvAJ",
        "colab_type": "code",
        "colab": {}
      },
      "source": [
        "\n",
        "from surprise.model_selection import GridSearchCV\n"
      ],
      "execution_count": 0,
      "outputs": []
    },
    {
      "cell_type": "code",
      "metadata": {
        "id": "pABp8AcFRXZt",
        "colab_type": "code",
        "outputId": "58cc9d32-000b-42c9-bdc9-9890dec51f15",
        "colab": {
          "base_uri": "https://localhost:8080/",
          "height": 51
        }
      },
      "source": [
        "param_grid = {'lr_all': [0.002, 0.005],\n",
        "              'reg_all': [0.4, 0.6]}\n",
        "grid_search = GridSearchCV(SVD, param_grid, measures=['RMSE'])\n",
        "grid_search.fit(data)\n",
        "\n",
        "# best RMSE score\n",
        "print(grid_search.best_score['rmse'])\n",
        "\n",
        "# combination of parameters that gave the best RMSE score\n",
        "print(grid_search.best_params['rmse'])"
      ],
      "execution_count": 0,
      "outputs": [
        {
          "output_type": "stream",
          "text": [
            "0.8826561113722182\n",
            "{'lr_all': 0.005, 'reg_all': 0.4}\n"
          ],
          "name": "stdout"
        }
      ]
    },
    {
      "cell_type": "markdown",
      "metadata": {
        "id": "E-bzVd-3VCFj",
        "colab_type": "text"
      },
      "source": [
        "https://surprise.readthedocs.io/en/stable/getting_started.html"
      ]
    },
    {
      "cell_type": "code",
      "metadata": {
        "id": "qtwX76kbUcj5",
        "colab_type": "code",
        "outputId": "a501e86f-f639-4849-94a0-05d5108e87b5",
        "colab": {
          "base_uri": "https://localhost:8080/",
          "height": 340
        }
      },
      "source": [
        "\n",
        "# We'll use the famous SVD algorithm.\n",
        "algo = SVD()\n",
        "\n",
        "# Run 5-fold cross-validation and print results\n",
        "cross_validate(algo, data, measures=['RMSE', 'MAE'], cv=5, verbose=True)"
      ],
      "execution_count": 0,
      "outputs": [
        {
          "output_type": "stream",
          "text": [
            "Evaluating RMSE, MAE of algorithm SVD on 5 split(s).\n",
            "\n",
            "                  Fold 1  Fold 2  Fold 3  Fold 4  Fold 5  Mean    Std     \n",
            "RMSE (testset)    0.8836  0.8754  0.8727  0.8697  0.8716  0.8746  0.0049  \n",
            "MAE (testset)     0.6775  0.6726  0.6736  0.6676  0.6704  0.6723  0.0033  \n",
            "Fit time          5.35    5.38    5.27    5.39    5.48    5.37    0.07    \n",
            "Test time         0.14    0.25    0.15    0.15    0.14    0.17    0.04    \n"
          ],
          "name": "stdout"
        },
        {
          "output_type": "execute_result",
          "data": {
            "text/plain": [
              "{'fit_time': (5.352824687957764,\n",
              "  5.376279830932617,\n",
              "  5.266646862030029,\n",
              "  5.394549608230591,\n",
              "  5.476244211196899),\n",
              " 'test_mae': array([0.67754, 0.67259, 0.6736 , 0.66759, 0.67042]),\n",
              " 'test_rmse': array([0.88363, 0.87544, 0.87267, 0.86968, 0.87162]),\n",
              " 'test_time': (0.14324069023132324,\n",
              "  0.24808025360107422,\n",
              "  0.14529085159301758,\n",
              "  0.14739251136779785,\n",
              "  0.1432640552520752)}"
            ]
          },
          "metadata": {
            "tags": []
          },
          "execution_count": 47
        }
      ]
    },
    {
      "cell_type": "markdown",
      "metadata": {
        "id": "IwYOECoBdDvu",
        "colab_type": "text"
      },
      "source": [
        "# KNN algorithm"
      ]
    },
    {
      "cell_type": "code",
      "metadata": {
        "id": "CbiyrzDgTcFY",
        "colab_type": "code",
        "outputId": "a380a9fe-fd1a-4ccf-ecca-9ebc9a27d812",
        "colab": {
          "base_uri": "https://localhost:8080/",
          "height": 68
        }
      },
      "source": [
        "from surprise import KNNBasic\n",
        "from surprise import Dataset\n",
        "\n",
        "# Load the movielens-100k dataset\n",
        "#data = Dataset.load_builtin('ml-100k')\n",
        "\n",
        "# Retrieve the trainset.\n",
        "trainset = data.build_full_trainset()\n",
        "\n",
        "# Build an algorithm, and train it.\n",
        "algo = KNNBasic()\n",
        "algo.fit(trainset)"
      ],
      "execution_count": 0,
      "outputs": [
        {
          "output_type": "stream",
          "text": [
            "Computing the msd similarity matrix...\n",
            "Done computing similarity matrix.\n"
          ],
          "name": "stdout"
        },
        {
          "output_type": "execute_result",
          "data": {
            "text/plain": [
              "<surprise.prediction_algorithms.knns.KNNBasic at 0x7f49057de400>"
            ]
          },
          "metadata": {
            "tags": []
          },
          "execution_count": 49
        }
      ]
    },
    {
      "cell_type": "code",
      "metadata": {
        "id": "XWLxg9VxViJu",
        "colab_type": "code",
        "outputId": "155c3145-3f25-4c3f-ff65-137905cbaa0c",
        "colab": {
          "base_uri": "https://localhost:8080/",
          "height": 34
        }
      },
      "source": [
        "uid = str(196)  # raw user id (as in the ratings file). They are **strings**!\n",
        "iid = str(302)  # raw item id (as in the ratings file). They are **strings**!\n",
        "\n",
        "# get a prediction for specific users and items.\n",
        "pred = algo.predict(uid, iid, r_ui=4, verbose=True)"
      ],
      "execution_count": 0,
      "outputs": [
        {
          "output_type": "stream",
          "text": [
            "user: 196        item: 302        r_ui = 4.00   est = 3.50   {'was_impossible': True, 'reason': 'User and/or item is unkown.'}\n"
          ],
          "name": "stdout"
        }
      ]
    },
    {
      "cell_type": "code",
      "metadata": {
        "id": "nCQSZy4JVj1R",
        "colab_type": "code",
        "colab": {}
      },
      "source": [
        "from surprise import BaselineOnly\n"
      ],
      "execution_count": 0,
      "outputs": []
    },
    {
      "cell_type": "code",
      "metadata": {
        "id": "U9Kcv22uVtFk",
        "colab_type": "code",
        "outputId": "28df8bbf-9173-452c-8765-179fb3db907a",
        "colab": {
          "base_uri": "https://localhost:8080/",
          "height": 425
        }
      },
      "source": [
        "cross_validate(BaselineOnly(), data, verbose=True)"
      ],
      "execution_count": 0,
      "outputs": [
        {
          "output_type": "stream",
          "text": [
            "Estimating biases using als...\n",
            "Estimating biases using als...\n",
            "Estimating biases using als...\n",
            "Estimating biases using als...\n",
            "Estimating biases using als...\n",
            "Evaluating RMSE, MAE of algorithm BaselineOnly on 5 split(s).\n",
            "\n",
            "                  Fold 1  Fold 2  Fold 3  Fold 4  Fold 5  Mean    Std     \n",
            "RMSE (testset)    0.8744  0.8758  0.8700  0.8740  0.8697  0.8728  0.0025  \n",
            "MAE (testset)     0.6727  0.6753  0.6734  0.6737  0.6691  0.6729  0.0021  \n",
            "Fit time          0.26    0.25    0.26    0.25    0.19    0.24    0.03    \n",
            "Test time         0.21    0.09    0.21    0.09    0.08    0.14    0.06    \n"
          ],
          "name": "stdout"
        },
        {
          "output_type": "execute_result",
          "data": {
            "text/plain": [
              "{'fit_time': (0.2623324394226074,\n",
              "  0.2469778060913086,\n",
              "  0.2605245113372803,\n",
              "  0.2513587474822998,\n",
              "  0.19013547897338867),\n",
              " 'test_mae': array([0.67275, 0.67532, 0.6734 , 0.67373, 0.66911]),\n",
              " 'test_rmse': array([0.87441, 0.87578, 0.87004, 0.87399, 0.86969]),\n",
              " 'test_time': (0.2077643871307373,\n",
              "  0.08873724937438965,\n",
              "  0.21107125282287598,\n",
              "  0.08643054962158203,\n",
              "  0.08424139022827148)}"
            ]
          },
          "metadata": {
            "tags": []
          },
          "execution_count": 52
        }
      ]
    },
    {
      "cell_type": "code",
      "metadata": {
        "id": "TcrYYAv6VvSR",
        "colab_type": "code",
        "outputId": "772ddb71-7537-44a4-ec96-72324291d28a",
        "colab": {
          "base_uri": "https://localhost:8080/",
          "height": 85
        }
      },
      "source": [
        "\n",
        "from surprise import NormalPredictor\n",
        "from surprise import Dataset\n",
        "from surprise import Reader\n",
        "from surprise.model_selection import cross_validate\n",
        "\n",
        "\n",
        "# Creation of the dataframe. Column names are irrelevant.\n",
        "ratings_dict = {'itemID': [1, 1, 1, 2, 2],\n",
        "                'userID': [9, 32, 2, 45, 'user_foo'],\n",
        "                'rating': [3, 2, 4, 3, 1]}\n",
        "df = pd.DataFrame(ratings_dict)\n",
        "\n",
        "# A reader is still needed but only the rating_scale param is requiered.\n",
        "reader = Reader(rating_scale=(1, 5))\n",
        "\n",
        "# The columns must correspond to user id, item id and ratings (in that order).\n",
        "data = Dataset.load_from_df(df[['userID', 'itemID', 'rating']], reader)\n",
        "\n",
        "# We can now use this dataset as we please, e.g. calling cross_validate\n",
        "cross_validate(NormalPredictor(), data, cv=2)"
      ],
      "execution_count": 0,
      "outputs": [
        {
          "output_type": "execute_result",
          "data": {
            "text/plain": [
              "{'fit_time': (0.0004374980926513672, 7.987022399902344e-05),\n",
              " 'test_mae': array([0.90873, 0.7628 ]),\n",
              " 'test_rmse': array([0.93396, 0.78011]),\n",
              " 'test_time': (0.00010037422180175781, 5.626678466796875e-05)}"
            ]
          },
          "metadata": {
            "tags": []
          },
          "execution_count": 53
        }
      ]
    },
    {
      "cell_type": "code",
      "metadata": {
        "id": "qU2S3hKNV26B",
        "colab_type": "code",
        "outputId": "aafe7cd6-f446-4777-dd8e-132ddd6e5a7e",
        "colab": {
          "base_uri": "https://localhost:8080/",
          "height": 68
        }
      },
      "source": [
        "from surprise.model_selection import KFold\n",
        "from surprise import accuracy\n",
        "kf = KFold(n_splits=3)\n",
        "\n",
        "algo = SVD()\n",
        "\n",
        "for trainset, testset in kf.split(data):\n",
        "\n",
        "    # train and test algorithm.\n",
        "    algo.fit(trainset)\n",
        "    predictions = algo.test(testset)\n",
        "\n",
        "    # Compute and print Root Mean Squared Error\n",
        "    accuracy.rmse(predictions, verbose=True)"
      ],
      "execution_count": 0,
      "outputs": [
        {
          "output_type": "stream",
          "text": [
            "RMSE: 1.8870\n",
            "RMSE: 0.6739\n",
            "RMSE: 1.7079\n"
          ],
          "name": "stdout"
        }
      ]
    },
    {
      "cell_type": "code",
      "metadata": {
        "id": "1G6HpICZWYbj",
        "colab_type": "code",
        "colab": {}
      },
      "source": [
        "predictions = algo.fit(trainset).test(testset)"
      ],
      "execution_count": 0,
      "outputs": []
    },
    {
      "cell_type": "markdown",
      "metadata": {
        "id": "y8rFBNVGdRo7",
        "colab_type": "text"
      },
      "source": [
        "# NMF"
      ]
    },
    {
      "cell_type": "code",
      "metadata": {
        "id": "7ht51e5kWgvW",
        "colab_type": "code",
        "colab": {}
      },
      "source": [
        "from surprise import NMF"
      ],
      "execution_count": 0,
      "outputs": []
    },
    {
      "cell_type": "code",
      "metadata": {
        "id": "onIZX7aoWtKl",
        "colab_type": "code",
        "outputId": "432a9872-429f-47d7-f833-903114cf649b",
        "colab": {
          "base_uri": "https://localhost:8080/",
          "height": 340
        }
      },
      "source": [
        "algo = NMF()\n",
        "cross_validate(algo, data, measures=['RMSE', 'MAE'], cv=5, verbose=True)"
      ],
      "execution_count": 0,
      "outputs": [
        {
          "output_type": "stream",
          "text": [
            "Evaluating RMSE, MAE of algorithm NMF on 5 split(s).\n",
            "\n",
            "                  Fold 1  Fold 2  Fold 3  Fold 4  Fold 5  Mean    Std     \n",
            "RMSE (testset)    0.5000  0.5000  0.7500  2.0000  1.7500  1.1000  0.6442  \n",
            "MAE (testset)     0.5000  0.5000  0.7500  2.0000  1.7500  1.1000  0.6442  \n",
            "Fit time          0.01    0.00    0.00    0.00    0.00    0.00    0.00    \n",
            "Test time         0.00    0.00    0.00    0.00    0.00    0.00    0.00    \n"
          ],
          "name": "stdout"
        },
        {
          "output_type": "execute_result",
          "data": {
            "text/plain": [
              "{'fit_time': (0.00769805908203125,\n",
              "  0.000982522964477539,\n",
              "  0.0009407997131347656,\n",
              "  0.00098419189453125,\n",
              "  0.0011191368103027344),\n",
              " 'test_mae': array([0.5 , 0.5 , 0.75, 2.  , 1.75]),\n",
              " 'test_rmse': array([0.5 , 0.5 , 0.75, 2.  , 1.75]),\n",
              " 'test_time': (5.936622619628906e-05,\n",
              "  2.6464462280273438e-05,\n",
              "  2.1457672119140625e-05,\n",
              "  2.3365020751953125e-05,\n",
              "  4.5299530029296875e-05)}"
            ]
          },
          "metadata": {
            "tags": []
          },
          "execution_count": 60
        }
      ]
    },
    {
      "cell_type": "code",
      "metadata": {
        "id": "sGcuLvnSW8QA",
        "colab_type": "code",
        "colab": {}
      },
      "source": [
        "ratings = pd.read_csv('gdrive/My Drive/ml-latest-small/ratings.csv')"
      ],
      "execution_count": 0,
      "outputs": []
    },
    {
      "cell_type": "code",
      "metadata": {
        "id": "zMWMlWVOXM9U",
        "colab_type": "code",
        "outputId": "419a26a3-53bd-4241-c2d5-ffad5f9f34db",
        "colab": {
          "base_uri": "https://localhost:8080/",
          "height": 111
        }
      },
      "source": [
        "ratings[:2]"
      ],
      "execution_count": 0,
      "outputs": [
        {
          "output_type": "execute_result",
          "data": {
            "text/html": [
              "<div>\n",
              "<style scoped>\n",
              "    .dataframe tbody tr th:only-of-type {\n",
              "        vertical-align: middle;\n",
              "    }\n",
              "\n",
              "    .dataframe tbody tr th {\n",
              "        vertical-align: top;\n",
              "    }\n",
              "\n",
              "    .dataframe thead th {\n",
              "        text-align: right;\n",
              "    }\n",
              "</style>\n",
              "<table border=\"1\" class=\"dataframe\">\n",
              "  <thead>\n",
              "    <tr style=\"text-align: right;\">\n",
              "      <th></th>\n",
              "      <th>userId</th>\n",
              "      <th>movieId</th>\n",
              "      <th>rating</th>\n",
              "      <th>timestamp</th>\n",
              "    </tr>\n",
              "  </thead>\n",
              "  <tbody>\n",
              "    <tr>\n",
              "      <th>0</th>\n",
              "      <td>1</td>\n",
              "      <td>1</td>\n",
              "      <td>4.0</td>\n",
              "      <td>964982703</td>\n",
              "    </tr>\n",
              "    <tr>\n",
              "      <th>1</th>\n",
              "      <td>1</td>\n",
              "      <td>3</td>\n",
              "      <td>4.0</td>\n",
              "      <td>964981247</td>\n",
              "    </tr>\n",
              "  </tbody>\n",
              "</table>\n",
              "</div>"
            ],
            "text/plain": [
              "   userId  movieId  rating  timestamp\n",
              "0       1        1     4.0  964982703\n",
              "1       1        3     4.0  964981247"
            ]
          },
          "metadata": {
            "tags": []
          },
          "execution_count": 62
        }
      ]
    },
    {
      "cell_type": "code",
      "metadata": {
        "id": "o5XXv-EXXPyC",
        "colab_type": "code",
        "colab": {}
      },
      "source": [
        "ratings2 = ratings.copy()"
      ],
      "execution_count": 0,
      "outputs": []
    },
    {
      "cell_type": "code",
      "metadata": {
        "id": "ij8nbhErXSgH",
        "colab_type": "code",
        "colab": {}
      },
      "source": [
        "col = ['movieId', 'userId']"
      ],
      "execution_count": 0,
      "outputs": []
    },
    {
      "cell_type": "code",
      "metadata": {
        "id": "uzinx-P5Xb5Q",
        "colab_type": "code",
        "colab": {}
      },
      "source": [
        "for c in col:\n",
        "    ratings2[c].replace({val: i for i, val in enumerate(ratings2[c].unique())}, inplace=True)"
      ],
      "execution_count": 0,
      "outputs": []
    },
    {
      "cell_type": "code",
      "metadata": {
        "id": "Y5WA-ws_XeEv",
        "colab_type": "code",
        "outputId": "f10561ac-4aae-4633-8b8c-85f12270d62f",
        "colab": {
          "base_uri": "https://localhost:8080/",
          "height": 111
        }
      },
      "source": [
        "\n",
        "ratings2[:2]"
      ],
      "execution_count": 0,
      "outputs": [
        {
          "output_type": "execute_result",
          "data": {
            "text/html": [
              "<div>\n",
              "<style scoped>\n",
              "    .dataframe tbody tr th:only-of-type {\n",
              "        vertical-align: middle;\n",
              "    }\n",
              "\n",
              "    .dataframe tbody tr th {\n",
              "        vertical-align: top;\n",
              "    }\n",
              "\n",
              "    .dataframe thead th {\n",
              "        text-align: right;\n",
              "    }\n",
              "</style>\n",
              "<table border=\"1\" class=\"dataframe\">\n",
              "  <thead>\n",
              "    <tr style=\"text-align: right;\">\n",
              "      <th></th>\n",
              "      <th>userId</th>\n",
              "      <th>movieId</th>\n",
              "      <th>rating</th>\n",
              "      <th>timestamp</th>\n",
              "    </tr>\n",
              "  </thead>\n",
              "  <tbody>\n",
              "    <tr>\n",
              "      <th>0</th>\n",
              "      <td>0</td>\n",
              "      <td>0</td>\n",
              "      <td>4.0</td>\n",
              "      <td>964982703</td>\n",
              "    </tr>\n",
              "    <tr>\n",
              "      <th>1</th>\n",
              "      <td>0</td>\n",
              "      <td>1</td>\n",
              "      <td>4.0</td>\n",
              "      <td>964981247</td>\n",
              "    </tr>\n",
              "  </tbody>\n",
              "</table>\n",
              "</div>"
            ],
            "text/plain": [
              "   userId  movieId  rating  timestamp\n",
              "0       0        0     4.0  964982703\n",
              "1       0        1     4.0  964981247"
            ]
          },
          "metadata": {
            "tags": []
          },
          "execution_count": 66
        }
      ]
    },
    {
      "cell_type": "code",
      "metadata": {
        "id": "a9tn0qU9Xp4T",
        "colab_type": "code",
        "colab": {}
      },
      "source": [
        "n_users=int(ratings2.userId.nunique())\n",
        "n_items=int(ratings2.movieId.nunique())"
      ],
      "execution_count": 0,
      "outputs": []
    },
    {
      "cell_type": "code",
      "metadata": {
        "id": "peCutTBpXrDn",
        "colab_type": "code",
        "outputId": "e276bf19-5efc-4848-e583-f2fa87bf2322",
        "colab": {
          "base_uri": "https://localhost:8080/",
          "height": 34
        }
      },
      "source": [
        "print(\"n_users = \",n_users, \"||\", \"n_items = \", n_items )"
      ],
      "execution_count": 0,
      "outputs": [
        {
          "output_type": "stream",
          "text": [
            "n_users =  610 || n_items =  9724\n"
          ],
          "name": "stdout"
        }
      ]
    },
    {
      "cell_type": "code",
      "metadata": {
        "id": "z4xEv5TtYXjZ",
        "colab_type": "code",
        "outputId": "b0519112-30de-469c-a354-04a78793f156",
        "colab": {
          "base_uri": "https://localhost:8080/",
          "height": 102
        }
      },
      "source": [
        "!pip install sklearn"
      ],
      "execution_count": 0,
      "outputs": [
        {
          "output_type": "stream",
          "text": [
            "Requirement already satisfied: sklearn in /usr/local/lib/python3.6/dist-packages (0.0)\n",
            "Requirement already satisfied: scikit-learn in /usr/local/lib/python3.6/dist-packages (from sklearn) (0.22.1)\n",
            "Requirement already satisfied: scipy>=0.17.0 in /usr/local/lib/python3.6/dist-packages (from scikit-learn->sklearn) (1.4.1)\n",
            "Requirement already satisfied: joblib>=0.11 in /usr/local/lib/python3.6/dist-packages (from scikit-learn->sklearn) (0.14.1)\n",
            "Requirement already satisfied: numpy>=1.11.0 in /usr/local/lib/python3.6/dist-packages (from scikit-learn->sklearn) (1.17.5)\n"
          ],
          "name": "stdout"
        }
      ]
    },
    {
      "cell_type": "code",
      "metadata": {
        "id": "i7_aUfohXupy",
        "colab_type": "code",
        "outputId": "bf2a1114-c86d-4fc4-c083-f541ca49e2e2",
        "colab": {
          "base_uri": "https://localhost:8080/",
          "height": 181
        }
      },
      "source": [
        "from sklearn.model_selection import cross_validate as cv\n",
        "train_data, test_data = cv.train_test_split(ratings2, test_size=0.25)"
      ],
      "execution_count": 0,
      "outputs": [
        {
          "output_type": "error",
          "ename": "AttributeError",
          "evalue": "ignored",
          "traceback": [
            "\u001b[0;31m---------------------------------------------------------------------------\u001b[0m",
            "\u001b[0;31mAttributeError\u001b[0m                            Traceback (most recent call last)",
            "\u001b[0;32m<ipython-input-72-be58221f2bfc>\u001b[0m in \u001b[0;36m<module>\u001b[0;34m()\u001b[0m\n\u001b[1;32m      1\u001b[0m \u001b[0;32mfrom\u001b[0m \u001b[0msklearn\u001b[0m\u001b[0;34m.\u001b[0m\u001b[0mmodel_selection\u001b[0m \u001b[0;32mimport\u001b[0m \u001b[0mcross_validate\u001b[0m \u001b[0;32mas\u001b[0m \u001b[0mcv\u001b[0m\u001b[0;34m\u001b[0m\u001b[0;34m\u001b[0m\u001b[0m\n\u001b[0;32m----> 2\u001b[0;31m \u001b[0mtrain_data\u001b[0m\u001b[0;34m,\u001b[0m \u001b[0mtest_data\u001b[0m \u001b[0;34m=\u001b[0m \u001b[0mcv\u001b[0m\u001b[0;34m.\u001b[0m\u001b[0mtrain_test_split\u001b[0m\u001b[0;34m(\u001b[0m\u001b[0mratings2\u001b[0m\u001b[0;34m,\u001b[0m \u001b[0mtest_size\u001b[0m\u001b[0;34m=\u001b[0m\u001b[0;36m0.25\u001b[0m\u001b[0;34m)\u001b[0m\u001b[0;34m\u001b[0m\u001b[0;34m\u001b[0m\u001b[0m\n\u001b[0m",
            "\u001b[0;31mAttributeError\u001b[0m: 'function' object has no attribute 'train_test_split'"
          ]
        }
      ]
    },
    {
      "cell_type": "code",
      "metadata": {
        "id": "b1s86uw_anSq",
        "colab_type": "code",
        "colab": {}
      },
      "source": [
        "import pandas as pd\n",
        "from surprise import Reader\n",
        "from surprise import Dataset\n",
        "from surprise.model_selection import cross_validate\n",
        "from surprise import NormalPredictor\n",
        "from surprise import KNNBasic\n",
        "from surprise import KNNWithMeans\n",
        "from surprise import KNNWithZScore\n",
        "from surprise import KNNBaseline\n",
        "from surprise import SVD\n",
        "from surprise import BaselineOnly\n",
        "from surprise import SVDpp\n",
        "from surprise import NMF\n",
        "from surprise import SlopeOne\n",
        "from surprise import CoClustering\n",
        "from surprise.accuracy import rmse\n",
        "from surprise import accuracy\n",
        "from surprise.model_selection import train_test_split"
      ],
      "execution_count": 0,
      "outputs": []
    },
    {
      "cell_type": "code",
      "metadata": {
        "id": "HKzCVrr9Akng",
        "colab_type": "code",
        "colab": {
          "base_uri": "https://localhost:8080/",
          "height": 527
        },
        "outputId": "2f19dde3-4830-4bf8-87fc-2d30231c5fca"
      },
      "source": [
        "benchmark = []\n",
        "# Iterate over all algorithms\n",
        "for algorithm in [SVD(), SVDpp(), SlopeOne(), NMF(), NormalPredictor(), KNNBaseline(), KNNBasic(), KNNWithMeans(), KNNWithZScore(), BaselineOnly(), CoClustering()]:\n",
        "    # Perform cross validation\n",
        "    results = cross_validate(algorithm, data, measures=['RMSE'], cv=3, verbose=False)\n",
        "    \n",
        "    # Get results & append algorithm name\n",
        "    tmp = pd.DataFrame.from_dict(results).mean(axis=0)\n",
        "    tmp = tmp.append(pd.Series([str(algorithm).split(' ')[0].split('.')[-1]], index=['Algorithm']))\n",
        "    benchmark.append(tmp)"
      ],
      "execution_count": 7,
      "outputs": [
        {
          "output_type": "stream",
          "text": [
            "Estimating biases using als...\n",
            "Computing the msd similarity matrix...\n",
            "Done computing similarity matrix.\n",
            "Estimating biases using als...\n",
            "Computing the msd similarity matrix...\n",
            "Done computing similarity matrix.\n",
            "Estimating biases using als...\n",
            "Computing the msd similarity matrix...\n",
            "Done computing similarity matrix.\n",
            "Computing the msd similarity matrix...\n",
            "Done computing similarity matrix.\n",
            "Computing the msd similarity matrix...\n",
            "Done computing similarity matrix.\n",
            "Computing the msd similarity matrix...\n",
            "Done computing similarity matrix.\n",
            "Computing the msd similarity matrix...\n",
            "Done computing similarity matrix.\n",
            "Computing the msd similarity matrix...\n",
            "Done computing similarity matrix.\n",
            "Computing the msd similarity matrix...\n",
            "Done computing similarity matrix.\n",
            "Computing the msd similarity matrix...\n",
            "Done computing similarity matrix.\n",
            "Computing the msd similarity matrix...\n",
            "Done computing similarity matrix.\n",
            "Computing the msd similarity matrix...\n",
            "Done computing similarity matrix.\n",
            "Estimating biases using als...\n",
            "Estimating biases using als...\n",
            "Estimating biases using als...\n"
          ],
          "name": "stdout"
        }
      ]
    },
    {
      "cell_type": "code",
      "metadata": {
        "id": "4JUKwqX6CxKf",
        "colab_type": "code",
        "colab": {}
      },
      "source": [
        "surprise_results = pd.DataFrame(benchmark).set_index('Algorithm').sort_values('test_rmse')"
      ],
      "execution_count": 0,
      "outputs": []
    },
    {
      "cell_type": "code",
      "metadata": {
        "id": "JysfDz6GCyQu",
        "colab_type": "code",
        "colab": {
          "base_uri": "https://localhost:8080/",
          "height": 421
        },
        "outputId": "d2012939-749e-4399-d646-13c6dbae00db"
      },
      "source": [
        "surprise_results"
      ],
      "execution_count": 9,
      "outputs": [
        {
          "output_type": "execute_result",
          "data": {
            "text/html": [
              "<div>\n",
              "<style scoped>\n",
              "    .dataframe tbody tr th:only-of-type {\n",
              "        vertical-align: middle;\n",
              "    }\n",
              "\n",
              "    .dataframe tbody tr th {\n",
              "        vertical-align: top;\n",
              "    }\n",
              "\n",
              "    .dataframe thead th {\n",
              "        text-align: right;\n",
              "    }\n",
              "</style>\n",
              "<table border=\"1\" class=\"dataframe\">\n",
              "  <thead>\n",
              "    <tr style=\"text-align: right;\">\n",
              "      <th></th>\n",
              "      <th>test_rmse</th>\n",
              "      <th>fit_time</th>\n",
              "      <th>test_time</th>\n",
              "    </tr>\n",
              "    <tr>\n",
              "      <th>Algorithm</th>\n",
              "      <th></th>\n",
              "      <th></th>\n",
              "      <th></th>\n",
              "    </tr>\n",
              "  </thead>\n",
              "  <tbody>\n",
              "    <tr>\n",
              "      <th>SVDpp</th>\n",
              "      <td>0.925632</td>\n",
              "      <td>119.255502</td>\n",
              "      <td>5.515756</td>\n",
              "    </tr>\n",
              "    <tr>\n",
              "      <th>KNNBaseline</th>\n",
              "      <td>0.936168</td>\n",
              "      <td>0.328846</td>\n",
              "      <td>6.204396</td>\n",
              "    </tr>\n",
              "    <tr>\n",
              "      <th>SVD</th>\n",
              "      <td>0.944697</td>\n",
              "      <td>4.048044</td>\n",
              "      <td>0.319655</td>\n",
              "    </tr>\n",
              "    <tr>\n",
              "      <th>BaselineOnly</th>\n",
              "      <td>0.946929</td>\n",
              "      <td>0.124158</td>\n",
              "      <td>0.214374</td>\n",
              "    </tr>\n",
              "    <tr>\n",
              "      <th>SlopeOne</th>\n",
              "      <td>0.950232</td>\n",
              "      <td>0.515903</td>\n",
              "      <td>4.221160</td>\n",
              "    </tr>\n",
              "    <tr>\n",
              "      <th>KNNWithZScore</th>\n",
              "      <td>0.956059</td>\n",
              "      <td>0.293822</td>\n",
              "      <td>5.753429</td>\n",
              "    </tr>\n",
              "    <tr>\n",
              "      <th>KNNWithMeans</th>\n",
              "      <td>0.956573</td>\n",
              "      <td>0.245670</td>\n",
              "      <td>5.378050</td>\n",
              "    </tr>\n",
              "    <tr>\n",
              "      <th>NMF</th>\n",
              "      <td>0.973999</td>\n",
              "      <td>4.302225</td>\n",
              "      <td>0.250262</td>\n",
              "    </tr>\n",
              "    <tr>\n",
              "      <th>CoClustering</th>\n",
              "      <td>0.974002</td>\n",
              "      <td>1.233386</td>\n",
              "      <td>0.290061</td>\n",
              "    </tr>\n",
              "    <tr>\n",
              "      <th>KNNBasic</th>\n",
              "      <td>0.988238</td>\n",
              "      <td>0.216572</td>\n",
              "      <td>5.049987</td>\n",
              "    </tr>\n",
              "    <tr>\n",
              "      <th>NormalPredictor</th>\n",
              "      <td>1.519060</td>\n",
              "      <td>0.102112</td>\n",
              "      <td>0.323808</td>\n",
              "    </tr>\n",
              "  </tbody>\n",
              "</table>\n",
              "</div>"
            ],
            "text/plain": [
              "                 test_rmse    fit_time  test_time\n",
              "Algorithm                                        \n",
              "SVDpp             0.925632  119.255502   5.515756\n",
              "KNNBaseline       0.936168    0.328846   6.204396\n",
              "SVD               0.944697    4.048044   0.319655\n",
              "BaselineOnly      0.946929    0.124158   0.214374\n",
              "SlopeOne          0.950232    0.515903   4.221160\n",
              "KNNWithZScore     0.956059    0.293822   5.753429\n",
              "KNNWithMeans      0.956573    0.245670   5.378050\n",
              "NMF               0.973999    4.302225   0.250262\n",
              "CoClustering      0.974002    1.233386   0.290061\n",
              "KNNBasic          0.988238    0.216572   5.049987\n",
              "NormalPredictor   1.519060    0.102112   0.323808"
            ]
          },
          "metadata": {
            "tags": []
          },
          "execution_count": 9
        }
      ]
    },
    {
      "cell_type": "markdown",
      "metadata": {
        "id": "X5OP0vJsIBQR",
        "colab_type": "text"
      },
      "source": [
        "# Get Top N predictions"
      ]
    },
    {
      "cell_type": "code",
      "metadata": {
        "id": "JpVgrNJ9IA4s",
        "colab_type": "code",
        "colab": {}
      },
      "source": [
        ""
      ],
      "execution_count": 0,
      "outputs": []
    },
    {
      "cell_type": "markdown",
      "metadata": {
        "id": "uFLu06RbIABy",
        "colab_type": "text"
      },
      "source": [
        ""
      ]
    },
    {
      "cell_type": "code",
      "metadata": {
        "id": "m15l1AYmC1EW",
        "colab_type": "code",
        "colab": {
          "base_uri": "https://localhost:8080/",
          "height": 1000
        },
        "outputId": "95b39ee9-23fd-4171-e384-ddbf6acb0bbf"
      },
      "source": [
        "from collections import defaultdict\n",
        "\n",
        "from surprise import SVD\n",
        "from surprise import Dataset\n",
        "\n",
        "\n",
        "def get_top_n(predictions, n=10):\n",
        "    '''Return the top-N recommendation for each user from a set of predictions.\n",
        "\n",
        "    Args:\n",
        "        predictions(list of Prediction objects): The list of predictions, as\n",
        "            returned by the test method of an algorithm.\n",
        "        n(int): The number of recommendation to output for each user. Default\n",
        "            is 10.\n",
        "\n",
        "    Returns:\n",
        "    A dict where keys are user (raw) ids and values are lists of tuples:\n",
        "        [(raw item id, rating estimation), ...] of size n.\n",
        "    '''\n",
        "\n",
        "    # First map the predictions to each user.\n",
        "    top_n = defaultdict(list)\n",
        "    for uid, iid, true_r, est, _ in predictions:\n",
        "        top_n[uid].append((iid, est))\n",
        "\n",
        "    # Then sort the predictions for each user and retrieve the k highest ones.\n",
        "    for uid, user_ratings in top_n.items():\n",
        "        user_ratings.sort(key=lambda x: x[1], reverse=True)\n",
        "        top_n[uid] = user_ratings[:n]\n",
        "\n",
        "    return top_n\n",
        "\n",
        "\n",
        "# First train an SVD algorithm on the movielens dataset.\n",
        "data = Dataset.load_builtin('ml-100k')\n",
        "trainset = data.build_full_trainset()\n",
        "algo = SVD()\n",
        "algo.fit(trainset)\n",
        "\n",
        "# Than predict ratings for all pairs (u, i) that are NOT in the training set.\n",
        "testset = trainset.build_anti_testset()\n",
        "predictions = algo.test(testset)\n",
        "\n",
        "top_n = get_top_n(predictions, n=10)\n",
        "\n",
        "# Print the recommended items for each user\n",
        "for uid, user_ratings in top_n.items():\n",
        "    print(uid, [iid for (iid, _) in user_ratings])"
      ],
      "execution_count": 10,
      "outputs": [
        {
          "output_type": "stream",
          "text": [
            "Dataset ml-100k could not be found. Do you want to download it? [Y/n] y\n",
            "Trying to download dataset from http://files.grouplens.org/datasets/movielens/ml-100k.zip...\n",
            "Done! Dataset ml-100k has been saved to /root/.surprise_data/ml-100k\n",
            "196 ['127', '64', '408', '357', '603', '169', '185', '187', '318', '483']\n",
            "186 ['408', '69', '483', '513', '511', '516', '427', '478', '64', '197']\n",
            "22 ['64', '313', '223', '169', '114', '98', '652', '182', '923', '199']\n",
            "244 ['134', '127', '199', '483', '474', '408', '192', '98', '520', '589']\n",
            "166 ['483', '515', '318', '513', '178', '98', '211', '484', '199', '480']\n",
            "298 ['64', '190', '48', '408', '923', '493', '520', '12', '963', '316']\n",
            "115 ['135', '134', '408', '285', '156', '603', '86', '42', '606', '14']\n",
            "253 ['272', '178', '174', '651', '313', '169', '513', '143', '423', '408']\n",
            "305 ['316', '57', '513', '498', '661', '211', '515', '194', '132', '657']\n",
            "6 ['603', '654', '657', '114', '179', '428', '922', '661', '1524', '659']\n",
            "62 ['169', '223', '187', '427', '408', '480', '316', '963', '272', '150']\n",
            "286 ['474', '528', '488', '199', '813', '114', '479', '8', '205', '64']\n",
            "200 ['181', '272', '178', '12', '136', '64', '480', '427', '251', '520']\n",
            "210 ['318', '408', '169', '513', '189', '64', '313', '496', '48', '641']\n",
            "224 ['50', '174', '181', '172', '483', '64', '173', '79', '496', '511']\n",
            "303 ['180', '169', '192', '199', '178', '511', '530', '114', '589', '496']\n",
            "122 ['408', '134', '169', '483', '515', '318', '178', '133', '514', '603']\n",
            "194 ['156', '513', '856', '408', '114', '190', '272', '963', '480', '313']\n",
            "291 ['135', '408', '127', '318', '180', '192', '357', '134', '114', '483']\n",
            "234 ['408', '169', '114', '1194', '275', '251', '644', '189', '302', '57']\n",
            "119 ['98', '169', '408', '923', '478', '318', '59', '60', '1019', '657']\n",
            "167 ['12', '251', '196', '11', '408', '272', '114', '746', '427', '923']\n",
            "299 ['178', '192', '657', '320', '199', '180', '493', '272', '316', '357']\n",
            "308 ['114', '647', '316', '272', '302', '86', '190', '1194', '1039', '963']\n",
            "95 ['318', '313', '408', '169', '114', '45', '272', '478', '923', '12']\n",
            "38 ['603', '143', '512', '275', '317', '272', '64', '87', '300', '657']\n",
            "102 ['169', '408', '114', '480', '611', '483', '657', '923', '165', '479']\n",
            "63 ['474', '64', '357', '483', '127', '428', '315', '114', '9', '513']\n",
            "160 ['513', '480', '12', '156', '320', '641', '64', '251', '1240', '479']\n",
            "50 ['12', '483', '251', '134', '923', '114', '474', '178', '96', '408']\n",
            "301 ['408', '272', '498', '430', '257', '57', '480', '136', '963', '114']\n",
            "225 ['178', '127', '251', '513', '316', '170', '12', '134', '187', '318']\n",
            "290 ['237', '480', '87', '169', '114', '603', '96', '190', '189', '408']\n",
            "97 ['251', '12', '427', '285', '963', '258', '19', '272', '483', '480']\n",
            "157 ['408', '285', '185', '318', '302', '427', '169', '480', '357', '483']\n",
            "181 ['96', '50', '174', '181', '313', '210', '272', '114', '204', '169']\n",
            "278 ['474', '408', '169', '480', '318', '657', '64', '12', '513', '479']\n",
            "276 ['114', '480', '60', '483', '191', '519', '177', '1137', '651', '520']\n",
            "7 ['408', '169', '750', '114', '705', '45', '493', '48', '251', '494']\n",
            "10 ['313', '408', '318', '114', '661', '136', '316', '528', '427', '169']\n",
            "284 ['408', '357', '169', '64', '318', '134', '12', '483', '178', '427']\n",
            "201 ['135', '474', '14', '915', '709', '60', '1449', '178', '1142', '91']\n",
            "287 ['603', '408', '12', '923', '114', '169', '427', '320', '480', '223']\n",
            "246 ['169', '258', '302', '530', '171', '272', '134', '515', '520', '127']\n",
            "242 ['302', '98', '603', '427', '480', '132', '479', '483', '408', '178']\n",
            "249 ['474', '127', '654', '313', '197', '657', '185', '134', '513', '488']\n",
            "99 ['427', '272', '318', '114', '357', '408', '496', '285', '132', '169']\n",
            "178 ['496', '169', '136', '285', '251', '1019', '272', '493', '378', '963']\n",
            "251 ['98', '318', '272', '408', '174', '483', '603', '127', '316', '169']\n",
            "81 ['64', '357', '272', '603', '89', '12', '408', '480', '483', '114']\n",
            "260 ['479', '483', '408', '169', '511', '513', '320', '98', '657', '515']\n",
            "25 ['923', '22', '272', '96', '48', '483', '513', '178', '87', '194']\n",
            "59 ['750', '156', '1142', '1449', '251', '144', '223', '408', '114', '1137']\n",
            "72 ['286', '408', '178', '923', '481', '483', '513', '313', '659', '169']\n",
            "87 ['408', '69', '169', '12', '114', '429', '923', '511', '736', '215']\n",
            "42 ['22', '272', '57', '169', '408', '114', '429', '651', '923', '659']\n",
            "292 ['187', '191', '313', '318', '12', '302', '23', '178', '89', '114']\n",
            "20 ['483', '408', '169', '923', '528', '19', '488', '513', '114', '285']\n",
            "13 ['192', '956', '1524', '408', '169', '134', '1005', '499', '434', '1143']\n",
            "138 ['169', '480', '199', '313', '64', '272', '316', '178', '134', '515']\n",
            "60 ['408', '169', '190', '251', '963', '124', '520', '302', '315', '242']\n",
            "57 ['174', '408', '22', '169', '172', '69', '210', '963', '187', '923']\n",
            "223 ['480', '64', '50', '114', '484', '174', '172', '265', '511', '513']\n",
            "189 ['169', '357', '427', '64', '98', '963', '12', '408', '515', '23']\n",
            "243 ['483', '134', '64', '199', '114', '963', '408', '603', '1449', '657']\n",
            "92 ['127', '357', '427', '603', '302', '272', '480', '483', '1449', '178']\n",
            "241 ['408', '64', '318', '169', '12', '480', '48', '479', '28', '963']\n",
            "254 ['318', '302', '79', '511', '651', '215', '408', '89', '166', '191']\n",
            "293 ['318', '408', '276', '428', '169', '511', '178', '191', '498', '919']\n",
            "127 ['265', '603', '96', '408', '210', '488', '114', '657', '482', '611']\n",
            "222 ['190', '408', '1063', '480', '923', '272', '1019', '427', '169', '316']\n",
            "267 ['641', '357', '603', '199', '192', '134', '48', '223', '173', '528']\n",
            "11 ['408', '64', '114', '483', '169', '513', '611', '178', '488', '124']\n",
            "8 ['313', '408', '318', '169', '64', '114', '483', '302', '357', '276']\n",
            "162 ['64', '318', '178', '408', '114', '316', '923', '513', '603', '480']\n",
            "279 ['512', '603', '607', '272', '251', '1194', '46', '497', '478', '923']\n",
            "145 ['57', '168', '127', '285', '191', '519', '187', '190', '511', '1019']\n",
            "28 ['408', '169', '64', '483', '513', '69', '484', '182', '427', '156']\n",
            "135 ['313', '480', '408', '178', '316', '272', '64', '169', '427', '483']\n",
            "32 ['603', '64', '513', '12', '87', '169', '318', '519', '156', '316']\n",
            "90 ['408', '513', '114', '484', '633', '183', '165', '50', '487', '205']\n",
            "216 ['427', '89', '180', '603', '187', '272', '483', '223', '191', '23']\n",
            "250 ['408', '513', '203', '318', '192', '483', '641', '511', '211', '654']\n",
            "271 ['408', '251', '483', '114', '484', '223', '320', '513', '165', '153']\n",
            "265 ['528', '480', '923', '64', '98', '408', '272', '357', '513', '659']\n",
            "198 ['285', '12', '313', '479', '483', '519', '603', '169', '134', '205']\n",
            "168 ['318', '408', '515', '98', '513', '657', '520', '199', '496', '483']\n",
            "110 ['285', '923', '408', '647', '242', '316', '213', '603', '528', '966']\n",
            "58 ['515', '197', '657', '114', '285', '1449', '178', '528', '1073', '484']\n",
            "237 ['657', '511', '114', '12', '480', '496', '318', '320', '136', '1449']\n",
            "94 ['408', '124', '169', '606', '856', '511', '197', '919', '48', '488']\n",
            "128 ['318', '272', '178', '467', '320', '408', '963', '251', '520', '659']\n",
            "44 ['408', '525', '169', '483', '12', '923', '199', '171', '59', '647']\n",
            "264 ['427', '480', '174', '172', '408', '169', '50', '114', '923', '187']\n",
            "41 ['169', '483', '408', '272', '657', '134', '127', '89', '528', '12']\n",
            "82 ['223', '427', '114', '180', '12', '515', '98', '313', '659', '83']\n",
            "262 ['408', '251', '603', '657', '513', '483', '488', '480', '178', '479']\n",
            "174 ['127', '64', '528', '318', '190', '89', '936', '169', '191', '919']\n",
            "43 ['22', '481', '483', '480', '513', '87', '528', '199', '526', '923']\n",
            "84 ['483', '513', '479', '178', '474', '199', '251', '603', '480', '192']\n",
            "269 ['60', '408', '169', '178', '14', '558', '1021', '199', '32', '652']\n",
            "259 ['408', '127', '285', '100', '603', '483', '50', '114', '223', '511']\n",
            "85 ['408', '603', '48', '493', '613', '1194', '285', '169', '178', '633']\n",
            "213 ['169', '134', '178', '513', '657', '963', '114', '191', '408', '641']\n",
            "121 ['408', '483', '520', '178', '474', '136', '251', '64', '496', '191']\n",
            "49 ['474', '134', '603', '127', '137', '408', '14', '515', '9', '180']\n",
            "155 ['318', '408', '169', '12', '483', '127', '64', '513', '178', '114']\n",
            "68 ['172', '64', '12', '100', '89', '318', '56', '174', '315', '357']\n",
            "172 ['408', '50', '114', '174', '963', '64', '169', '190', '427', '659']\n",
            "19 ['64', '408', '169', '480', '483', '963', '114', '603', '657', '513']\n",
            "268 ['199', '511', '318', '64', '657', '510', '641', '707', '170', '492']\n",
            "5 ['182', '187', '175', '483', '60', '272', '302', '509', '530', '316']\n",
            "80 ['408', '318', '127', '511', '357', '114', '197', '191', '272', '169']\n",
            "66 ['313', '172', '480', '318', '408', '64', '174', '483', '12', '114']\n",
            "18 ['272', '657', '511', '1449', '484', '320', '114', '124', '813', '203']\n",
            "26 ['178', '174', '480', '64', '498', '98', '134', '272', '408', '483']\n",
            "130 ['480', '318', '169', '963', '736', '603', '87', '408', '513', '190']\n",
            "256 ['498', '272', '318', '286', '923', '251', '513', '963', '313', '427']\n",
            "1 ['408', '919', '750', '357', '318', '511', '923', '654', '651', '276']\n",
            "56 ['963', '12', '272', '313', '603', '520', '213', '318', '178', '480']\n",
            "15 ['513', '483', '172', '178', '526', '12', '474', '659', '408', '641']\n",
            "207 ['496', '603', '408', '657', '136', '169', '178', '481', '480', '513']\n",
            "232 ['12', '114', '169', '519', '408', '488', '1449', '60', '654', '316']\n",
            "52 ['603', '515', '408', '64', '169', '661', '963', '114', '313', '483']\n",
            "161 ['89', '515', '694', '474', '408', '709', '190', '285', '114', '513']\n",
            "148 ['483', '134', '12', '166', '60', '96', '316', '603', '519', '525']\n",
            "125 ['19', '651', '378', '423', '963', '237', '257', '199', '272', '96']\n",
            "83 ['98', '651', '408', '172', '496', '378', '513', '178', '318', '136']\n",
            "272 ['169', '318', '408', '190', '272', '603', '515', '60', '64', '513']\n",
            "151 ['641', '1194', '515', '45', '316', '647', '59', '60', '272', '646']\n",
            "54 ['318', '483', '174', '64', '12', '98', '79', '22', '357', '134']\n",
            "16 ['272', '50', '187', '223', '651', '527', '181', '169', '408', '285']\n",
            "91 ['190', '408', '89', '1039', '169', '198', '12', '513', '966', '170']\n",
            "294 ['64', '173', '302', '169', '172', '272', '114', '12', '318', '474']\n",
            "229 ['318', '483', '657', '320', '408', '191', '169', '603', '1449', '114']\n",
            "36 ['496', '408', '64', '169', '480', '963', '174', '474', '520', '511']\n",
            "70 ['64', '318', '480', '12', '316', '178', '651', '127', '114', '98']\n",
            "14 ['251', '520', '483', '169', '64', '641', '132', '513', '511', '57']\n",
            "295 ['474', '603', '515', '408', '178', '189', '64', '169', '57', '269']\n",
            "233 ['169', '657', '480', '136', '641', '114', '166', '963', '178', '408']\n",
            "214 ['272', '923', '480', '513', '474', '1137', '316', '251', '519', '641']\n",
            "192 ['12', '64', '318', '114', '408', '169', '603', '483', '272', '357']\n",
            "100 ['318', '114', '515', '64', '408', '496', '98', '173', '169', '136']\n",
            "307 ['59', '199', '657', '316', '285', '318', '647', '919', '603', '134']\n",
            "297 ['134', '64', '408', '318', '169', '427', '483', '285', '316', '657']\n",
            "193 ['408', '64', '496', '427', '169', '98', '490', '316', '285', '515']\n",
            "113 ['173', '98', '174', '427', '64', '496', '178', '114', '750', '515']\n",
            "275 ['483', '657', '178', '603', '251', '318', '12', '478', '513', '114']\n",
            "219 ['169', '408', '513', '474', '185', '519', '656', '657', '127', '285']\n",
            "218 ['513', '483', '318', '316', '89', '190', '408', '607', '511', '694']\n",
            "123 ['513', '408', '474', '318', '191', '654', '603', '48', '179', '357']\n",
            "158 ['318', '64', '156', '357', '48', '223', '12', '647', '513', '1137']\n",
            "302 ['169', '408', '172', '251', '178', '511', '483', '480', '168', '50']\n",
            "23 ['169', '657', '515', '474', '223', '114', '12', '529', '654', '60']\n",
            "296 ['174', '318', '12', '408', '316', '64', '223', '169', '185', '302']\n",
            "33 ['169', '189', '114', '657', '178', '408', '1019', '513', '480', '483']\n",
            "154 ['56', '127', '98', '48', '923', '114', '285', '1449', '180', '511']\n",
            "77 ['12', '408', '169', '48', '114', '189', '1194', '479', '525', '652']\n",
            "270 ['302', '474', '1137', '515', '427', '512', '480', '23', '132', '479']\n",
            "187 ['318', '190', '483', '12', '408', '50', '169', '285', '114', '172']\n",
            "170 ['272', '178', '318', '64', '611', '98', '199', '483', '427', '205']\n",
            "101 ['318', '64', '480', '408', '483', '169', '923', '657', '134', '272']\n",
            "184 ['479', '408', '603', '513', '178', '169', '12', '59', '611', '320']\n",
            "112 ['64', '318', '114', '357', '285', '427', '134', '408', '483', '12']\n",
            "133 ['50', '172', '408', '174', '178', '199', '318', '12', '430', '64']\n",
            "215 ['169', '408', '657', '641', '513', '525', '923', '515', '603', '114']\n",
            "69 ['178', '127', '135', '134', '169', '603', '408', '187', '23', '474']\n",
            "104 ['174', '318', '172', '12', '427', '432', '178', '357', '114', '23']\n",
            "240 ['318', '408', '64', '178', '483', '199', '172', '169', '705', '12']\n",
            "144 ['603', '427', '169', '178', '408', '479', '134', '132', '79', '513']\n",
            "191 ['408', '318', '513', '169', '483', '427', '100', '923', '479', '199']\n",
            "61 ['178', '174', '98', '427', '483', '272', '169', '318', '408', '603']\n",
            "142 ['50', '318', '191', '127', '483', '64', '9', '56', '603', '114']\n",
            "177 ['474', '483', '178', '480', '408', '313', '192', '641', '511', '114']\n",
            "203 ['172', '169', '603', '64', '483', '173', '318', '408', '589', '178']\n",
            "21 ['427', '276', '23', '12', '135', '64', '357', '663', '474', '187']\n",
            "197 ['318', '178', '705', '423', '173', '136', '493', '483', '64', '202']\n",
            "134 ['641', '318', '408', '169', '114', '427', '136', '513', '483', '480']\n",
            "180 ['474', '169', '513', '480', '357', '427', '657', '408', '242', '654']\n",
            "236 ['513', '272', '169', '316', '136', '408', '657', '178', '498', '114']\n",
            "263 ['286', '408', '191', '12', '169', '1137', '165', '493', '285', '190']\n",
            "109 ['169', '143', '1019', '480', '736', '963', '251', '705', '66', '430']\n",
            "64 ['302', '474', '408', '483', '513', '178', '189', '169', '272', '251']\n",
            "114 ['408', '169', '114', '513', '657', '64', '173', '603', '178', '12']\n",
            "239 ['169', '525', '519', '1194', '32', '657', '615', '606', '902', '60']\n",
            "117 ['483', '408', '285', '511', '169', '474', '657', '923', '647', '223']\n",
            "65 ['174', '483', '169', '659', '588', '496', '172', '132', '923', '603']\n",
            "137 ['302', '86', '194', '603', '275', '132', '272', '483', '408', '478']\n",
            "257 ['12', '56', '427', '191', '114', '318', '357', '316', '480', '483']\n",
            "111 ['408', '50', '169', '12', '513', '114', '483', '100', '479', '183']\n",
            "285 ['169', '251', '480', '187', '178', '98', '483', '174', '408', '923']\n",
            "96 ['313', '302', '272', '12', '191', '357', '515', '114', '520', '603']\n",
            "116 ['12', '174', '318', '98', '513', '483', '22', '172', '482', '96']\n",
            "73 ['408', '515', '603', '178', '98', '192', '589', '14', '483', '199']\n",
            "221 ['483', '474', '357', '135', '89', '480', '98', '511', '134', '175']\n",
            "235 ['408', '127', '169', '513', '661', '272', '134', '519', '98', '114']\n",
            "164 ['98', '603', '480', '483', '408', '318', '64', '191', '183', '169']\n",
            "281 ['318', '178', '923', '169', '474', '408', '64', '603', '272', '480']\n",
            "182 ['114', '515', '64', '173', '98', '313', '318', '496', '483', '169']\n",
            "129 ['408', '427', '169', '318', '178', '603', '64', '14', '357', '480']\n",
            "45 ['603', '285', '98', '1449', '185', '661', '408', '519', '169', '178']\n",
            "131 ['50', '56', '12', '98', '318', '178', '603', '408', '223', '48']\n",
            "230 ['313', '318', '966', '178', '735', '194', '272', '480', '611', '215']\n",
            "126 ['408', '114', '480', '479', '603', '633', '318', '429', '192', '654']\n",
            "231 ['190', '513', '408', '483', '83', '98', '603', '923', '64', '316']\n",
            "280 ['269', '513', '14', '178', '408', '474', '170', '654', '923', '187']\n",
            "288 ['313', '185', '191', '114', '603', '483', '133', '316', '488', '480']\n",
            "152 ['302', '474', '100', '181', '526', '427', '480', '498', '496', '174']\n",
            "217 ['474', '921', '488', '196', '603', '606', '694', '187', '178', '269']\n",
            "79 ['169', '408', '64', '12', '923', '483', '528', '189', '474', '199']\n",
            "75 ['12', '169', '483', '223', '176', '657', '175', '511', '9', '96']\n",
            "245 ['408', '169', '657', '483', '1449', '515', '98', '484', '511', '114']\n",
            "282 ['134', '12', '174', '169', '408', '50', '483', '963', '603', '427']\n",
            "78 ['50', '483', '511', '134', '174', '169', '187', '923', '172', '493']\n",
            "118 ['302', '144', '1137', '181', '515', '480', '498', '209', '208', '96']\n",
            "283 ['483', '114', '98', '169', '408', '519', '89', '511', '357', '272']\n",
            "171 ['169', '483', '408', '479', '64', '513', '199', '511', '530', '480']\n",
            "107 ['100', '169', '408', '474', '178', '50', '483', '603', '318', '513']\n",
            "226 ['357', '100', '318', '114', '313', '223', '22', '50', '427', '923']\n",
            "306 ['603', '318', '302', '408', '483', '64', '197', '132', '272', '515']\n",
            "173 ['474', '98', '603', '1137', '515', '526', '427', '480', '498', '496']\n",
            "185 ['56', '923', '408', '169', '48', '513', '190', '474', '657', '64']\n",
            "150 ['474', '318', '251', '528', '178', '316', '272', '483', '641', '285']\n",
            "274 ['474', '408', '169', '12', '114', '603', '178', '483', '357', '64']\n",
            "188 ['923', '12', '178', '603', '190', '612', '169', '272', '408', '207']\n",
            "48 ['127', '515', '199', '408', '659', '168', '134', '657', '169', '64']\n",
            "311 ['489', '408', '251', '427', '114', '169', '144', '429', '59', '611']\n",
            "165 ['316', '408', '114', '98', '483', '285', '134', '89', '513', '190']\n",
            "208 ['480', '318', '513', '114', '64', '178', '50', '408', '357', '519']\n",
            "2 ['169', '483', '98', '511', '134', '603', '318', '654', '178', '479']\n",
            "205 ['64', '474', '408', '923', '169', '12', '657', '98', '251', '603']\n",
            "248 ['483', '134', '12', '191', '285', '318', '357', '169', '313', '963']\n",
            "93 ['178', '313', '64', '169', '483', '318', '114', '513', '251', '408']\n",
            "159 ['657', '603', '83', '480', '56', '641', '11', '275', '136', '607']\n",
            "146 ['169', '64', '408', '50', '316', '12', '174', '511', '127', '172']\n",
            "29 ['169', '408', '64', '318', '56', '178', '483', '603', '48', '963']\n",
            "156 ['657', '483', '603', '169', '127', '408', '98', '87', '313', '513']\n",
            "37 ['178', '923', '272', '357', '408', '483', '479', '187', '641', '114']\n",
            "141 ['385', '83', '114', '603', '483', '87', '318', '133', '657', '22']\n",
            "195 ['318', '64', '427', '50', '12', '114', '423', '603', '174', '480']\n",
            "108 ['483', '408', '320', '318', '474', '251', '657', '923', '169', '272']\n",
            "47 ['272', '474', '114', '483', '318', '12', '178', '64', '408', '313']\n",
            "255 ['172', '50', '127', '313', '318', '474', '12', '187', '173', '64']\n",
            "89 ['408', '59', '654', '169', '134', '511', '519', '178', '174', '498']\n",
            "140 ['169', '408', '513', '474', '483', '923', '98', '114', '657', '199']\n",
            "190 ['172', '50', '114', '64', '483', '181', '22', '251', '174', '12']\n",
            "24 ['474', '480', '483', '513', '114', '192', '408', '313', '23', '657']\n",
            "17 ['169', '474', '127', '408', '48', '190', '513', '483', '923', '493']\n",
            "313 ['408', '179', '1021', '1449', '513', '1194', '607', '12', '313', '302']\n",
            "53 ['408', '169', '483', '178', '515', '480', '318', '427', '114', '12']\n",
            "124 ['89', '12', '114', '56', '191', '513', '318', '480', '357', '923']\n",
            "149 ['318', '56', '408', '100', '474', '178', '114', '488', '64', '169']\n",
            "176 ['641', '513', '12', '519', '474', '179', '180', '169', '200', '408']\n",
            "106 ['98', '921', '169', '178', '513', '480', '187', '408', '23', '657']\n",
            "312 ['318', '1194', '242', '462', '1449', '285', '297', '22', '59', '694']\n",
            "175 ['603', '318', '174', '408', '199', '178', '651', '114', '192', '357']\n",
            "153 ['408', '169', '603', '474', '488', '427', '100', '513', '114', '481']\n",
            "220 ['178', '169', '12', '483', '251', '408', '191', '50', '190', '603']\n",
            "143 ['98', '178', '483', '172', '174', '50', '318', '657', '79', '641']\n",
            "199 ['127', '318', '190', '56', '483', '178', '89', '64', '357', '169']\n",
            "202 ['513', '166', '963', '519', '641', '270', '923', '427', '480', '182']\n",
            "277 ['56', '64', '98', '169', '483', '408', '127', '474', '318', '12']\n",
            "206 ['50', '173', '251', '12', '9', '169', '114', '318', '187', '172']\n",
            "76 ['127', '483', '134', '408', '511', '654', '180', '14', '480', '661']\n",
            "314 ['174', '50', '118', '483', '181', '520', '659', '82', '172', '603']\n",
            "136 ['408', '169', '64', '178', '190', '657', '357', '603', '923', '511']\n",
            "179 ['50', '318', '172', '174', '64', '96', '143', '169', '181', '479']\n",
            "4 ['480', '272', '483', '408', '178', '189', '169', '251', '513', '963']\n",
            "304 ['174', '427', '603', '22', '480', '64', '963', '265', '318', '210']\n",
            "3 ['1194', '603', '427', '474', '480', '98', '488', '185', '357', '178']\n",
            "227 ['408', '169', '179', '483', '191', '89', '12', '318', '480', '513']\n",
            "252 ['474', '483', '408', '127', '64', '134', '169', '185', '23', '603']\n",
            "212 ['275', '483', '134', '64', '190', '408', '169', '272', '285', '316']\n",
            "310 ['64', '318', '56', '100', '191', '98', '357', '183', '408', '134']\n",
            "35 ['657', '408', '318', '483', '923', '169', '603', '272', '64', '478']\n",
            "147 ['483', '64', '923', '1449', '318', '12', '408', '272', '513', '427']\n",
            "105 ['12', '408', '251', '169', '427', '178', '318', '98', '603', '474']\n",
            "34 ['302', '474', '603', '515', '165', '408', '127', '357', '169', '285']\n",
            "71 ['513', '657', '483', '589', '199', '474', '515', '213', '178', '647']\n",
            "51 ['114', '174', '189', '313', '89', '408', '318', '483', '12', '169']\n",
            "204 ['603', '515', '427', '272', '408', '513', '14', '479', '285', '124']\n",
            "315 ['64', '483', '408', '923', '169', '272', '134', '170', '1449', '275']\n",
            "31 ['657', '173', '64', '169', '187', '98', '318', '1449', '480', '474']\n",
            "316 ['408', '169', '513', '603', '488', '251', '423', '124', '963', '902']\n",
            "103 ['515', '483', '64', '272', '169', '657', '408', '480', '528', '134']\n",
            "318 ['513', '483', '189', '190', '408', '136', '87', '272', '199', '169']\n",
            "30 ['515', '169', '100', '408', '189', '483', '64', '357', '183', '512']\n",
            "120 ['408', '169', '64', '191', '313', '318', '98', '357', '963', '657']\n",
            "46 ['187', '64', '318', '22', '316', '603', '408', '528', '515', '182']\n",
            "289 ['89', '318', '357', '483', '178', '50', '59', '316', '64', '480']\n",
            "209 ['187', '174', '705', '12', '64', '513', '478', '96', '169', '641']\n",
            "261 ['474', '86', '98', '603', '196', '515', '427', '512', '480', '498']\n",
            "88 ['408', '318', '136', '169', '275', '474', '483', '480', '513', '114']\n",
            "9 ['169', '408', '114', '603', '480', '12', '178', '657', '302', '923']\n",
            "247 ['483', '408', '169', '318', '513', '134', '511', '173', '114', '657']\n",
            "321 ['408', '114', '528', '169', '923', '178', '168', '318', '189', '166']\n",
            "266 ['64', '603', '318', '169', '127', '114', '408', '134', '427', '480']\n",
            "74 ['178', '318', '480', '408', '114', '169', '611', '513', '50', '483']\n",
            "238 ['169', '408', '178', '357', '633', '272', '22', '318', '483', '480']\n",
            "319 ['98', '318', '483', '513', '199', '136', '174', '22', '64', '316']\n",
            "323 ['313', '318', '174', '169', '480', '603', '496', '189', '178', '12']\n",
            "67 ['483', '408', '173', '513', '272', '603', '515', '169', '318', '511']\n",
            "211 ['178', '169', '513', '480', '408', '483', '89', '923', '272', '530']\n",
            "98 ['313', '318', '114', '603', '357', '48', '480', '169', '528', '488']\n",
            "12 ['22', '315', '408', '427', '169', '79', '923', '12', '496', '488']\n",
            "40 ['169', '408', '114', '603', '480', '483', '174', '98', '89', '50']\n",
            "258 ['169', '515', '657', '178', '87', '127', '511', '483', '56', '524']\n",
            "228 ['191', '923', '127', '251', '50', '318', '185', '408', '12', '178']\n",
            "325 ['603', '657', '516', '607', '59', '488', '302', '45', '192', '89']\n",
            "320 ['169', '513', '657', '98', '408', '483', '114', '313', '963', '603']\n",
            "326 ['1524', '709', '114', '647', '165', '223', '316', '12', '166', '272']\n",
            "327 ['483', '187', '493', '205', '654', '479', '480', '606', '519', '185']\n",
            "183 ['603', '169', '408', '178', '657', '87', '318', '313', '488', '98']\n",
            "328 ['191', '513', '408', '707', '190', '479', '516', '178', '251', '114']\n",
            "322 ['408', '199', '169', '480', '515', '114', '187', '191', '963', '641']\n",
            "330 ['242', '302', '515', '480', '96', '79', '48', '408', '478', '189']\n",
            "27 ['169', '408', '127', '178', '190', '513', '174', '603', '963', '427']\n",
            "331 ['169', '50', '114', '12', '603', '272', '172', '474', '173', '408']\n",
            "332 ['603', '427', '480', '272', '483', '134', '169', '168', '190', '963']\n",
            "329 ['408', '318', '64', '114', '178', '357', '427', '511', '480', '513']\n",
            "86 ['64', '169', '98', '174', '189', '963', '408', '190', '923', '318']\n",
            "139 ['178', '169', '408', '114', '483', '318', '603', '89', '657', '357']\n",
            "300 ['483', '513', '316', '64', '641', '166', '168', '199', '251', '318']\n",
            "163 ['50', '169', '174', '483', '178', '408', '603', '657', '223', '199']\n",
            "333 ['50', '172', '181', '408', '169', '313', '1449', '114', '647', '285']\n",
            "334 ['654', '480', '114', '1449', '647', '646', '489', '177', '198', '178']\n",
            "39 ['12', '187', '127', '483', '64', '56', '178', '135', '23', '318']\n",
            "324 ['302', '474', '265', '86', '194', '603', '515', '427', '512', '165']\n",
            "132 ['64', '427', '98', '603', '480', '174', '408', '169', '272', '178']\n",
            "336 ['98', '318', '174', '178', '483', '22', '87', '59', '480', '195']\n",
            "335 ['197', '408', '603', '483', '318', '659', '488', '64', '114', '479']\n",
            "169 ['318', '408', '169', '251', '316', '923', '114', '178', '191', '12']\n",
            "338 ['48', '127', '89', '192', '285', '750', '428', '589', '64', '12']\n",
            "339 ['408', '318', '519', '513', '169', '482', '512', '606', '60', '275']\n",
            "309 ['408', '114', '483', '56', '169', '12', '187', '174', '50', '183']\n",
            "342 ['474', '480', '528', '512', '530', '896', '187', '340', '603', '180']\n",
            "340 ['22', '963', '216', '64', '19', '190', '318', '114', '251', '98']\n",
            "317 ['318', '174', '50', '408', '114', '173', '12', '483', '96', '195']\n",
            "341 ['474', '603', '515', '480', '275', '408', '178', '127', '318', '64']\n",
            "343 ['183', '178', '480', '484', '60', '430', '190', '316', '1142', '91']\n",
            "344 ['168', '178', '483', '134', '515', '480', '603', '199', '651', '114']\n",
            "345 ['603', '127', '511', '114', '134', '408', '657', '474', '169', '484']\n",
            "346 ['483', '114', '408', '199', '498', '528', '478', '170', '603', '484']\n",
            "347 ['64', '45', '647', '603', '265', '199', '641', '750', '165', '408']\n",
            "273 ['483', '408', '513', '12', '480', '169', '603', '923', '641', '515']\n",
            "55 ['313', '318', '169', '480', '408', '483', '427', '98', '12', '64']\n",
            "349 ['483', '408', '169', '357', '603', '427', '187', '318', '12', '511']\n",
            "348 ['603', '178', '64', '657', '408', '480', '483', '318', '114', '169']\n",
            "354 ['408', '474', '647', '12', '114', '203', '923', '514', '641', '178']\n",
            "351 ['98', '603', '427', '174', '79', '483', '408', '318', '64', '169']\n",
            "358 ['483', '480', '408', '474', '169', '320', '513', '603', '659', '923']\n",
            "352 ['480', '169', '318', '427', '408', '64', '127', '357', '498', '189']\n",
            "360 ['408', '169', '512', '318', '484', '611', '1194', '923', '114', '657']\n",
            "363 ['430', '515', '923', '633', '124', '736', '613', '269', '647', '64']\n",
            "355 ['302', '98', '603', '1137', '427', '480', '496', '174', '96', '195']\n",
            "362 ['64', '318', '483', '272', '408', '427', '178', '127', '603', '480']\n",
            "357 ['302', '474', '265', '144', '98', '194', '603', '181', '427', '480']\n",
            "356 ['50', '318', '127', '408', '178', '923', '357', '12', '480', '513']\n",
            "361 ['127', '318', '515', '483', '408', '114', '191', '320', '134', '313']\n",
            "365 ['127', '318', '169', '223', '357', '408', '603', '657', '480', '483']\n",
            "350 ['64', '496', '318', '408', '59', '169', '357', '56', '641', '12']\n",
            "367 ['474', '603', '515', '496', '132', '272', '172', '483', '408', '178']\n",
            "368 ['178', '134', '483', '357', '169', '408', '272', '963', '528', '114']\n",
            "371 ['318', '483', '187', '172', '513', '316', '408', '427', '12', '169']\n",
            "373 ['1019', '516', '657', '57', '316', '963', '408', '478', '258', '272']\n",
            "370 ['408', '169', '178', '318', '513', '251', '488', '483', '316', '165']\n",
            "374 ['313', '19', '402', '661', '166', '242', '215', '480', '966', '496']\n",
            "372 ['474', '194', '603', '196', '143', '515', '427', '480', '496', '174']\n",
            "337 ['483', '480', '114', '408', '169', '511', '611', '199', '512', '12']\n",
            "378 ['515', '169', '178', '187', '483', '408', '251', '134', '923', '114']\n",
            "366 ['302', '86', '194', '603', '143', '515', '427', '480', '498', '496']\n",
            "377 ['50', '603', '318', '474', '64', '172', '408', '357', '114', '479']\n",
            "375 ['50', '114', '64', '172', '408', '511', '181', '427', '173', '12']\n",
            "359 ['191', '12', '272', '169', '483', '89', '114', '318', '127', '513']\n",
            "379 ['134', '318', '408', '313', '114', '169', '272', '919', '483', '223']\n",
            "380 ['408', '169', '127', '124', '603', '178', '316', '657', '1137', '198']\n",
            "381 ['603', '127', '530', '408', '12', '199', '179', '513', '302', '9']\n",
            "385 ['137', '1194', '921', '615', '519', '515', '316', '179', '242', '463']\n",
            "382 ['169', '251', '528', '480', '427', '515', '488', '923', '408', '96']\n",
            "387 ['124', '519', '480', '134', '525', '479', '427', '60', '652', '647']\n",
            "364 ['318', '173', '483', '64', '480', '174', '12', '169', '50', '313']\n",
            "369 ['64', '480', '174', '318', '603', '427', '12', '272', '285', '408']\n",
            "388 ['181', '143', '427', '496', '174', '272', '172', '408', '178', '318']\n",
            "386 ['318', '178', '408', '64', '190', '59', '483', '169', '603', '173']\n",
            "389 ['169', '318', '408', '12', '114', '641', '515', '60', '89', '513']\n",
            "383 ['64', '408', '23', '187', '192', '8', '127', '242', '923', '527']\n",
            "390 ['408', '64', '173', '480', '318', '603', '174', '114', '357', '197']\n",
            "393 ['520', '513', '528', '251', '408', '1019', '178', '213', '19', '515']\n",
            "392 ['408', '135', '187', '483', '318', '654', '177', '480', '651', '661']\n",
            "376 ['474', '64', '408', '190', '169', '272', '178', '318', '56', '316']\n",
            "394 ['318', '64', '169', '357', '100', '187', '515', '603', '272', '45']\n",
            "391 ['408', '272', '285', '178', '513', '320', '192', '169', '654', '199']\n",
            "398 ['318', '313', '22', '515', '190', '963', '657', '169', '1142', '272']\n",
            "397 ['654', '169', '511', '168', '603', '482', '114', '64', '514', '173']\n",
            "399 ['86', '512', '316', '709', '178', '694', '513', '408', '165', '659']\n",
            "396 ['513', '483', '318', '136', '519', '408', '199', '511', '641', '174']\n",
            "401 ['313', '89', '98', '169', '178', '479', '166', '657', '12', '408']\n",
            "402 ['169', '98', '187', '657', '178', '64', '174', '318', '313', '357']\n",
            "384 ['603', '174', '483', '408', '64', '169', '12', '318', '511', '513']\n",
            "395 ['408', '357', '114', '190', '651', '199', '169', '12', '178', '603']\n",
            "353 ['64', '127', '318', '169', '408', '603', '515', '285', '923', '12']\n",
            "403 ['923', '300', '272', '12', '318', '19', '191', '265', '313', '251']\n",
            "405 ['144', '493', '237', '496', '805', '490', '114', '131', '136', '837']\n",
            "400 ['272', '318', '483', '603', '127', '178', '64', '223', '498', '189']\n",
            "406 ['408', '530', '169', '223', '1149', '963', '484', '1070', '603', '958']\n",
            "407 ['318', '12', '114', '83', '64', '480', '515', '272', '190', '42']\n",
            "409 ['169', '302', '183', '185', '408', '114', '189', '272', '320', '515']\n",
            "404 ['174', '169', '114', '50', '480', '657', '923', '98', '1019', '318']\n",
            "413 ['318', '408', '169', '178', '189', '285', '513', '170', '496', '483']\n",
            "416 ['483', '513', '528', '169', '963', '198', '189', '485', '604', '923']\n",
            "408 ['483', '12', '64', '603', '172', '174', '169', '178', '318', '195']\n",
            "410 ['98', '56', '114', '318', '173', '357', '50', '191', '427', '172']\n",
            "411 ['12', '114', '64', '357', '408', '483', '169', '427', '98', '178']\n",
            "417 ['318', '114', '408', '199', '136', '427', '516', '657', '520', '523']\n",
            "412 ['50', '302', '272', '127', '483', '641', '12', '519', '316', '313']\n",
            "420 ['169', '12', '178', '272', '318', '134', '189', '64', '474', '357']\n",
            "422 ['89', '316', '12', '318', '474', '56', '603', '272', '315', '483']\n",
            "425 ['480', '656', '175', '513', '114', '511', '408', '169', '251', '615']\n",
            "419 ['603', '98', '169', '64', '483', '480', '318', '285', '408', '657']\n",
            "415 ['12', '318', '427', '64', '923', '408', '100', '511', '357', '251']\n",
            "423 ['408', '318', '191', '64', '427', '357', '174', '50', '56', '199']\n",
            "429 ['408', '187', '315', '272', '285', '659', '135', '963', '647', '302']\n",
            "428 ['483', '408', '64', '199', '169', '50', '114', '223', '100', '480']\n",
            "427 ['242', '474', '265', '486', '144', '1', '98', '193', '194', '603']\n",
            "418 ['12', '50', '64', '357', '178', '318', '251', '124', '199', '479']\n",
            "424 ['483', '603', '272', '902', '479', '641', '285', '513', '528', '178']\n",
            "432 ['174', '64', '172', '96', '22', '178', '12', '511', '480', '427']\n",
            "421 ['357', '318', '483', '480', '64', '408', '178', '22', '512', '316']\n",
            "435 ['198', '315', '1019', '923', '30', '59', '178', '589', '513', '480']\n",
            "433 ['318', '169', '134', '357', '427', '178', '251', '127', '272', '64']\n",
            "426 ['169', '114', '408', '513', '251', '12', '272', '530', '313', '1449']\n",
            "436 ['178', '169', '176', '694', '606', '921', '528', '923', '483', '316']\n",
            "430 ['408', '483', '169', '251', '313', '223', '114', '197', '603', '657']\n",
            "434 ['187', '132', '169', '313', '513', '127', '603', '408', '178', '213']\n",
            "437 ['9', '408', '427', '114', '474', '488', '136', '647', '493', '631']\n",
            "438 ['272', '313', '114', '513', '483', '480', '166', '427', '174', '923']\n",
            "431 ['318', '64', '178', '174', '114', '923', '483', '50', '272', '408']\n",
            "442 ['173', '199', '657', '480', '175', '474', '589', '408', '513', '192']\n",
            "440 ['474', '98', '483', '408', '169', '50', '285', '513', '316', '170']\n",
            "445 ['187', '132', '134', '483', '427', '657', '641', '169', '178', '180']\n",
            "447 ['178', '172', '480', '318', '190', '64', '127', '427', '272', '313']\n",
            "449 ['357', '50', '408', '318', '12', '134', '174', '169', '427', '511']\n",
            "450 ['408', '515', '1073', '513', '529', '863', '1137', '19', '251', '57']\n",
            "446 ['272', '318', '96', '169', '357', '603', '174', '64', '178', '427']\n",
            "439 ['479', '408', '483', '316', '647', '50', '511', '114', '64', '45']\n",
            "451 ['313', '173', '181', '50', '237', '223', '176', '121', '272', '114']\n",
            "452 ['408', '258', '190', '657', '169', '429', '484', '505', '601', '302']\n",
            "454 ['19', '963', '408', '166', '923', '223', '190', '966', '189', '333']\n",
            "453 ['114', '89', '315', '251', '169', '483', '511', '187', '408', '64']\n",
            "414 ['408', '12', '169', '187', '50', '474', '127', '511', '174', '172']\n",
            "455 ['408', '483', '114', '963', '520', '169', '251', '655', '923', '661']\n",
            "444 ['427', '408', '12', '114', '178', '511', '480', '285', '530', '64']\n",
            "448 ['187', '127', '603', '408', '657', '98', '174', '611', '199', '19']\n",
            "457 ['603', '427', '408', '199', '480', '178', '515', '302', '657', '313']\n",
            "456 ['657', '408', '316', '169', '285', '137', '513', '276', '654', '511']\n",
            "458 ['175', '89', '705', '1449', '657', '251', '511', '320', '646', '606']\n",
            "462 ['174', '483', '178', '318', '64', '199', '198', '114', '408', '1']\n",
            "459 ['313', '272', '173', '483', '657', '318', '136', '89', '434', '408']\n",
            "460 ['98', '64', '483', '316', '408', '427', '318', '315', '114', '191']\n",
            "461 ['197', '483', '484', '192', '59', '512', '178', '603', '114', '705']\n",
            "467 ['169', '408', '483', '114', '56', '511', '641', '513', '603', '480']\n",
            "468 ['169', '313', '480', '750', '408', '483', '496', '1142', '189', '474']\n",
            "466 ['272', '923', '169', '45', '189', '483', '530', '647', '480', '285']\n",
            "472 ['242', '302', '86', '246', '515', '512', '165', '480', '479', '1240']\n",
            "465 ['657', '187', '963', '176', '694', '1193', '316', '272', '9', '483']\n",
            "463 ['318', '64', '12', '136', '272', '408', '479', '199', '709', '114']\n",
            "471 ['64', '480', '408', '190', '28', '966', '165', '652', '923', '513']\n",
            "474 ['408', '114', '223', '750', '144', '153', '1449', '1142', '1524', '169']\n",
            "469 ['408', '169', '318', '114', '480', '302', '251', '12', '357', '427']\n",
            "464 ['98', '169', '357', '223', '427', '408', '174', '251', '318', '178']\n",
            "476 ['515', '318', '50', '64', '483', '100', '408', '169', '114', '923']\n",
            "478 ['127', '483', '603', '313', '185', '191', '199', '513', '272', '528']\n",
            "473 ['483', '114', '64', '318', '603', '251', '513', '191', '178', '657']\n",
            "470 ['127', '187', '318', '483', '98', '511', '357', '114', '408', '172']\n",
            "480 ['513', '134', '657', '694', '178', '408', '60', '83', '251', '14']\n",
            "441 ['318', '480', '114', '923', '132', '513', '515', '357', '178', '272']\n",
            "479 ['641', '657', '134', '506', '124', '654', '64', '251', '114', '12']\n",
            "484 ['408', '12', '496', '64', '483', '190', '641', '169', '526', '114']\n",
            "486 ['357', '56', '603', '64', '318', '187', '223', '178', '427', '423']\n",
            "487 ['520', '187', '199', '19', '408', '480', '251', '169', '511', '427']\n",
            "482 ['408', '169', '603', '657', '59', '318', '513', '515', '483', '474']\n",
            "481 ['513', '408', '963', '169', '114', '511', '166', '178', '483', '528']\n",
            "492 ['357', '408', '963', '315', '169', '48', '659', '12', '174', '251']\n",
            "493 ['169', '199', '511', '216', '64', '648', '408', '516', '313', '114']\n",
            "490 ['98', '474', '169', '185', '183', '357', '408', '135', '199', '89']\n",
            "489 ['480', '408', '189', '64', '50', '22', '190', '174', '89', '657']\n",
            "483 ['408', '114', '647', '169', '172', '316', '483', '174', '516', '136']\n",
            "496 ['169', '114', '513', '475', '519', '48', '357', '178', '923', '12']\n",
            "494 ['169', '114', '190', '408', '318', '172', '480', '963', '659', '69']\n",
            "495 ['199', '169', '611', '59', '657', '408', '480', '923', '178', '652']\n",
            "477 ['242', '302', '474', '246', '98', '194', '603', '515', '919', '427']\n",
            "497 ['963', '357', '483', '519', '523', '528', '520', '64', '45', '48']\n",
            "488 ['513', '408', '313', '603', '169', '430', '479', '316', '966', '648']\n",
            "498 ['357', '408', '1194', '427', '165', '169', '45', '633', '198', '114']\n",
            "499 ['169', '923', '408', '89', '64', '178', '114', '285', '528', '170']\n",
            "491 ['318', '169', '50', '114', '483', '199', '647', '64', '134', '316']\n",
            "500 ['408', '169', '474', '654', '512', '171', '12', '511', '357', '519']\n",
            "502 ['172', '50', '173', '515', '22', '174', '98', '114', '64', '483']\n",
            "503 ['178', '480', '408', '528', '511', '251', '661', '114', '483', '641']\n",
            "504 ['513', '408', '166', '190', '165', '64', '657', '515', '611', '923']\n",
            "505 ['515', '251', '483', '513', '923', '87', '603', '1194', '484', '657']\n",
            "506 ['313', '480', '22', '1', '64', '302', '651', '318', '169', '144']\n",
            "443 ['318', '174', '64', '50', '143', '408', '480', '427', '496', '963']\n",
            "507 ['474', '265', '465', '86', '387', '274', '486', '144', '1', '95']\n",
            "514 ['480', '482', '56', '9', '519', '316', '187', '657', '603', '205']\n",
            "508 ['408', '285', '169', '286', '127', '134', '483', '64', '654', '603']\n",
            "511 ['483', '127', '223', '528', '408', '513', '603', '178', '318', '199']\n",
            "515 ['318', '408', '64', '169', '208', '223', '114', '479', '210', '22']\n",
            "512 ['483', '408', '515', '169', '480', '427', '12', '165', '511', '513']\n",
            "513 ['603', '427', '165', '480', '496', '174', '272', '172', '483', '408']\n",
            "475 ['603', '169', '134', '515', '480', '59', '178', '357', '98', '60']\n",
            "523 ['427', '483', '178', '318', '611', '22', '513', '98', '651', '136']\n",
            "518 ['318', '169', '59', '528', '313', '408', '923', '178', '114', '316']\n",
            "509 ['174', '169', '172', '483', '12', '318', '223', '480', '178', '64']\n",
            "516 ['178', '22', '483', '603', '64', '127', '285', '513', '98', '923']\n",
            "510 ['174', '480', '603', '64', '427', '114', '318', '197', '272', '408']\n",
            "524 ['408', '223', '10', '313', '856', '923', '427', '86', '902', '48']\n",
            "501 ['12', '603', '183', '174', '187', '318', '190', '427', '185', '408']\n",
            "525 ['169', '318', '114', '408', '173', '187', '64', '923', '50', '178']\n",
            "521 ['1194', '316', '483', '1449', '479', '169', '98', '192', '114', '408']\n",
            "520 ['318', '64', '408', '427', '169', '313', '98', '191', '357', '496']\n",
            "519 ['242', '302', '474', '246', '98', '193', '603', '100', '423', '515']\n",
            "528 ['172', '483', '64', '114', '480', '169', '318', '408', '272', '12']\n",
            "532 ['423', '174', '172', '69', '64', '169', '50', '378', '657', '923']\n",
            "530 ['603', '408', '134', '318', '427', '136', '513', '659', '190', '480']\n",
            "531 ['64', '483', '480', '100', '515', '603', '89', '408', '272', '114']\n",
            "529 ['64', '528', '483', '134', '963', '169', '498', '174', '48', '22']\n",
            "517 ['318', '923', '408', '513', '12', '169', '170', '357', '316', '242']\n",
            "527 ['408', '114', '483', '493', '519', '199', '302', '482', '98', '705']\n",
            "485 ['603', '408', '169', '14', '513', '190', '127', '12', '515', '480']\n",
            "533 ['302', '272', '485', '923', '79', '114', '604', '732', '481', '1449']\n",
            "535 ['272', '408', '169', '474', '430', '189', '251', '114', '320', '513']\n",
            "536 ['64', '114', '12', '963', '251', '178', '429', '57', '316', '313']\n",
            "526 ['12', '318', '64', '114', '174', '515', '923', '357', '191', '134']\n",
            "537 ['9', '408', '1137', '1449', '223', '156', '1007', '114', '659', '320']\n",
            "534 ['603', '181', '143', '427', '512', '165', '480', '174', '479', '272']\n",
            "541 ['272', '178', '480', '483', '136', '89', '98', '513', '603', '114']\n",
            "538 ['302', '272', '513', '408', '169', '313', '64', '603', '170', '520']\n",
            "542 ['474', '285', '603', '408', '185', '313', '663', '114', '134', '135']\n",
            "545 ['408', '611', '963', '169', '114', '694', '511', '512', '483', '480']\n",
            "539 ['408', '300', '169', '493', '611', '313', '516', '114', '251', '213']\n",
            "547 ['318', '12', '127', '603', '169', '98', '657', '357', '50', '408']\n",
            "543 ['427', '408', '483', '657', '316', '251', '511', '512', '607', '488']\n",
            "548 ['265', '166', '114', '174', '482', '429', '480', '408', '172', '511']\n",
            "546 ['603', '174', '96', '169', '166', '657', '1449', '285', '427', '511']\n",
            "522 ['408', '357', '64', '479', '169', '511', '427', '127', '56', '603']\n",
            "551 ['483', '197', '513', '344', '165', '657', '199', '709', '511', '190']\n",
            "544 ['318', '127', '357', '408', '114', '50', '12', '603', '64', '480']\n",
            "553 ['357', '318', '493', '169', '408', '272', '12', '251', '285', '709']\n",
            "552 ['64', '483', '318', '408', '114', '511', '12', '272', '603', '191']\n",
            "540 ['318', '408', '483', '169', '511', '114', '178', '603', '64', '12']\n",
            "554 ['64', '408', '357', '313', '169', '480', '603', '114', '611', '144']\n",
            "550 ['12', '408', '357', '198', '114', '22', '483', '169', '178', '173']\n",
            "556 ['169', '313', '357', '114', '50', '408', '515', '272', '483', '205']\n",
            "559 ['408', '178', '166', '603', '923', '64', '183', '114', '169', '165']\n",
            "560 ['511', '408', '64', '251', '185', '172', '199', '178', '285', '114']\n",
            "561 ['134', '127', '137', '60', '408', '654', '647', '856', '519', '525']\n",
            "563 ['98', '64', '187', '318', '127', '480', '174', '408', '313', '923']\n",
            "566 ['185', '528', '513', '427', '357', '474', '180', '654', '603', '641']\n",
            "557 ['318', '64', '923', '114', '483', '515', '316', '427', '408', '511']\n",
            "558 ['408', '427', '114', '64', '169', '199', '483', '12', '318', '480']\n",
            "564 ['513', '318', '963', '483', '22', '480', '603', '408', '169', '519']\n",
            "565 ['302', '474', '603', '275', '272', '408', '178', '64', '169', '12']\n",
            "573 ['64', '483', '114', '169', '318', '408', '199', '963', '484', '923']\n",
            "549 ['64', '12', '318', '603', '174', '272', '223', '408', '657', '178']\n",
            "567 ['528', '200', '515', '408', '86', '428', '694', '921', '1194', '275']\n",
            "569 ['408', '318', '169', '48', '64', '513', '223', '515', '272', '427']\n",
            "562 ['496', '603', '513', '136', '64', '651', '178', '97', '966', '527']\n",
            "576 ['318', '923', '174', '408', '427', '272', '169', '64', '480', '178']\n",
            "577 ['178', '513', '272', '478', '603', '170', '169', '519', '657', '921']\n",
            "579 ['181', '483', '64', '174', '318', '172', '302', '480', '604', '519']\n",
            "574 ['318', '191', '64', '169', '172', '178', '408', '657', '515', '190']\n",
            "555 ['178', '483', '114', '313', '272', '515', '134', '408', '242', '963']\n",
            "572 ['427', '663', '483', '169', '132', '513', '64', '187', '127', '180']\n",
            "575 ['89', '408', '178', '185', '272', '169', '519', '12', '302', '251']\n",
            "584 ['408', '496', '169', '64', '12', '480', '136', '603', '127', '427']\n",
            "588 ['659', '589', '191', '963', '657', '134', '520', '408', '489', '512']\n",
            "587 ['178', '172', '64', '515', '173', '12', '98', '483', '189', '603']\n",
            "568 ['408', '275', '124', '169', '513', '285', '480', '12', '963', '114']\n",
            "586 ['169', '114', '483', '513', '180', '48', '98', '657', '408', '963']\n",
            "585 ['408', '50', '357', '12', '318', '174', '427', '187', '64', '169']\n",
            "582 ['127', '408', '169', '511', '302', '12', '474', '657', '134', '175']\n",
            "591 ['318', '169', '178', '483', '180', '170', '12', '427', '272', '114']\n",
            "581 ['169', '603', '12', '408', '64', '185', '170', '513', '923', '318']\n",
            "592 ['511', '175', '474', '156', '190', '200', '171', '493', '647', '1449']\n",
            "580 ['98', '313', '174', '496', '64', '169', '318', '172', '178', '173']\n",
            "590 ['56', '169', '483', '408', '12', '191', '302', '114', '318', '223']\n",
            "593 ['168', '320', '515', '114', '205', '64', '435', '657', '484', '923']\n",
            "583 ['178', '408', '166', '285', '641', '64', '603', '190', '59', '23']\n",
            "596 ['318', '169', '195', '427', '114', '178', '923', '408', '89', '483']\n",
            "570 ['408', '318', '114', '483', '484', '480', '603', '64', '251', '50']\n",
            "599 ['603', '272', '408', '318', '64', '114', '300', '313', '169', '173']\n",
            "589 ['483', '178', '134', '191', '530', '199', '318', '511', '408', '963']\n",
            "594 ['408', '603', '169', '427', '64', '513', '98', '187', '12', '480']\n",
            "597 ['318', '174', '12', '64', '923', '963', '96', '408', '251', '169']\n",
            "578 ['408', '603', '657', '515', '169', '528', '114', '483', '64', '923']\n",
            "601 ['169', '315', '515', '316', '408', '114', '189', '474', '313', '199']\n",
            "602 ['169', '408', '114', '64', '483', '134', '511', '963', '923', '657']\n",
            "600 ['318', '408', '169', '64', '199', '1137', '513', '496', '498', '483']\n",
            "605 ['515', '474', '603', '313', '114', '316', '56', '134', '661', '199']\n",
            "603 ['318', '114', '98', '480', '357', '408', '64', '520', '185', '192']\n",
            "595 ['357', '318', '408', '64', '285', '191', '169', '12', '185', '427']\n",
            "606 ['169', '513', '318', '114', '190', '657', '515', '480', '272', '316']\n",
            "608 ['180', '14', '320', '12', '191', '488', '474', '1137', '285', '408']\n",
            "607 ['114', '408', '316', '484', '647', '134', '89', '657', '251', '12']\n",
            "610 ['64', '603', '513', '170', '285', '519', '178', '515', '408', '316']\n",
            "611 ['174', '198', '408', '318', '190', '64', '169', '12', '96', '513']\n",
            "617 ['408', '923', '474', '659', '135', '114', '657', '513', '1449', '633']\n",
            "618 ['178', '180', '357', '603', '527', '498', '194', '480', '199', '467']\n",
            "614 ['114', '408', '480', '12', '656', '511', '483', '519', '169', '133']\n",
            "609 ['64', '169', '427', '318', '69', '98', '480', '603', '511', '479']\n",
            "615 ['408', '474', '483', '513', '64', '114', '318', '169', '185', '659']\n",
            "616 ['12', '408', '64', '114', '1449', '603', '483', '427', '191', '318']\n",
            "620 ['169', '272', '178', '1449', '657', '513', '603', '1194', '483', '251']\n",
            "571 ['513', '408', '474', '483', '89', '12', '603', '515', '316', '318']\n",
            "619 ['210', '318', '963', '520', '64', '12', '191', '19', '169', '69']\n",
            "613 ['114', '169', '427', '408', '484', '483', '513', '480', '285', '45']\n",
            "622 ['187', '318', '114', '258', '641', '357', '315', '647', '483', '963']\n",
            "621 ['114', '513', '64', '483', '98', '251', '169', '272', '69', '603']\n",
            "604 ['408', '169', '318', '50', '114', '963', '12', '651', '511', '178']\n",
            "624 ['64', '169', '98', '655', '12', '408', '318', '191', '483', '963']\n",
            "612 ['169', '318', '408', '603', '178', '64', '483', '114', '474', '657']\n",
            "627 ['168', '408', '483', '285', '515', '315', '127', '519', '134', '357']\n",
            "623 ['98', '169', '22', '64', '511', '318', '357', '172', '408', '114']\n",
            "628 ['265', '86', '486', '144', '98', '194', '603', '100', '181', '196']\n",
            "625 ['12', '318', '474', '114', '223', '427', '64', '1449', '923', '56']\n",
            "629 ['483', '134', '170', '408', '169', '511', '318', '313', '657', '493']\n",
            "633 ['408', '513', '89', '12', '603', '187', '923', '174', '169', '316']\n",
            "632 ['408', '114', '313', '178', '169', '205', '496', '478', '199', '736']\n",
            "631 ['169', '408', '12', '923', '59', '661', '168', '199', '50', '483']\n",
            "634 ['169', '603', '187', '178', '114', '64', '528', '318', '191', '133']\n",
            "639 ['408', '169', '641', '190', '603', '480', '489', '134', '474', '921']\n",
            "630 ['480', '427', '513', '528', '923', '483', '512', '169', '1194', '178']\n",
            "642 ['196', '241', '300', '923', '1019', '161', '528', '282', '520', '1160']\n",
            "637 ['923', '64', '496', '169', '313', '114', '481', '427', '59', '516']\n",
            "640 ['515', '172', '483', '408', '127', '191', '50', '187', '114', '98']\n",
            "626 ['100', '169', '50', '318', '483', '178', '64', '12', '515', '408']\n",
            "643 ['178', '480', '64', '272', '511', '1007', '135', '180', '285', '530']\n",
            "598 ['427', '12', '408', '357', '114', '318', '479', '64', '191', '272']\n",
            "638 ['318', '272', '64', '313', '496', '12', '114', '69', '173', '189']\n",
            "635 ['408', '169', '134', '318', '511', '64', '515', '483', '50', '173']\n",
            "644 ['603', '483', '408', '169', '611', '513', '657', '190', '1449', '166']\n",
            "636 ['98', '48', '483', '408', '318', '189', '64', '357', '169', '12']\n",
            "645 ['408', '178', '603', '169', '511', '589', '127', '187', '285', '515']\n",
            "648 ['166', '651', '732', '378', '515', '12', '302', '327', '31', '119']\n",
            "647 ['408', '513', '64', '480', '318', '127', '169', '187', '12', '923']\n",
            "650 ['318', '12', '114', '178', '64', '408', '513', '192', '57', '1007']\n",
            "651 ['318', '169', '408', '12', '174', '187', '98', '178', '50', '64']\n",
            "654 ['202', '64', '96', '480', '603', '133', '132', '429', '493', '419']\n",
            "653 ['12', '516', '169', '483', '316', '114', '190', '847', '923', '315']\n",
            "655 ['408', '641', '1449', '589', '608', '169', '114', '494', '488', '1021']\n",
            "649 ['64', '285', '513', '483', '603', '272', '496', '12', '357', '408']\n",
            "658 ['479', '1194', '187', '483', '251', '12', '114', '657', '641', '513']\n",
            "656 ['169', '408', '603', '318', '480', '483', '171', '657', '251', '114']\n",
            "660 ['520', '12', '408', '114', '199', '178', '251', '170', '169', '45']\n",
            "659 ['1039', '427', '408', '169', '513', '515', '633', '480', '285', '488']\n",
            "646 ['923', '174', '318', '513', '50', '132', '408', '98', '64', '169']\n",
            "663 ['513', '22', '483', '511', '190', '285', '480', '172', '48', '408']\n",
            "664 ['474', '114', '357', '178', '511', '199', '9', '59', '647', '170']\n",
            "657 ['64', '483', '513', '127', '408', '511', '496', '178', '136', '480']\n",
            "665 ['64', '408', '169', '515', '318', '479', '603', '963', '316', '480']\n",
            "666 ['408', '528', '285', '1194', '589', '59', '165', '694', '14', '60']\n",
            "661 ['483', '12', '114', '513', '98', '59', '923', '651', '187', '251']\n",
            "662 ['134', '483', '657', '98', '427', '1449', '272', '12', '511', '169']\n",
            "667 ['12', '408', '169', '56', '64', '603', '173', '114', '474', '170']\n",
            "641 ['169', '408', '318', '178', '603', '272', '488', '923', '87', '654']\n",
            "668 ['474', '603', '64', '12', '127', '169', '408', '520', '175', '483']\n",
            "673 ['174', '22', '64', '178', '251', '408', '318', '172', '50', '923']\n",
            "671 ['143', '313', '318', '272', '1039', '923', '114', '705', '651', '315']\n",
            "669 ['589', '178', '185', '134', '498', '513', '209', '199', '182', '528']\n",
            "676 ['651', '96', '478', '408', '923', '430', '45', '178', '498', '57']\n",
            "674 ['513', '483', '408', '187', '474', '98', '64', '657', '136', '515']\n",
            "652 ['408', '169', '480', '98', '64', '483', '114', '603', '127', '427']\n",
            "677 ['181', '50', '172', '174', '166', '641', '195', '483', '12', '604']\n",
            "682 ['313', '169', '316', '519', '178', '921', '251', '511', '513', '285']\n",
            "679 ['474', '89', '12', '98', '515', '178', '251', '114', '316', '408']\n",
            "684 ['169', '603', '89', '114', '313', '528', '87', '515', '174', '199']\n",
            "685 ['483', '657', '174', '50', '98', '172', '169', '511', '480', '285']\n",
            "683 ['483', '180', '134', '654', '603', '23', '408', '427', '963', '100']\n",
            "691 ['408', '12', '169', '100', '427', '173', '357', '127', '199', '59']\n",
            "672 ['169', '408', '923', '513', '178', '272', '302', '318', '603', '48']\n",
            "692 ['169', '318', '483', '408', '170', '50', '191', '114', '272', '134']\n",
            "690 ['318', '651', '100', '22', '427', '313', '169', '190', '408', '511']\n",
            "689 ['174', '169', '22', '96', '173', '408', '12', '641', '483', '318']\n",
            "686 ['515', '479', '483', '408', '169', '136', '519', '175', '641', '488']\n",
            "693 ['169', '408', '603', '923', '657', '474', '663', '285', '251', '60']\n",
            "688 ['242', '346', '474', '265', '465', '86', '257', '222', '392', '486']\n",
            "697 ['100', '427', '480', '408', '430', '169', '646', '521', '114', '197']\n",
            "698 ['178', '64', '272', '313', '169', '318', '114', '963', '126', '186']\n",
            "670 ['50', '258', '408', '318', '181', '169', '313', '641', '22', '114']\n",
            "694 ['12', '64', '513', '408', '169', '963', '166', '114', '134', '316']\n",
            "680 ['603', '173', '191', '357', '127', '12', '427', '480', '313', '132']\n",
            "705 ['1019', '615', '114', '57', '271', '480', '603', '694', '519', '170']\n",
            "701 ['603', '408', '169', '12', '923', '64', '223', '98', '480', '251']\n",
            "699 ['169', '189', '178', '513', '313', '89', '480', '963', '498', '242']\n",
            "704 ['408', '483', '427', '474', '64', '56', '12', '169', '223', '513']\n",
            "707 ['169', '408', '223', '493', '272', '657', '315', '60', '475', '1449']\n",
            "700 ['114', '12', '483', '302', '172', '272', '408', '22', '127', '191']\n",
            "687 ['134', '603', '427', '318', '191', '483', '480', '127', '496', '657']\n",
            "695 ['169', '705', '127', '285', '641', '657', '11', '178', '480', '56']\n",
            "675 ['513', '64', '408', '603', '169', '114', '480', '178', '611', '187']\n",
            "708 ['114', '318', '64', '172', '378', '483', '648', '12', '98', '528']\n",
            "709 ['483', '178', '357', '511', '180', '170', '963', '136', '238', '23']\n",
            "711 ['320', '12', '513', '178', '515', '474', '489', '285', '603', '100']\n",
            "710 ['178', '480', '513', '511', '615', '98', '661', '427', '519', '183']\n",
            "712 ['408', '114', '300', '963', '302', '1019', '183', '298', '64', '169']\n",
            "715 ['187', '513', '483', '127', '657', '170', '169', '429', '487', '178']\n",
            "713 ['474', '178', '64', '12', '318', '496', '515', '134', '251', '657']\n",
            "716 ['408', '272', '963', '169', '313', '9', '57', '251', '657', '223']\n",
            "681 ['483', '408', '1449', '285', '515', '169', '603', '479', '59', '480']\n",
            "678 ['408', '64', '199', '318', '511', '190', '498', '483', '134', '114']\n",
            "719 ['408', '191', '187', '12', '22', '651', '513', '251', '133', '515']\n",
            "702 ['169', '408', '483', '64', '183', '603', '50', '89', '100', '496']\n",
            "721 ['408', '210', '170', '59', '169', '705', '178', '496', '478', '114']\n",
            "714 ['1019', '89', '22', '195', '169', '114', '318', '173', '12', '483']\n",
            "717 ['427', '318', '191', '408', '185', '178', '357', '64', '657', '603']\n",
            "718 ['483', '318', '603', '83', '169', '178', '1449', '190', '302', '647']\n",
            "696 ['169', '96', '483', '408', '272', '320', '12', '173', '318', '64']\n",
            "722 ['169', '357', '408', '963', '480', '64', '318', '427', '313', '178']\n",
            "724 ['114', '173', '483', '50', '133', '174', '613', '520', '12', '498']\n",
            "727 ['318', '170', '59', '963', '316', '478', '251', '694', '513', '166']\n",
            "725 ['64', '169', '318', '408', '923', '513', '603', '190', '316', '178']\n",
            "706 ['641', '189', '318', '64', '483', '313', '513', '114', '174', '528']\n",
            "720 ['408', '169', '64', '483', '318', '114', '923', '134', '963', '185']\n",
            "729 ['483', '408', '484', '528', '513', '169', '48', '185', '488', '178']\n",
            "726 ['173', '50', '519', '191', '513', '480', '408', '136', '316', '169']\n",
            "728 ['480', '427', '169', '408', '64', '98', '318', '483', '1449', '251']\n",
            "703 ['64', '174', '98', '172', '190', '169', '963', '69', '513', '496']\n",
            "738 ['480', '427', '12', '114', '606', '736', '923', '521', '483', '963']\n",
            "736 ['408', '134', '169', '474', '1449', '483', '603', '272', '318', '427']\n",
            "734 ['316', '659', '272', '513', '408', '64', '136', '923', '169', '190']\n",
            "730 ['169', '408', '302', '511', '652', '603', '174', '187', '483', '480']\n",
            "743 ['169', '251', '285', '12', '923', '513', '199', '178', '127', '511']\n",
            "742 ['178', '483', '318', '12', '357', '64', '134', '187', '190', '513']\n",
            "737 ['483', '513', '199', '603', '963', '657', '408', '318', '114', '191']\n",
            "733 ['603', '316', '709', '483', '474', '251', '178', '315', '488', '98']\n",
            "745 ['114', '408', '48', '513', '223', '1137', '357', '963', '272', '56']\n",
            "740 ['178', '318', '64', '408', '272', '603', '480', '143', '427', '705']\n",
            "735 ['483', '318', '313', '169', '187', '408', '199', '423', '191', '923']\n",
            "747 ['515', '197', '922', '340', '114', '59', '589', '191', '641', '1524']\n",
            "723 ['408', '603', '251', '641', '199', '12', '98', '114', '64', '963']\n",
            "739 ['174', '513', '480', '178', '483', '169', '28', '210', '966', '8']\n",
            "749 ['318', '97', '408', '169', '59', '651', '316', '114', '493', '190']\n",
            "748 ['98', '12', '480', '272', '313', '923', '513', '100', '511', '223']\n",
            "746 ['114', '12', '169', '318', '408', '272', '641', '427', '478', '496']\n",
            "731 ['423', '174', '178', '316', '169', '50', '963', '22', '408', '318']\n",
            "750 ['50', '174', '251', '64', '169', '408', '272', '498', '178', '12']\n",
            "741 ['127', '12', '318', '191', '272', '64', '515', '251', '483', '205']\n",
            "751 ['169', '496', '963', '134', '114', '408', '707', '187', '529', '276']\n",
            "756 ['318', '172', '64', '513', '483', '169', '530', '316', '515', '408']\n",
            "757 ['408', '169', '318', '923', '12', '357', '480', '165', '528', '427']\n",
            "752 ['169', '603', '50', '480', '251', '923', '172', '178', '515', '408']\n",
            "758 ['189', '169', '114', '357', '89', '408', '57', '513', '318', '198']\n",
            "732 ['483', '408', '169', '174', '64', '12', '480', '612', '657', '488']\n",
            "762 ['318', '50', '408', '174', '12', '285', '272', '603', '313', '357']\n",
            "744 ['513', '408', '169', '488', '98', '511', '190', '480', '100', '64']\n",
            "754 ['408', '169', '173', '114', '64', '272', '427', '318', '50', '172']\n",
            "753 ['496', '136', '480', '408', '318', '114', '169', '611', '603', '513']\n",
            "763 ['474', '251', '408', '178', '647', '923', '641', '169', '134', '479']\n",
            "764 ['178', '408', '603', '190', '169', '285', '513', '483', '427', '511']\n",
            "767 ['318', '64', '12', '408', '127', '178', '19', '191', '511', '515']\n",
            "769 ['169', '408', '178', '64', '480', '483', '114', '513', '318', '272']\n",
            "755 ['318', '169', '64', '408', '313', '191', '657', '98', '923', '195']\n",
            "771 ['143', '963', '923', '705', '272', '480', '513', '64', '515', '136']\n",
            "768 ['64', '480', '603', '178', '496', '172', '98', '528', '923', '657']\n",
            "773 ['515', '657', '603', '654', '173', '474', '506', '178', '641', '199']\n",
            "765 ['513', '474', '169', '408', '64', '187', '251', '603', '483', '134']\n",
            "772 ['174', '318', '89', '12', '114', '127', '59', '64', '408', '479']\n",
            "766 ['169', '64', '408', '12', '515', '427', '60', '603', '285', '223']\n",
            "774 ['513', '42', '316', '483', '11', '283', '480', '921', '1240', '657']\n",
            "760 ['641', '285', '12', '114', '483', '1449', '169', '189', '963', '647']\n",
            "761 ['174', '79', '172', '641', '96', '173', '12', '64', '528', '318']\n",
            "777 ['114', '12', '169', '173', '83', '98', '923', '487', '408', '427']\n",
            "759 ['408', '169', '483', '114', '923', '318', '178', '22', '64', '480']\n",
            "776 ['12', '114', '172', '64', '178', '173', '408', '302', '285', '272']\n",
            "780 ['483', '408', '181', '64', '114', '169', '178', '513', '191', '478']\n",
            "779 ['923', '169', '427', '12', '272', '114', '172', '496', '408', '480']\n",
            "778 ['89', '483', '169', '272', '408', '513', '177', '175', '199', '657']\n",
            "782 ['64', '114', '318', '174', '12', '22', '408', '199', '483', '513']\n",
            "786 ['408', '169', '178', '272', '64', '251', '114', '513', '657', '170']\n",
            "784 ['169', '483', '408', '657', '114', '50', '511', '963', '64', '480']\n",
            "770 ['242', '474', '98', '603', '1137', '515', '427', '480', '200', '479']\n",
            "788 ['408', '127', '513', '484', '488', '479', '191', '136', '197', '134']\n",
            "789 ['603', '89', '114', '318', '357', '134', '191', '313', '654', '659']\n",
            "790 ['483', '134', '190', '513', '169', '64', '127', '272', '318', '528']\n",
            "787 ['114', '173', '64', '408', '318', '89', '98', '169', '357', '174']\n",
            "783 ['474', '603', '408', '134', '169', '657', '427', '187', '480', '185']\n",
            "785 ['172', '169', '98', '408', '114', '181', '519', '64', '191', '223']\n",
            "794 ['408', '318', '134', '12', '191', '179', '114', '483', '169', '199']\n",
            "781 ['511', '603', '12', '114', '408', '98', '168', '657', '169', '199']\n",
            "796 ['1019', '923', '169', '641', '114', '481', '239', '205', '302', '166']\n",
            "795 ['408', '483', '114', '474', '199', '178', '272', '64', '515', '134']\n",
            "793 ['178', '12', '172', '408', '183', '23', '251', '483', '134', '169']\n",
            "798 ['19', '12', '408', '520', '496', '512', '963', '114', '294', '1019']\n",
            "791 ['408', '64', '603', '178', '357', '318', '657', '172', '199', '45']\n",
            "802 ['174', '190', '50', '172', '169', '64', '173', '963', '82', '603']\n",
            "800 ['98', '318', '22', '483', '169', '12', '174', '651', '603', '190']\n",
            "804 ['169', '408', '923', '114', '189', '272', '430', '1019', '478', '313']\n",
            "803 ['182', '127', '187', '169', '285', '474', '134', '427', '56', '515']\n",
            "775 ['318', '178', '98', '174', '408', '251', '12', '198', '64', '185']\n",
            "792 ['50', '127', '172', '98', '64', '515', '408', '12', '511', '114']\n",
            "799 ['64', '318', '357', '603', '408', '169', '22', '963', '178', '69']\n",
            "805 ['23', '408', '474', '92', '285', '64', '511', '430', '654', '208']\n",
            "806 ['603', '134', '9', '1449', '114', '178', '657', '530', '661', '519']\n",
            "807 ['603', '316', '87', '694', '178', '963', '166', '83', '513', '19']\n",
            "797 ['174', '98', '172', '169', '483', '187', '318', '408', '603', '199']\n",
            "801 ['172', '64', '191', '12', '173', '50', '22', '114', '528', '603']\n",
            "809 ['64', '100', '127', '318', '357', '408', '480', '98', '474', '223']\n",
            "815 ['64', '186', '611', '429', '316', '966', '651', '189', '272', '12']\n",
            "817 ['169', '427', '50', '512', '480', '513', '357', '12', '515', '98']\n",
            "821 ['474', '480', '408', '513', '114', '316', '479', '251', '496', '50']\n",
            "818 ['223', '50', '174', '173', '169', '12', '483', '408', '647', '318']\n",
            "814 ['408', '169', '483', '513', '603', '178', '923', '1449', '427', '657']\n",
            "812 ['174', '50', '12', '313', '318', '480', '114', '483', '183', '22']\n",
            "823 ['357', '483', '511', '14', '114', '313', '178', '513', '192', '200']\n",
            "825 ['196', '300', '133', '96', '923', '22', '1019', '161', '79', '520']\n",
            "827 ['408', '513', '318', '282', '483', '603', '657', '480', '169', '515']\n",
            "829 ['12', '134', '64', '603', '127', '474', '483', '114', '480', '191']\n",
            "811 ['98', '603', '515', '480', '479', '272', '483', '408', '178', '318']\n",
            "830 ['64', '114', '318', '408', '199', '169', '963', '357', '496', '223']\n",
            "826 ['98', '64', '198', '480', '408', '12', '144', '173', '709', '169']\n",
            "831 ['172', '483', '114', '127', '98', '511', '318', '178', '302', '357']\n",
            "819 ['603', '318', '143', '178', '408', '657', '191', '483', '169', '515']\n",
            "828 ['185', '519', '603', '98', '318', '408', '12', '169', '474', '515']\n",
            "808 ['474', '603', '427', '480', '23', '496', '174', '479', '172', '483']\n",
            "835 ['408', '64', '513', '169', '480', '178', '611', '114', '659', '648']\n",
            "833 ['513', '519', '480', '603', '489', '60', '633', '463', '478', '606']\n",
            "836 ['513', '408', '169', '483', '199', '114', '251', '98', '511', '515']\n",
            "816 ['603', '408', '127', '64', '191', '22', '513', '963', '12', '515']\n",
            "838 ['192', '98', '483', '59', '515', '178', '479', '89', '135', '316']\n",
            "839 ['408', '114', '22', '603', '479', '189', '519', '480', '513', '169']\n",
            "840 ['408', '124', '427', '318', '114', '12', '178', '1449', '488', '60']\n",
            "832 ['515', '408', '483', '114', '480', '169', '272', '178', '98', '657']\n",
            "810 ['302', '474', '265', '246', '98', '194', '603', '100', '196', '515']\n",
            "844 ['357', '408', '114', '178', '169', '427', '603', '513', '98', '191']\n",
            "843 ['190', '408', '169', '694', '302', '513', '12', '483', '1019', '647']\n",
            "834 ['98', '64', '174', '318', '603', '79', '172', '12', '190', '22']\n",
            "846 ['100', '169', '114', '129', '223', '316', '171', '272', '408', '1194']\n",
            "837 ['318', '408', '143', '12', '479', '488', '357', '64', '427', '480']\n",
            "813 ['12', '89', '316', '251', '474', '173', '169', '408', '98', '513']\n",
            "842 ['408', '603', '169', '474', '657', '479', '480', '285', '178', '519']\n",
            "847 ['318', '64', '520', '408', '272', '199', '194', '178', '483', '169']\n",
            "848 ['408', '169', '114', '12', '96', '657', '302', '22', '923', '493']\n",
            "822 ['513', '480', '519', '98', '180', '318', '127', '483', '357', '479']\n",
            "852 ['169', '474', '512', '45', '513', '657', '357', '483', '134', '318']\n",
            "851 ['98', '169', '427', '408', '474', '511', '190', '69', '357', '516']\n",
            "849 ['242', '302', '474', '265', '144', '246', '98', '193', '194', '603']\n",
            "854 ['474', '169', '647', '192', '657', '408', '513', '1137', '179', '187']\n",
            "850 ['408', '64', '651', '178', '190', '423', '478', '498', '136', '114']\n",
            "858 ['408', '169', '513', '657', '483', '178', '474', '488', '661', '479']\n",
            "853 ['169', '483', '187', '96', '603', '12', '174', '408', '479', '657']\n",
            "855 ['127', '483', '64', '187', '318', '513', '178', '603', '313', '408']\n",
            "824 ['515', '98', '313', '318', '272', '480', '496', '483', '174', '178']\n",
            "845 ['408', '169', '114', '316', '513', '483', '285', '357', '661', '199']\n",
            "841 ['169', '408', '318', '64', '480', '657', '603', '483', '479', '173']\n",
            "859 ['64', '357', '127', '474', '657', '483', '197', '408', '513', '178']\n",
            "862 ['408', '190', '251', '513', '963', '641', '528', '178', '169', '694']\n",
            "856 ['408', '318', '169', '480', '64', '100', '127', '483', '89', '114']\n",
            "820 ['408', '515', '318', '197', '357', '127', '100', '511', '64', '50']\n",
            "863 ['64', '98', '114', '173', '169', '89', '172', '475', '318', '12']\n",
            "860 ['169', '408', '483', '511', '427', '1449', '603', '98', '318', '114']\n",
            "857 ['12', '483', '64', '114', '178', '603', '963', '169', '174', '408']\n",
            "864 ['923', '45', '480', '963', '709', '315', '251', '313', '316', '302']\n",
            "865 ['56', '12', '89', '199', '183', '316', '124', '483', '923', '272']\n",
            "868 ['357', '124', '318', '285', '425', '134', '286', '190', '275', '137']\n",
            "867 ['114', '647', '192', '408', '127', '479', '185', '275', '124', '493']\n",
            "861 ['172', '50', '318', '316', '169', '251', '483', '181', '272', '174']\n",
            "870 ['408', '1449', '187', '14', '269', '275', '285', '136', '1137', '8']\n",
            "871 ['98', '12', '963', '265', '513', '483', '64', '204', '199', '144']\n",
            "875 ['483', '178', '657', '408', '513', '251', '100', '318', '60', '1449']\n",
            "876 ['408', '169', '483', '64', '127', '498', '199', '189', '528', '513']\n",
            "872 ['318', '87', '114', '98', '923', '483', '174', '408', '28', '316']\n",
            "866 ['50', '647', '408', '169', '641', '57', '134', '657', '963', '114']\n",
            "877 ['169', '408', '513', '242', '474', '657', '511', '694', '187', '923']\n",
            "873 ['513', '89', '178', '483', '272', '408', '603', '480', '318', '169']\n",
            "880 ['496', '427', '1137', '507', '178', '48', '408', '483', '134', '479']\n",
            "878 ['408', '657', '169', '357', '114', '483', '603', '313', '480', '607']\n",
            "869 ['12', '134', '169', '124', '483', '114', '603', '408', '285', '223']\n",
            "881 ['114', '318', '408', '12', '313', '482', '496', '513', '603', '316']\n",
            "879 ['98', '169', '408', '313', '64', '357', '483', '174', '513', '480']\n",
            "883 ['641', '528', '1194', '1449', '169', '657', '483', '166', '525', '480']\n",
            "882 ['483', '408', '318', '12', '64', '136', '511', '651', '144', '127']\n",
            "884 ['134', '187', '408', '603', '483', '12', '654', '511', '169', '45']\n",
            "886 ['199', '520', '190', '302', '1007', '315', '272', '923', '408', '513']\n",
            "885 ['313', '22', '496', '64', '427', '483', '98', '513', '136', '272']\n",
            "889 ['272', '963', '176', '315', '316', '114', '863', '189', '57', '648']\n",
            "874 ['408', '12', '64', '603', '169', '318', '187', '513', '483', '132']\n",
            "892 ['169', '48', '528', '302', '408', '316', '654', '603', '427', '170']\n",
            "890 ['100', '9', '169', '180', '408', '178', '318', '191', '197', '199']\n",
            "893 ['64', '127', '318', '408', '174', '603', '651', '520', '357', '178']\n",
            "887 ['201', '512', '178', '114', '1019', '641', '213', '902', '1194', '657']\n",
            "891 ['302', '474', '98', '603', '515', '512', '480', '408', '169', '59']\n",
            "894 ['427', '357', '408', '480', '185', '127', '169', '135', '483', '178']\n",
            "896 ['169', '357', '56', '1063', '408', '178', '193', '657', '194', '316']\n",
            "897 ['427', '408', '963', '357', '169', '190', '64', '318', '213', '1039']\n",
            "901 ['483', '318', '170', '408', '265', '79', '316', '511', '513', '651']\n",
            "899 ['169', '313', '272', '189', '408', '480', '963', '100', '223', '316']\n",
            "903 ['199', '474', '483', '135', '313', '603', '480', '513', '408', '511']\n",
            "904 ['169', '98', '512', '64', '659', '318', '427', '223', '357', '923']\n",
            "907 ['242', '302', '474', '265', '95', '246', '194', '603', '196', '515']\n",
            "905 ['178', '408', '272', '169', '191', '427', '251', '187', '923', '183']\n",
            "902 ['357', '64', '408', '12', '174', '1137', '427', '114', '963', '190']\n",
            "898 ['172', '12', '50', '174', '169', '483', '96', '480', '963', '183']\n",
            "895 ['127', '513', '302', '318', '187', '408', '12', '603', '483', '480']\n",
            "906 ['318', '64', '12', '191', '483', '427', '114', '513', '480', '479']\n",
            "900 ['603', '408', '12', '709', '515', '479', '285', '169', '134', '64']\n",
            "908 ['169', '178', '272', '251', '408', '64', '705', '189', '187', '430']\n",
            "916 ['127', '169', '408', '178', '654', '357', '285', '199', '191', '187']\n",
            "911 ['408', '513', '64', '318', '12', '114', '178', '607', '316', '1007']\n",
            "912 ['603', '408', '513', '480', '923', '178', '1449', '320', '515', '136']\n",
            "914 ['408', '272', '316', '169', '603', '12', '513', '318', '251', '315']\n",
            "918 ['285', '1449', '513', '694', '657', '189', '169', '14', '515', '603']\n",
            "919 ['513', '251', '603', '408', '480', '178', '645', '515', '169', '189']\n",
            "921 ['22', '114', '195', '204', '265', '483', '480', '528', '12', '516']\n",
            "910 ['603', '427', '480', '483', '64', '285', '169', '187', '661', '178']\n",
            "913 ['197', '114', '479', '490', '480', '87', '192', '520', '515', '190']\n",
            "915 ['408', '134', '603', '357', '169', '483', '318', '480', '474', '64']\n",
            "922 ['318', '515', '408', '12', '272', '529', '114', '496', '603', '316']\n",
            "923 ['98', '603', '515', '427', '480', '479', '272', '483', '408', '178']\n",
            "928 ['242', '302', '474', '194', '603', '515', '427', '480', '174', '96']\n",
            "927 ['483', '12', '190', '178', '408', '1449', '272', '519', '480', '528']\n",
            "924 ['272', '169', '187', '657', '474', '515', '251', '483', '59', '478']\n",
            "929 ['408', '169', '178', '313', '191', '511', '528', '114', '285', '223']\n",
            "931 ['408', '318', '114', '64', '357', '178', '483', '480', '427', '474']\n",
            "917 ['483', '64', '603', '178', '56', '480', '479', '275', '302', '169']\n",
            "932 ['408', '127', '187', '318', '1203', '694', '641', '48', '132', '50']\n",
            "909 ['98', '603', '480', '483', '178', '127', '318', '64', '169', '12']\n",
            "934 ['79', '480', '48', '169', '98', '736', '408', '1194', '603', '318']\n",
            "933 ['408', '197', '199', '169', '480', '223', '603', '185', '272', '528']\n",
            "935 ['483', '496', '64', '50', '174', '318', '480', '427', '511', '272']\n",
            "938 ['519', '176', '82', '190', '659', '408', '169', '709', '611', '513']\n",
            "940 ['515', '963', '479', '199', '513', '408', '64', '169', '603', '114']\n",
            "888 ['479', '483', '408', '178', '285', '272', '515', '513', '603', '127']\n",
            "925 ['12', '169', '408', '178', '50', '515', '316', '923', '64', '603']\n",
            "942 ['169', '64', '408', '483', '136', '178', '98', '191', '963', '657']\n",
            "937 ['318', '174', '187', '127', '64', '357', '169', '178', '96', '98']\n",
            "926 ['173', '56', '114', '169', '251', '657', '603', '515', '178', '641']\n",
            "943 ['156', '357', '513', '520', '659', '180', '272', '199', '315', '178']\n",
            "939 ['302', '474', '98', '194', '603', '432', '196', '427', '512', '480']\n",
            "936 ['12', '513', '242', '169', '134', '64', '480', '178', '191', '474']\n",
            "930 ['98', '408', '136', '657', '87', '482', '483', '169', '611', '513']\n",
            "920 ['169', '408', '318', '357', '515', '480', '657', '114', '923', '198']\n",
            "941 ['318', '169', '603', '64', '50', '963', '178', '191', '423', '272']\n"
          ],
          "name": "stdout"
        }
      ]
    },
    {
      "cell_type": "code",
      "metadata": {
        "id": "kuIOrg-DDo4G",
        "colab_type": "code",
        "colab": {
          "base_uri": "https://localhost:8080/",
          "height": 187
        },
        "outputId": "0810d5e4-8559-4259-da30-7bdc1bea20d9"
      },
      "source": [
        "from collections import defaultdict\n",
        "\n",
        "from surprise import Dataset\n",
        "from surprise import SVD\n",
        "from surprise.model_selection import KFold\n",
        "\n",
        "\n",
        "def precision_recall_at_k(predictions, k=10, threshold=3.5):\n",
        "    '''Return precision and recall at k metrics for each user.'''\n",
        "\n",
        "    # First map the predictions to each user.\n",
        "    user_est_true = defaultdict(list)\n",
        "    for uid, _, true_r, est, _ in predictions:\n",
        "        user_est_true[uid].append((est, true_r))\n",
        "\n",
        "    precisions = dict()\n",
        "    recalls = dict()\n",
        "    for uid, user_ratings in user_est_true.items():\n",
        "\n",
        "        # Sort user ratings by estimated value\n",
        "        user_ratings.sort(key=lambda x: x[0], reverse=True)\n",
        "\n",
        "        # Number of relevant items\n",
        "        n_rel = sum((true_r >= threshold) for (_, true_r) in user_ratings)\n",
        "\n",
        "        # Number of recommended items in top k\n",
        "        n_rec_k = sum((est >= threshold) for (est, _) in user_ratings[:k])\n",
        "\n",
        "        # Number of relevant and recommended items in top k\n",
        "        n_rel_and_rec_k = sum(((true_r >= threshold) and (est >= threshold))\n",
        "                              for (est, true_r) in user_ratings[:k])\n",
        "\n",
        "        # Precision@K: Proportion of recommended items that are relevant\n",
        "        precisions[uid] = n_rel_and_rec_k / n_rec_k if n_rec_k != 0 else 1\n",
        "\n",
        "        # Recall@K: Proportion of relevant items that are recommended\n",
        "        recalls[uid] = n_rel_and_rec_k / n_rel if n_rel != 0 else 1\n",
        "\n",
        "    return precisions, recalls\n",
        "\n",
        "\n",
        "data = Dataset.load_builtin('ml-100k')\n",
        "kf = KFold(n_splits=5)\n",
        "algo = SVD()\n",
        "\n",
        "for trainset, testset in kf.split(data):\n",
        "    algo.fit(trainset)\n",
        "    predictions = algo.test(testset)\n",
        "    precisions, recalls = precision_recall_at_k(predictions, k=5, threshold=4)\n",
        "\n",
        "    # Precision and recall can then be averaged over all users\n",
        "    print(sum(prec for prec in precisions.values()) / len(precisions))\n",
        "    print(sum(rec for rec in recalls.values()) / len(recalls))"
      ],
      "execution_count": 16,
      "outputs": [
        {
          "output_type": "stream",
          "text": [
            "0.8806942968473254\n",
            "0.2566726732082153\n",
            "0.8775300778485492\n",
            "0.2543223298677209\n",
            "0.8786270346779901\n",
            "0.25437995297526134\n",
            "0.8732199787460144\n",
            "0.25736873899619095\n",
            "0.8622918880623445\n",
            "0.2581333868254998\n"
          ],
          "name": "stdout"
        }
      ]
    },
    {
      "cell_type": "code",
      "metadata": {
        "id": "w_hFWVxzHyWC",
        "colab_type": "code",
        "colab": {
          "base_uri": "https://localhost:8080/",
          "height": 272
        },
        "outputId": "8e1f846e-25e1-4113-b0bb-725629913654"
      },
      "source": [
        "import io  # needed because of weird encoding of u.item file\n",
        "\n",
        "from surprise import KNNBaseline\n",
        "from surprise import Dataset\n",
        "from surprise import get_dataset_dir\n",
        "\n",
        "\n",
        "def read_item_names():\n",
        "    \"\"\"Read the u.item file from MovieLens 100-k dataset and return two\n",
        "    mappings to convert raw ids into movie names and movie names into raw ids.\n",
        "    \"\"\"\n",
        "\n",
        "    file_name = get_dataset_dir() + '/ml-100k/ml-100k/u.item'\n",
        "    rid_to_name = {}\n",
        "    name_to_rid = {}\n",
        "    with io.open(file_name, 'r', encoding='ISO-8859-1') as f:\n",
        "        for line in f:\n",
        "            line = line.split('|')\n",
        "            rid_to_name[line[0]] = line[1]\n",
        "            name_to_rid[line[1]] = line[0]\n",
        "\n",
        "    return rid_to_name, name_to_rid\n",
        "\n",
        "\n",
        "# First, train the algortihm to compute the similarities between items\n",
        "data = Dataset.load_builtin('ml-100k')\n",
        "trainset = data.build_full_trainset()\n",
        "sim_options = {'name': 'pearson_baseline', 'user_based': False}\n",
        "algo = KNNBaseline(sim_options=sim_options)\n",
        "algo.fit(trainset)\n",
        "\n",
        "# Read the mappings raw id <-> movie name\n",
        "rid_to_name, name_to_rid = read_item_names()\n",
        "\n",
        "# Retrieve inner id of the movie Toy Story\n",
        "toy_story_raw_id = name_to_rid['Toy Story (1995)']\n",
        "toy_story_inner_id = algo.trainset.to_inner_iid(toy_story_raw_id)\n",
        "\n",
        "# Retrieve inner ids of the nearest neighbors of Toy Story.\n",
        "toy_story_neighbors = algo.get_neighbors(toy_story_inner_id, k=10)\n",
        "\n",
        "# Convert inner ids of the neighbors into names.\n",
        "toy_story_neighbors = (algo.trainset.to_raw_iid(inner_id)\n",
        "                       for inner_id in toy_story_neighbors)\n",
        "toy_story_neighbors = (rid_to_name[rid]\n",
        "                       for rid in toy_story_neighbors)\n",
        "\n",
        "print()\n",
        "print('The 10 nearest neighbors of Toy Story are:')\n",
        "for movie in toy_story_neighbors:\n",
        "    print(movie)"
      ],
      "execution_count": 17,
      "outputs": [
        {
          "output_type": "stream",
          "text": [
            "Estimating biases using als...\n",
            "Computing the pearson_baseline similarity matrix...\n",
            "Done computing similarity matrix.\n",
            "\n",
            "The 10 nearest neighbors of Toy Story are:\n",
            "Beauty and the Beast (1991)\n",
            "Raiders of the Lost Ark (1981)\n",
            "That Thing You Do! (1996)\n",
            "Lion King, The (1994)\n",
            "Craft, The (1996)\n",
            "Liar Liar (1997)\n",
            "Aladdin (1992)\n",
            "Cool Hand Luke (1967)\n",
            "Winnie the Pooh and the Blustery Day (1968)\n",
            "Indiana Jones and the Last Crusade (1989)\n"
          ],
          "name": "stdout"
        }
      ]
    },
    {
      "cell_type": "markdown",
      "metadata": {
        "id": "uaO-mRsTxIPj",
        "colab_type": "text"
      },
      "source": [
        "# Amazon Reviews Dataset"
      ]
    },
    {
      "cell_type": "code",
      "metadata": {
        "id": "89MAWjS9ywx3",
        "colab_type": "code",
        "colab": {}
      },
      "source": [
        "import pandas as pd"
      ],
      "execution_count": 0,
      "outputs": []
    },
    {
      "cell_type": "code",
      "metadata": {
        "id": "JxQNrZLVxGvE",
        "colab_type": "code",
        "colab": {}
      },
      "source": [
        "data1 = pd.read_csv('gdrive/My Drive/sample_us.tsv',sep='\\t',encoding='latin-1')"
      ],
      "execution_count": 0,
      "outputs": []
    },
    {
      "cell_type": "code",
      "metadata": {
        "id": "uDnS_O53zSVX",
        "colab_type": "code",
        "colab": {
          "base_uri": "https://localhost:8080/",
          "height": 564
        },
        "outputId": "7df57842-d02e-4679-94eb-1df4a088078d"
      },
      "source": [
        "data1.head()"
      ],
      "execution_count": 7,
      "outputs": [
        {
          "output_type": "execute_result",
          "data": {
            "text/html": [
              "<div>\n",
              "<style scoped>\n",
              "    .dataframe tbody tr th:only-of-type {\n",
              "        vertical-align: middle;\n",
              "    }\n",
              "\n",
              "    .dataframe tbody tr th {\n",
              "        vertical-align: top;\n",
              "    }\n",
              "\n",
              "    .dataframe thead th {\n",
              "        text-align: right;\n",
              "    }\n",
              "</style>\n",
              "<table border=\"1\" class=\"dataframe\">\n",
              "  <thead>\n",
              "    <tr style=\"text-align: right;\">\n",
              "      <th></th>\n",
              "      <th></th>\n",
              "      <th></th>\n",
              "      <th></th>\n",
              "      <th></th>\n",
              "      <th></th>\n",
              "      <th></th>\n",
              "      <th></th>\n",
              "      <th></th>\n",
              "      <th></th>\n",
              "      <th></th>\n",
              "      <th></th>\n",
              "      <th></th>\n",
              "      <th>bplist00Ñ\u0001\u0002_\u0010\u000fWebMainResourceÕ\u0003\u0004\u0005\u0006\u0007\b</th>\n",
              "      <th>Unnamed: 1</th>\n",
              "    </tr>\n",
              "  </thead>\n",
              "  <tbody>\n",
              "    <tr>\n",
              "      <th>_\u0010\u001bWebResourceTextEncodingName^WebResourceURL_\u0010\u0014WebResourceFrameName_\u0010\u000fWebResourceData_\u0010\u0013WebResourceMIMETypeUUTF-8_\u0010=https://s3.amazonaws.com/amazon-reviews-pds/tsv/sample_us.tsvPO\u0011&gt;ô&lt;html&gt;&lt;head&gt;&lt;/head&gt;&lt;body&gt;&lt;pre style=\"word-wrap: break-word; white-space: pre-wrap;\"&gt;marketplace</th>\n",
              "      <th>customer_id</th>\n",
              "      <th>review_id</th>\n",
              "      <th>product_id</th>\n",
              "      <th>product_parent</th>\n",
              "      <th>product_title</th>\n",
              "      <th>product_category</th>\n",
              "      <th>star_rating</th>\n",
              "      <th>helpful_votes</th>\n",
              "      <th>total_votes</th>\n",
              "      <th>vine</th>\n",
              "      <th>verified_purchase</th>\n",
              "      <th>review_headline</th>\n",
              "      <td>review_body</td>\n",
              "      <td>review_date</td>\n",
              "    </tr>\n",
              "    <tr>\n",
              "      <th rowspan=\"4\" valign=\"top\">US</th>\n",
              "      <th>18778586</th>\n",
              "      <th>RDIJS7QYB6XNR</th>\n",
              "      <th>B00EDBY7X8</th>\n",
              "      <th>122952789</th>\n",
              "      <th>Monopoly Junior Board Game</th>\n",
              "      <th>Toys</th>\n",
              "      <th>5</th>\n",
              "      <th>0</th>\n",
              "      <th>0</th>\n",
              "      <th>N</th>\n",
              "      <th>Y</th>\n",
              "      <th>Five Stars</th>\n",
              "      <td>Excellent!!!</td>\n",
              "      <td>2015-08-31</td>\n",
              "    </tr>\n",
              "    <tr>\n",
              "      <th>24769659</th>\n",
              "      <th>R36ED1U38IELG8</th>\n",
              "      <th>B00D7JFOPC</th>\n",
              "      <th>952062646</th>\n",
              "      <th>56 Pieces of Wooden Train Track Compatible with All Major Train Brands</th>\n",
              "      <th>Toys</th>\n",
              "      <th>5</th>\n",
              "      <th>0</th>\n",
              "      <th>0</th>\n",
              "      <th>N</th>\n",
              "      <th>Y</th>\n",
              "      <th>Good quality track at excellent price</th>\n",
              "      <td>Great quality wooden track (better than some o...</td>\n",
              "      <td>2015-08-31</td>\n",
              "    </tr>\n",
              "    <tr>\n",
              "      <th>44331596</th>\n",
              "      <th>R1UE3RPRGCOLD</th>\n",
              "      <th>B002LHA74O</th>\n",
              "      <th>818126353</th>\n",
              "      <th>Super Jumbo Playing Cards by S&amp;amp;S Worldwide</th>\n",
              "      <th>Toys</th>\n",
              "      <th>2</th>\n",
              "      <th>1</th>\n",
              "      <th>1</th>\n",
              "      <th>N</th>\n",
              "      <th>Y</th>\n",
              "      <th>Two Stars</th>\n",
              "      <td>Cards are not as big as pictured.</td>\n",
              "      <td>2015-08-31</td>\n",
              "    </tr>\n",
              "    <tr>\n",
              "      <th>23310293</th>\n",
              "      <th>R298788GS6I901</th>\n",
              "      <th>B00ARPLCGY</th>\n",
              "      <th>261944918</th>\n",
              "      <th>Barbie Doll and Fashions Barbie Gift Set</th>\n",
              "      <th>Toys</th>\n",
              "      <th>5</th>\n",
              "      <th>0</th>\n",
              "      <th>0</th>\n",
              "      <th>N</th>\n",
              "      <th>Y</th>\n",
              "      <th>my daughter loved it and i liked the price and it came ...</th>\n",
              "      <td>my daughter loved it and i liked the price and...</td>\n",
              "      <td>2015-08-31</td>\n",
              "    </tr>\n",
              "  </tbody>\n",
              "</table>\n",
              "</div>"
            ],
            "text/plain": [
              "                                                                                                                                                                                                                                                                                                          bplist00Ñ\u0001\u0002_\u0010\u000fWebMainResourceÕ\u0003\u0004\u0005\u0006\u0007\b   Unnamed: 1\n",
              "\n",
              "\n",
              "_\u0010\u001bWebResourceTextEncodingName^WebResourceURL... customer_id review_id      product_id product_parent product_title                                      product_category star_rating helpful_votes total_votes vine verified_purchase review_headline                                                                           review_body  review_date\n",
              "US                                                 18778586    RDIJS7QYB6XNR  B00EDBY7X8 122952789      Monopoly Junior Board Game                         Toys             5           0             0           N    Y                 Five Stars                                                                               Excellent!!!   2015-08-31\n",
              "                                                   24769659    R36ED1U38IELG8 B00D7JFOPC 952062646      56 Pieces of Wooden Train Track Compatible with... Toys             5           0             0           N    Y                 Good quality track at excellent price               Great quality wooden track (better than some o...   2015-08-31\n",
              "                                                   44331596    R1UE3RPRGCOLD  B002LHA74O 818126353      Super Jumbo Playing Cards by S&amp;S Worldwide     Toys             2           1             1           N    Y                 Two Stars                                                           Cards are not as big as pictured.   2015-08-31\n",
              "                                                   23310293    R298788GS6I901 B00ARPLCGY 261944918      Barbie Doll and Fashions Barbie Gift Set           Toys             5           0             0           N    Y                 my daughter loved it and i liked the price and ...  my daughter loved it and i liked the price and...   2015-08-31"
            ]
          },
          "metadata": {
            "tags": []
          },
          "execution_count": 7
        }
      ]
    },
    {
      "cell_type": "code",
      "metadata": {
        "id": "aFCimnvKzXZM",
        "colab_type": "code",
        "colab": {}
      },
      "source": [
        ""
      ],
      "execution_count": 0,
      "outputs": []
    },
    {
      "cell_type": "markdown",
      "metadata": {
        "id": "aBOZk8HqxHYo",
        "colab_type": "text"
      },
      "source": [
        ""
      ]
    }
  ]
}